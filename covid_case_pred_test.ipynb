{
  "nbformat": 4,
  "nbformat_minor": 0,
  "metadata": {
    "colab": {
      "name": "covid_case_pred_test.ipynb",
      "provenance": [],
      "collapsed_sections": [],
      "authorship_tag": "ABX9TyPOMPpAfd3jI1iSwdoFEqFW",
      "include_colab_link": true
    },
    "kernelspec": {
      "name": "python3",
      "display_name": "Python 3"
    },
    "language_info": {
      "name": "python"
    }
  },
  "cells": [
    {
      "cell_type": "markdown",
      "metadata": {
        "id": "view-in-github",
        "colab_type": "text"
      },
      "source": [
        "<a href=\"https://colab.research.google.com/github/azrizalg/azrizalg/blob/main/covid_case_pred_test.ipynb\" target=\"_parent\"><img src=\"https://colab.research.google.com/assets/colab-badge.svg\" alt=\"Open In Colab\"/></a>"
      ]
    },
    {
      "cell_type": "code",
      "metadata": {
        "id": "n7ezVQZs1FtU"
      },
      "source": [
        "import keras\n",
        "import matplotlib.pyplot as plt\n",
        "import pandas as pd\n",
        "import numpy as np"
      ],
      "execution_count": null,
      "outputs": []
    },
    {
      "cell_type": "code",
      "metadata": {
        "id": "v92cqpka1Wxu"
      },
      "source": [
        "url_case = 'https://raw.githubusercontent.com/CSSEGISandData/COVID-19/master/csse_covid_19_data/csse_covid_19_time_series/time_series_covid19_confirmed_global.csv'\n",
        "url_death = 'https://raw.githubusercontent.com/CSSEGISandData/COVID-19/master/csse_covid_19_data/csse_covid_19_time_series/time_series_covid19_deaths_global.csv'\n",
        "url_recovery = 'https://raw.githubusercontent.com/CSSEGISandData/COVID-19/master/csse_covid_19_data/csse_covid_19_time_series/time_series_covid19_recovered_global.csv'\n",
        "df_dataLokasi = pd.read_csv('https://drive.google.com/uc?export=download&id=1oSPiGpmAW08DnYPk0xg03fDwdKZduZOF')\n",
        "df_case = pd.read_csv(url_case)\n",
        "df_death = pd.read_csv(url_death)\n",
        "df_recovery = pd.read_csv(url_recovery)"
      ],
      "execution_count": null,
      "outputs": []
    },
    {
      "cell_type": "code",
      "metadata": {
        "id": "AehUBT701bZf"
      },
      "source": [
        "df_case = df_case.drop(['Province/State', 'Lat','Long'], axis=1)\n",
        "df_case = df_case.groupby(['Country/Region']).sum() #karena terdapat region yang double\n",
        "df_case = df_case.transpose().reset_index()\n",
        "df_case = pd.melt(df_case,id_vars=['index'])\n",
        "df_case.rename(columns={'value': 'total_cases'}, inplace=True)\n",
        "\n",
        "df_death = df_death.drop(['Province/State', 'Lat','Long'], axis=1)\n",
        "df_death = df_death.groupby(['Country/Region']).sum()\n",
        "df_death = df_death.transpose().reset_index()\n",
        "df_death = pd.melt(df_death,id_vars=['index'])\n",
        "df_death.rename(columns={'value': 'total_deaths'}, inplace=True)#inplace = dataframe di replace langsung\n",
        "\n",
        "df_recovery = df_recovery.drop(['Province/State', 'Lat','Long'], axis=1)\n",
        "df_recovery = df_recovery.groupby(['Country/Region']).sum()\n",
        "df_recovery = df_recovery.transpose().reset_index()\n",
        "df_recovery = pd.melt(df_recovery,id_vars=['index'])\n",
        "df_recovery.rename(columns={'value': 'total_recoveries'}, inplace=True)\n",
        "\n",
        "#merge ketiga dataframe diatas menjadi satu\n",
        "dataset = pd.merge(df_case, df_death, on=['index','Country/Region'])\n",
        "dataset = pd.merge(dataset, df_recovery, on=['index','Country/Region'])\n",
        "dataset.rename(columns={'index': 'tanggal'}, inplace=True)\n",
        "dataset['tanggal'] = pd.to_datetime(dataset['tanggal'])#ubah format kolom tanggal dari obj ke datetime\n",
        "df = dataset.groupby(['tanggal']).sum().reset_index()# digabung berdasarkan tanggalnya"
      ],
      "execution_count": null,
      "outputs": []
    },
    {
      "cell_type": "code",
      "metadata": {
        "id": "U7jWPYz81edJ"
      },
      "source": [
        "#kasus\n",
        "df['new_cases'] = df['total_cases'] - df['total_cases'].shift(+1, fill_value=0)#memasukkan selisih kasus dengan hari sebelumnya\n",
        "#df['new_cases'][df['new_cases'] < 0] = 0 #menghilangkan nilai negatif yang dihasilkan dari kode diatas\n",
        "\n",
        "#kematian\n",
        "df['new_deaths'] = df['total_deaths'] - df['total_deaths'].shift(+1, fill_value=0)\n",
        "#df['new_deaths'][df['new_deaths'] < 0] = 0 #menghilangkan nilai negatif yang dihasilkan dari kode diatas\n",
        "\n",
        "#recovery\n",
        "df['new_recoveries'] = df['total_recoveries'] - df['total_recoveries'].shift(+1, fill_value=0)\n",
        "\n",
        "#remove value negative\n",
        "col = ['new_cases','new_deaths','new_recoveries']\n",
        "df[col] = df[col].clip(lower=0)"
      ],
      "execution_count": null,
      "outputs": []
    },
    {
      "cell_type": "code",
      "metadata": {
        "colab": {
          "base_uri": "https://localhost:8080/",
          "height": 419
        },
        "id": "z4MzHgglaMDE",
        "outputId": "d8979ffc-73bf-4bb7-dfae-b263e2120f84"
      },
      "source": [
        "df"
      ],
      "execution_count": null,
      "outputs": [
        {
          "output_type": "execute_result",
          "data": {
            "text/html": [
              "<div>\n",
              "<style scoped>\n",
              "    .dataframe tbody tr th:only-of-type {\n",
              "        vertical-align: middle;\n",
              "    }\n",
              "\n",
              "    .dataframe tbody tr th {\n",
              "        vertical-align: top;\n",
              "    }\n",
              "\n",
              "    .dataframe thead th {\n",
              "        text-align: right;\n",
              "    }\n",
              "</style>\n",
              "<table border=\"1\" class=\"dataframe\">\n",
              "  <thead>\n",
              "    <tr style=\"text-align: right;\">\n",
              "      <th></th>\n",
              "      <th>tanggal</th>\n",
              "      <th>total_cases</th>\n",
              "      <th>total_deaths</th>\n",
              "      <th>total_recoveries</th>\n",
              "      <th>new_cases</th>\n",
              "      <th>new_deaths</th>\n",
              "      <th>new_recoveries</th>\n",
              "    </tr>\n",
              "  </thead>\n",
              "  <tbody>\n",
              "    <tr>\n",
              "      <th>0</th>\n",
              "      <td>2020-01-22</td>\n",
              "      <td>557</td>\n",
              "      <td>17</td>\n",
              "      <td>30</td>\n",
              "      <td>557</td>\n",
              "      <td>17</td>\n",
              "      <td>30</td>\n",
              "    </tr>\n",
              "    <tr>\n",
              "      <th>1</th>\n",
              "      <td>2020-01-23</td>\n",
              "      <td>655</td>\n",
              "      <td>18</td>\n",
              "      <td>32</td>\n",
              "      <td>98</td>\n",
              "      <td>1</td>\n",
              "      <td>2</td>\n",
              "    </tr>\n",
              "    <tr>\n",
              "      <th>2</th>\n",
              "      <td>2020-01-24</td>\n",
              "      <td>941</td>\n",
              "      <td>26</td>\n",
              "      <td>39</td>\n",
              "      <td>286</td>\n",
              "      <td>8</td>\n",
              "      <td>7</td>\n",
              "    </tr>\n",
              "    <tr>\n",
              "      <th>3</th>\n",
              "      <td>2020-01-25</td>\n",
              "      <td>1433</td>\n",
              "      <td>42</td>\n",
              "      <td>42</td>\n",
              "      <td>492</td>\n",
              "      <td>16</td>\n",
              "      <td>3</td>\n",
              "    </tr>\n",
              "    <tr>\n",
              "      <th>4</th>\n",
              "      <td>2020-01-26</td>\n",
              "      <td>2118</td>\n",
              "      <td>56</td>\n",
              "      <td>56</td>\n",
              "      <td>685</td>\n",
              "      <td>14</td>\n",
              "      <td>14</td>\n",
              "    </tr>\n",
              "    <tr>\n",
              "      <th>...</th>\n",
              "      <td>...</td>\n",
              "      <td>...</td>\n",
              "      <td>...</td>\n",
              "      <td>...</td>\n",
              "      <td>...</td>\n",
              "      <td>...</td>\n",
              "      <td>...</td>\n",
              "    </tr>\n",
              "    <tr>\n",
              "      <th>502</th>\n",
              "      <td>2021-06-07</td>\n",
              "      <td>173631266</td>\n",
              "      <td>3736513</td>\n",
              "      <td>111567881</td>\n",
              "      <td>320618</td>\n",
              "      <td>8062</td>\n",
              "      <td>421868</td>\n",
              "    </tr>\n",
              "    <tr>\n",
              "      <th>503</th>\n",
              "      <td>2021-06-08</td>\n",
              "      <td>173997437</td>\n",
              "      <td>3746919</td>\n",
              "      <td>111982400</td>\n",
              "      <td>366171</td>\n",
              "      <td>10406</td>\n",
              "      <td>414519</td>\n",
              "    </tr>\n",
              "    <tr>\n",
              "      <th>504</th>\n",
              "      <td>2021-06-09</td>\n",
              "      <td>174416271</td>\n",
              "      <td>3757343</td>\n",
              "      <td>112434908</td>\n",
              "      <td>418834</td>\n",
              "      <td>10424</td>\n",
              "      <td>452508</td>\n",
              "    </tr>\n",
              "    <tr>\n",
              "      <th>505</th>\n",
              "      <td>2021-06-10</td>\n",
              "      <td>174865276</td>\n",
              "      <td>3773339</td>\n",
              "      <td>112848412</td>\n",
              "      <td>449005</td>\n",
              "      <td>15996</td>\n",
              "      <td>413504</td>\n",
              "    </tr>\n",
              "    <tr>\n",
              "      <th>506</th>\n",
              "      <td>2021-06-11</td>\n",
              "      <td>175190536</td>\n",
              "      <td>3781048</td>\n",
              "      <td>113102445</td>\n",
              "      <td>325260</td>\n",
              "      <td>7709</td>\n",
              "      <td>254033</td>\n",
              "    </tr>\n",
              "  </tbody>\n",
              "</table>\n",
              "<p>507 rows × 7 columns</p>\n",
              "</div>"
            ],
            "text/plain": [
              "       tanggal  total_cases  ...  new_deaths  new_recoveries\n",
              "0   2020-01-22          557  ...          17              30\n",
              "1   2020-01-23          655  ...           1               2\n",
              "2   2020-01-24          941  ...           8               7\n",
              "3   2020-01-25         1433  ...          16               3\n",
              "4   2020-01-26         2118  ...          14              14\n",
              "..         ...          ...  ...         ...             ...\n",
              "502 2021-06-07    173631266  ...        8062          421868\n",
              "503 2021-06-08    173997437  ...       10406          414519\n",
              "504 2021-06-09    174416271  ...       10424          452508\n",
              "505 2021-06-10    174865276  ...       15996          413504\n",
              "506 2021-06-11    175190536  ...        7709          254033\n",
              "\n",
              "[507 rows x 7 columns]"
            ]
          },
          "metadata": {
            "tags": []
          },
          "execution_count": 238
        }
      ]
    },
    {
      "cell_type": "code",
      "metadata": {
        "id": "8qBPQ0FB2dNK"
      },
      "source": [
        "data_case = df[['tanggal', 'new_cases']]"
      ],
      "execution_count": null,
      "outputs": []
    },
    {
      "cell_type": "code",
      "metadata": {
        "colab": {
          "base_uri": "https://localhost:8080/"
        },
        "id": "rx4MqqgKacRM",
        "outputId": "b7103bfa-5852-4b0b-eb01-a5b811e96c2b"
      },
      "source": [
        "data_case['tanggal'] = pd.to_datetime(data_case['tanggal'])\n",
        "data_case.set_index(['tanggal'], inplace=True)\n",
        "data_case = data_case.asfreq(freq='D')"
      ],
      "execution_count": null,
      "outputs": [
        {
          "output_type": "stream",
          "text": [
            "/usr/local/lib/python3.7/dist-packages/ipykernel_launcher.py:1: SettingWithCopyWarning: \n",
            "A value is trying to be set on a copy of a slice from a DataFrame.\n",
            "Try using .loc[row_indexer,col_indexer] = value instead\n",
            "\n",
            "See the caveats in the documentation: https://pandas.pydata.org/pandas-docs/stable/user_guide/indexing.html#returning-a-view-versus-a-copy\n",
            "  \"\"\"Entry point for launching an IPython kernel.\n"
          ],
          "name": "stderr"
        }
      ]
    },
    {
      "cell_type": "code",
      "metadata": {
        "colab": {
          "base_uri": "https://localhost:8080/"
        },
        "id": "-GBcXnIa2ZyS",
        "outputId": "28de50c5-b413-4089-aa89-ddc428b06437"
      },
      "source": [
        "print(df.isnull().any())"
      ],
      "execution_count": null,
      "outputs": [
        {
          "output_type": "stream",
          "text": [
            "tanggal             False\n",
            "total_cases         False\n",
            "total_deaths        False\n",
            "total_recoveries    False\n",
            "new_cases           False\n",
            "new_deaths          False\n",
            "new_recoveries      False\n",
            "dtype: bool\n"
          ],
          "name": "stdout"
        }
      ]
    },
    {
      "cell_type": "code",
      "metadata": {
        "id": "-h25NG3ZUT9C"
      },
      "source": [
        "panjang = len(data_case)\n",
        "train = data_case.iloc[:panjang-21]\n",
        "test = data_case.iloc[panjang-21:]"
      ],
      "execution_count": null,
      "outputs": []
    },
    {
      "cell_type": "code",
      "metadata": {
        "colab": {
          "base_uri": "https://localhost:8080/",
          "height": 319
        },
        "id": "kHy4ROwwV6OW",
        "outputId": "8bda0741-90ff-4a8a-d593-e9c5ac604c27"
      },
      "source": [
        "train.plot()"
      ],
      "execution_count": null,
      "outputs": [
        {
          "output_type": "execute_result",
          "data": {
            "text/plain": [
              "<matplotlib.axes._subplots.AxesSubplot at 0x7fa567cee0d0>"
            ]
          },
          "metadata": {
            "tags": []
          },
          "execution_count": 243
        },
        {
          "output_type": "display_data",
          "data": {
            "image/png": "[encoded data removed]",
            "text/plain": [
              "<Figure size 432x288 with 1 Axes>"
            ]
          },
          "metadata": {
            "tags": [],
            "needs_background": "light"
          }
        }
      ]
    },
    {
      "cell_type": "markdown",
      "metadata": {
        "id": "6SnIvj8wYfdn"
      },
      "source": [
        "## Scalling"
      ]
    },
    {
      "cell_type": "code",
      "metadata": {
        "id": "WsRvslHPYg53"
      },
      "source": [
        "from sklearn.preprocessing import MinMaxScaler"
      ],
      "execution_count": null,
      "outputs": []
    },
    {
      "cell_type": "code",
      "metadata": {
        "id": "b2WjYsZVYzgG"
      },
      "source": [
        "scaler = MinMaxScaler()"
      ],
      "execution_count": null,
      "outputs": []
    },
    {
      "cell_type": "code",
      "metadata": {
        "colab": {
          "base_uri": "https://localhost:8080/"
        },
        "id": "kHSdvsMVY0jU",
        "outputId": "340223da-e874-4a87-90bb-aa3de0f12d0c"
      },
      "source": [
        "scaler.fit(train)"
      ],
      "execution_count": null,
      "outputs": [
        {
          "output_type": "execute_result",
          "data": {
            "text/plain": [
              "MinMaxScaler(copy=True, feature_range=(0, 1))"
            ]
          },
          "metadata": {
            "tags": []
          },
          "execution_count": 246
        }
      ]
    },
    {
      "cell_type": "code",
      "metadata": {
        "id": "iJBwFx19ZjHG"
      },
      "source": [
        "scaled_train = scaler.transform(train)\n",
        "scaled_test = scaler.transform(test)"
      ],
      "execution_count": null,
      "outputs": []
    },
    {
      "cell_type": "markdown",
      "metadata": {
        "id": "-P54HoxFbI-M"
      },
      "source": [
        "## generator"
      ]
    },
    {
      "cell_type": "code",
      "metadata": {
        "id": "HQ0fu-W8bKuW"
      },
      "source": [
        "from keras.preprocessing.sequence import TimeseriesGenerator"
      ],
      "execution_count": null,
      "outputs": []
    },
    {
      "cell_type": "code",
      "metadata": {
        "id": "xhsqSLZabPGv"
      },
      "source": [
        "from keras.models import Sequential\n",
        "from keras.layers import Dense\n",
        "from keras.layers import LSTM"
      ],
      "execution_count": null,
      "outputs": []
    },
    {
      "cell_type": "code",
      "metadata": {
        "id": "a3mVdr5pbQWk"
      },
      "source": [
        "n_input = 21\n",
        "n_features = 1\n",
        "\n",
        "train_generator = TimeseriesGenerator(scaled_train, scaled_train, length=n_input, batch_size=2)"
      ],
      "execution_count": null,
      "outputs": []
    },
    {
      "cell_type": "code",
      "metadata": {
        "id": "u89M-wzMbVUX"
      },
      "source": [
        "model = Sequential()\n",
        "\n",
        "model.add(LSTM(150, activation=\"relu\", input_shape=(n_input, n_features)))\n",
        "model.add(Dense(1))\n",
        "model.compile(optimizer = 'adam', loss='mse')"
      ],
      "execution_count": null,
      "outputs": []
    },
    {
      "cell_type": "code",
      "metadata": {
        "colab": {
          "base_uri": "https://localhost:8080/"
        },
        "id": "N2jEbGCubWoR",
        "outputId": "e1f664c5-bec4-4345-f290-0fbec6585560"
      },
      "source": [
        "model.summary()"
      ],
      "execution_count": null,
      "outputs": [
        {
          "output_type": "stream",
          "text": [
            "Model: \"sequential_7\"\n",
            "_________________________________________________________________\n",
            "Layer (type)                 Output Shape              Param #   \n",
            "=================================================================\n",
            "lstm_7 (LSTM)                (None, 150)               91200     \n",
            "_________________________________________________________________\n",
            "dense_7 (Dense)              (None, 1)                 151       \n",
            "=================================================================\n",
            "Total params: 91,351\n",
            "Trainable params: 91,351\n",
            "Non-trainable params: 0\n",
            "_________________________________________________________________\n"
          ],
          "name": "stdout"
        }
      ]
    },
    {
      "cell_type": "code",
      "metadata": {
        "colab": {
          "base_uri": "https://localhost:8080/"
        },
        "id": "cKAsuBV4bWkH",
        "outputId": "c41aa368-c1eb-4260-89e5-8d0baaf3452d"
      },
      "source": [
        "model.fit_generator(train_generator, epochs=55)"
      ],
      "execution_count": null,
      "outputs": [
        {
          "output_type": "stream",
          "text": [
            "Epoch 1/55\n"
          ],
          "name": "stdout"
        },
        {
          "output_type": "stream",
          "text": [
            "/usr/local/lib/python3.7/dist-packages/keras/engine/training.py:1915: UserWarning: `Model.fit_generator` is deprecated and will be removed in a future version. Please use `Model.fit`, which supports generators.\n",
            "  warnings.warn('`Model.fit_generator` is deprecated and '\n"
          ],
          "name": "stderr"
        },
        {
          "output_type": "stream",
          "text": [
            "233/233 [==============================] - 5s 15ms/step - loss: 0.0119\n",
            "Epoch 2/55\n",
            "233/233 [==============================] - 3s 15ms/step - loss: 0.0029\n",
            "Epoch 3/55\n",
            "233/233 [==============================] - 3s 15ms/step - loss: 0.0032\n",
            "Epoch 4/55\n",
            "233/233 [==============================] - 3s 14ms/step - loss: 0.0025\n",
            "Epoch 5/55\n",
            "233/233 [==============================] - 3s 14ms/step - loss: 0.0032\n",
            "Epoch 6/55\n",
            "233/233 [==============================] - 3s 14ms/step - loss: 0.0022\n",
            "Epoch 7/55\n",
            "233/233 [==============================] - 3s 14ms/step - loss: 0.0020\n",
            "Epoch 8/55\n",
            "233/233 [==============================] - 3s 14ms/step - loss: 0.0039\n",
            "Epoch 9/55\n",
            "233/233 [==============================] - 3s 14ms/step - loss: 0.0019\n",
            "Epoch 10/55\n",
            "233/233 [==============================] - 3s 14ms/step - loss: 0.0043\n",
            "Epoch 11/55\n",
            "233/233 [==============================] - 3s 14ms/step - loss: 0.0039\n",
            "Epoch 12/55\n",
            "233/233 [==============================] - 3s 14ms/step - loss: 0.0031\n",
            "Epoch 13/55\n",
            "233/233 [==============================] - 3s 14ms/step - loss: 0.0028\n",
            "Epoch 14/55\n",
            "233/233 [==============================] - 3s 14ms/step - loss: 0.0030\n",
            "Epoch 15/55\n",
            "233/233 [==============================] - 3s 14ms/step - loss: 0.0041\n",
            "Epoch 16/55\n",
            "233/233 [==============================] - 3s 14ms/step - loss: 0.0020\n",
            "Epoch 17/55\n",
            "233/233 [==============================] - 3s 14ms/step - loss: 0.0021\n",
            "Epoch 18/55\n",
            "233/233 [==============================] - 3s 14ms/step - loss: 0.0024\n",
            "Epoch 19/55\n",
            "233/233 [==============================] - 3s 14ms/step - loss: 0.0016\n",
            "Epoch 20/55\n",
            "233/233 [==============================] - 3s 14ms/step - loss: 0.0025\n",
            "Epoch 21/55\n",
            "233/233 [==============================] - 3s 14ms/step - loss: 0.0022\n",
            "Epoch 22/55\n",
            "233/233 [==============================] - 3s 14ms/step - loss: 0.0030\n",
            "Epoch 23/55\n",
            "233/233 [==============================] - 3s 14ms/step - loss: 0.0024\n",
            "Epoch 24/55\n",
            "233/233 [==============================] - 3s 14ms/step - loss: 0.0024\n",
            "Epoch 25/55\n",
            "233/233 [==============================] - 3s 15ms/step - loss: 0.0019\n",
            "Epoch 26/55\n",
            "233/233 [==============================] - 3s 15ms/step - loss: 0.0027\n",
            "Epoch 27/55\n",
            "233/233 [==============================] - 3s 14ms/step - loss: 0.0020\n",
            "Epoch 28/55\n",
            "233/233 [==============================] - 3s 14ms/step - loss: 0.0013\n",
            "Epoch 29/55\n",
            "233/233 [==============================] - 3s 15ms/step - loss: 0.0019\n",
            "Epoch 30/55\n",
            "233/233 [==============================] - 3s 15ms/step - loss: 0.0017\n",
            "Epoch 31/55\n",
            "233/233 [==============================] - 3s 15ms/step - loss: 0.0013\n",
            "Epoch 32/55\n",
            "233/233 [==============================] - 3s 14ms/step - loss: 0.0013\n",
            "Epoch 33/55\n",
            "233/233 [==============================] - 3s 15ms/step - loss: 8.4451e-04\n",
            "Epoch 34/55\n",
            "233/233 [==============================] - 3s 15ms/step - loss: 8.0385e-04\n",
            "Epoch 35/55\n",
            "233/233 [==============================] - 3s 15ms/step - loss: 0.0021\n",
            "Epoch 36/55\n",
            "233/233 [==============================] - 3s 14ms/step - loss: 0.0012\n",
            "Epoch 37/55\n",
            "233/233 [==============================] - 3s 15ms/step - loss: 0.0020\n",
            "Epoch 38/55\n",
            "233/233 [==============================] - 3s 14ms/step - loss: 0.0017\n",
            "Epoch 39/55\n",
            "233/233 [==============================] - 3s 14ms/step - loss: 0.0016\n",
            "Epoch 40/55\n",
            "233/233 [==============================] - 3s 14ms/step - loss: 0.0011\n",
            "Epoch 41/55\n",
            "233/233 [==============================] - 3s 14ms/step - loss: 8.7154e-04\n",
            "Epoch 42/55\n",
            "233/233 [==============================] - 3s 14ms/step - loss: 9.4209e-04\n",
            "Epoch 43/55\n",
            "233/233 [==============================] - 3s 14ms/step - loss: 0.0015\n",
            "Epoch 44/55\n",
            "233/233 [==============================] - 3s 14ms/step - loss: 0.0012\n",
            "Epoch 45/55\n",
            "233/233 [==============================] - 3s 15ms/step - loss: 0.0011\n",
            "Epoch 46/55\n",
            "233/233 [==============================] - 3s 15ms/step - loss: 0.0015\n",
            "Epoch 47/55\n",
            "233/233 [==============================] - 3s 14ms/step - loss: 8.7671e-04\n",
            "Epoch 48/55\n",
            "233/233 [==============================] - 3s 15ms/step - loss: 8.7496e-04\n",
            "Epoch 49/55\n",
            "233/233 [==============================] - 3s 15ms/step - loss: 0.0020\n",
            "Epoch 50/55\n",
            "233/233 [==============================] - 3s 15ms/step - loss: 0.0014\n",
            "Epoch 51/55\n",
            "233/233 [==============================] - 3s 15ms/step - loss: 0.0018\n",
            "Epoch 52/55\n",
            "233/233 [==============================] - 3s 14ms/step - loss: 0.0011\n",
            "Epoch 53/55\n",
            "233/233 [==============================] - 3s 15ms/step - loss: 0.0032\n",
            "Epoch 54/55\n",
            "233/233 [==============================] - 3s 14ms/step - loss: 9.1617e-04\n",
            "Epoch 55/55\n",
            "233/233 [==============================] - 3s 14ms/step - loss: 0.0022\n"
          ],
          "name": "stdout"
        },
        {
          "output_type": "execute_result",
          "data": {
            "text/plain": [
              "<keras.callbacks.History at 0x7fa551bf1fd0>"
            ]
          },
          "metadata": {
            "tags": []
          },
          "execution_count": 253
        }
      ]
    },
    {
      "cell_type": "code",
      "metadata": {
        "colab": {
          "base_uri": "https://localhost:8080/"
        },
        "id": "7b_OU_jNq9a0",
        "outputId": "7f49f912-85c6-46f7-cfea-4a9d9177e184"
      },
      "source": [
        "model.history.history.keys()"
      ],
      "execution_count": null,
      "outputs": [
        {
          "output_type": "execute_result",
          "data": {
            "text/plain": [
              "dict_keys(['loss'])"
            ]
          },
          "metadata": {
            "tags": []
          },
          "execution_count": 254
        }
      ]
    },
    {
      "cell_type": "code",
      "metadata": {
        "colab": {
          "base_uri": "https://localhost:8080/",
          "height": 284
        },
        "id": "LPNAEO02q0e8",
        "outputId": "205f2cf9-0071-4178-dd69-cc3e747e8a96"
      },
      "source": [
        "myloss = model.history.history['loss']\n",
        "plt.plot(range(len(myloss)), myloss)"
      ],
      "execution_count": null,
      "outputs": [
        {
          "output_type": "execute_result",
          "data": {
            "text/plain": [
              "[<matplotlib.lines.Line2D at 0x7fa551966050>]"
            ]
          },
          "metadata": {
            "tags": []
          },
          "execution_count": 255
        },
        {
          "output_type": "display_data",
          "data": {
            "image/png": "[encoded data removed]",
            "text/plain": [
              "<Figure size 432x288 with 1 Axes>"
            ]
          },
          "metadata": {
            "tags": [],
            "needs_background": "light"
          }
        }
      ]
    },
    {
      "cell_type": "code",
      "metadata": {
        "id": "MwQrffFXb8Nk"
      },
      "source": [
        "test_prediction = []\n",
        "first_eval_batch = scaled_train[-n_input:]\n",
        "current_batch = first_eval_batch.reshape((1, n_input, n_features))\n",
        "\n",
        "for i in range(21):\n",
        "  #predict 1 step ahead\n",
        "  current_prediction = model.predict(current_batch)[0]\n",
        "\n",
        "  #store the prediction\n",
        "  test_prediction.append(current_prediction)\n",
        "\n",
        "  #update current batch to include the prediction\n",
        "  current_batch = np.append(current_batch[:,1:,:], [[current_prediction]], axis=1)"
      ],
      "execution_count": null,
      "outputs": []
    },
    {
      "cell_type": "code",
      "metadata": {
        "id": "wte5k8GQcBqG"
      },
      "source": [
        "finalpred = scaler.inverse_transform(test_prediction)"
      ],
      "execution_count": null,
      "outputs": []
    },
    {
      "cell_type": "code",
      "metadata": {
        "colab": {
          "base_uri": "https://localhost:8080/"
        },
        "id": "nbTpoOywcEcx",
        "outputId": "0ae18d6a-f667-4467-e5e3-4ebe0235bee0"
      },
      "source": [
        "test['Predictions'] = finalpred"
      ],
      "execution_count": null,
      "outputs": [
        {
          "output_type": "stream",
          "text": [
            "/usr/local/lib/python3.7/dist-packages/ipykernel_launcher.py:1: SettingWithCopyWarning: \n",
            "A value is trying to be set on a copy of a slice from a DataFrame.\n",
            "Try using .loc[row_indexer,col_indexer] = value instead\n",
            "\n",
            "See the caveats in the documentation: https://pandas.pydata.org/pandas-docs/stable/user_guide/indexing.html#returning-a-view-versus-a-copy\n",
            "  \"\"\"Entry point for launching an IPython kernel.\n"
          ],
          "name": "stderr"
        }
      ]
    },
    {
      "cell_type": "code",
      "metadata": {
        "colab": {
          "base_uri": "https://localhost:8080/",
          "height": 483
        },
        "id": "vB50mSHNcGJp",
        "outputId": "e9682b43-df59-4b4f-8316-eeac654a9c62"
      },
      "source": [
        "test.plot(figsize=(12, 7))"
      ],
      "execution_count": null,
      "outputs": [
        {
          "output_type": "execute_result",
          "data": {
            "text/plain": [
              "<matplotlib.axes._subplots.AxesSubplot at 0x7fa5507ed750>"
            ]
          },
          "metadata": {
            "tags": []
          },
          "execution_count": 259
        },
        {
          "output_type": "display_data",
          "data": {
            "image/png": "[encoded data removed]",
            "text/plain": [
              "<Figure size 864x504 with 1 Axes>"
            ]
          },
          "metadata": {
            "tags": [],
            "needs_background": "light"
          }
        }
      ]
    }
  ]
}