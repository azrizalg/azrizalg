{
  "nbformat": 4,
  "nbformat_minor": 0,
  "metadata": {
    "colab": {
      "name": "BRI Data Hackathon - People Analytic attempt 2.ipynb",
      "provenance": [],
      "collapsed_sections": [
        "vMucd-KT3YaO"
      ],
      "authorship_tag": "ABX9TyPPtjjS/MSVmPAsNK+qxbBf",
      "include_colab_link": true
    },
    "kernelspec": {
      "display_name": "Python 3",
      "name": "python3"
    }
  },
  "cells": [
    {
      "cell_type": "markdown",
      "metadata": {
        "id": "view-in-github",
        "colab_type": "text"
      },
      "source": [
        "<a href=\"https://colab.research.google.com/github/azrizalg/azrizalg/blob/main/BRI_Data_Hackathon_People_Analytic_attempt_2.ipynb\" target=\"_parent\"><img src=\"https://colab.research.google.com/assets/colab-badge.svg\" alt=\"Open In Colab\"/></a>"
      ]
    },
    {
      "cell_type": "code",
      "metadata": {
        "id": "oHylvlkKzaHB"
      },
      "source": [
        "#import library\n",
        "import numpy as np\n",
        "import pandas as pd\n",
        "\n",
        "from sklearn.compose import ColumnTransformer\n",
        "from sklearn.preprocessing import OneHotEncoder\n",
        "\n",
        "import matplotlib.pyplot as plt\n",
        "import seaborn as sns\n",
        "sns.set(style=\"darkgrid\")\n",
        "\n",
        "from sklearn.ensemble import RandomForestClassifier\n",
        "from sklearn.preprocessing import OneHotEncoder, LabelEncoder, StandardScaler\n",
        "from sklearn.metrics import roc_curve, auc\n",
        "from sklearn.model_selection import StratifiedKFold\n",
        "\n",
        "import string\n",
        "import warnings\n",
        "warnings.filterwarnings('ignore')\n",
        "\n",
        "SEED = 42"
      ],
      "execution_count": null,
      "outputs": []
    },
    {
      "cell_type": "code",
      "metadata": {
        "id": "2ykUqohz295X",
        "colab": {
          "base_uri": "https://localhost:8080/"
        },
        "outputId": "a1dc9f13-a04f-4a70-f0d7-87a55c303736"
      },
      "source": [
        "def concat_df(train_data, test_data):\n",
        "    # Returns a concatenated df of training and test set\n",
        "    return pd.concat([train_data, test_data], sort=True).reset_index(drop=True)\n",
        "\n",
        "def divide_df(all_data):\n",
        "    # Returns divided dfs of training and test set\n",
        "    return all_data.loc[:890], all_data.loc[891:].drop(['Survived'], axis=1)\n",
        "\n",
        "#fungsi one hot encoder\n",
        "def ohc(dfNya,dfTest, colName, daList):\n",
        "  colIndex = dfNya.columns.get_loc(colName)\n",
        "  ct = ColumnTransformer(transformers=[('encoder', OneHotEncoder(), [colIndex])], remainder='drop')\n",
        "  arr = ct.fit_transform(dfNya)\n",
        "  arr_test = ct.transform(dfTest)\n",
        "  for i in daList:\n",
        "    dfNya[i]= arr[:,daList.index(i)]#masukin data dari array arr, ke dfNya\n",
        "    dfTest[i]= arr_test[:,daList.index(i)]\n",
        "  dfNya = dfNya.drop(columns=[colName])#delte colName columns as we have new one from OHC\n",
        "  dfTest = dfTest.drop(columns=[colName])\n",
        "  return dfNya, dfTest\n",
        "\n",
        "df_train = pd.read_csv('https://storage.googleapis.com/kaggle-competitions-data/kaggle-v2/24418/1735609/compressed/train.csv.zip?GoogleAccessId=web-data@kaggle-161607.iam.gserviceaccount.com&Expires=1609883295&Signature=DB7IlB6tpbzuM4vUUjZlfLbMurUR9g6D8J7WDf7MPNVzjxfRhXvKCOg%2BLkCCsSO5ie6dXJCirhxjIzhkOuJD6IatigCfljYusgXgOif%2Fa0mob4SenLgyXiDhItnkDwXdpiE1DZQiSPj9H%2FBPL%2Fjb%2Fxx0CWKiQwYh01IjsIXUxuZnzKQSv7E4A%2Bx71Ood6bsegxm9t43ESJ2bo9R9vcYsiC2LNobb0u4W3bg3otT9KvaN3yLVs3Op8rO953gHS2Rb1GF2wG4ZMjvqKdODcCLVsCYM1joTsUzK2aYqZAerAN5TK7PAhXjNUM7ad5cYF0Pb0Jpa%2FSct%2FMIHElvpOQg1Fw%3D%3D&response-content-disposition=attachment%3B+filename%3Dtrain.csv.zip')\n",
        "X_train = df_train.loc[:, ['job_level', 'job_duration_in_current_job_level', 'person_level',\n",
        "       'job_duration_in_current_person_level',\n",
        "       'job_duration_in_current_branch', 'Employee_type', 'Employee_status',\n",
        "       'gender', 'age', 'marital_status_maried(Y/N)', 'number_of_dependences',\n",
        "       'number_of_dependences (male)', 'number_of_dependences (female)',\n",
        "       'Education_level', 'GPA', 'year_graduated',\n",
        "       'job_duration_as_permanent_worker', 'job_duration_from_training',\n",
        "       'branch_rotation', 'job_rotation', 'assign_of_otherposition',\n",
        "       'annual leave', 'sick_leaves', 'Avg_achievement_%',\n",
        "       'Last_achievement_%', 'Achievement_above_100%_during3quartal',\n",
        "       'achievement_target_1', 'achievement_target_2', 'achievement_target_3', 'Best Performance']]\n",
        "y = df_train.loc[:, ['Best Performance']]\n",
        "df_test = pd.read_csv('https://storage.googleapis.com/kagglesdsdata/competitions/24418/1735609/test.csv?GoogleAccessId=web-data@kaggle-161607.iam.gserviceaccount.com&Expires=1609883304&Signature=l1PzWZ65%2FO8irt2b0jcjlCiwXPwC0Ozt3COD8XpM%2Fil7B2%2FY6JgLqgG9pldqCt23svJJML488syM4XlJrvuc574%2BozBpfdMF5x4OPs0JYr9%2FOf1QVXCi9Pa6HNCCAVxHkwfob5xfSJNtWRf9JjFitF7wZpbgqEhJbCPC8oWn6k2Sq0DR19PdHqpPM34mH4mjFWIj55DIx8UrQFCpVyR6WFUdZy8FHHwu3EhWSna%2BLe2fISBE2BaFuaI3AvmnEvAlfnCuFUZs0UEfJyyzZIwN9oTDNVSvb1fXvCwLKhwnBdgS10%2BMaUWT8c5Dbo1pLYLnyqOGztKwiJYYUwf67Xn1kw%3D%3D&response-content-disposition=attachment%3B+filename%3Dtest.csv')\n",
        "df_all = concat_df(df_train, df_test)\n",
        "X_test = df_test\n",
        "\n",
        "dfs = [df_train, df_test]\n",
        "\n",
        "print('Number of Training Examples = {}'.format(df_train.shape[0]))\n",
        "print('Number of Test Examples = {}\\n'.format(df_test.shape[0]))\n",
        "print('Training X Shape = {}'.format(df_train.shape))\n",
        "print('Training y Shape = {}\\n'.format(y.shape[0]))\n",
        "print('Test X Shape = {}'.format(df_test.shape))\n",
        "print('Test y Shape = {}\\n'.format(df_test.shape[0]))\n",
        "print(df_train.columns)\n",
        "print(df_test.columns)"
      ],
      "execution_count": null,
      "outputs": [
        {
          "output_type": "stream",
          "text": [
            "Number of Training Examples = 22005\n",
            "Number of Test Examples = 6000\n",
            "\n",
            "Training X Shape = (22005, 30)\n",
            "Training y Shape = 22005\n",
            "\n",
            "Test X Shape = (6000, 29)\n",
            "Test y Shape = 6000\n",
            "\n",
            "Index(['job_level', 'job_duration_in_current_job_level', 'person_level',\n",
            "       'job_duration_in_current_person_level',\n",
            "       'job_duration_in_current_branch', 'Employee_type', 'Employee_status',\n",
            "       'gender', 'age', 'marital_status_maried(Y/N)', 'number_of_dependences',\n",
            "       'number_of_dependences (male)', 'number_of_dependences (female)',\n",
            "       'Education_level', 'GPA', 'year_graduated',\n",
            "       'job_duration_as_permanent_worker', 'job_duration_from_training',\n",
            "       'branch_rotation', 'job_rotation', 'assign_of_otherposition',\n",
            "       'annual leave', 'sick_leaves', 'Best Performance', 'Avg_achievement_%',\n",
            "       'Last_achievement_%', 'Achievement_above_100%_during3quartal',\n",
            "       'achievement_target_1', 'achievement_target_2', 'achievement_target_3'],\n",
            "      dtype='object')\n",
            "Index(['job_level', 'job_duration_in_current_job_level', 'person_level',\n",
            "       'job_duration_in_current_person_level',\n",
            "       'job_duration_in_current_branch', 'Employee_type', 'Employee_status',\n",
            "       'gender', 'age', 'marital_status_maried(Y/N)', 'number_of_dependences',\n",
            "       'number_of_dependences (male)', 'number_of_dependences (female)',\n",
            "       'Education_level', 'GPA', 'year_graduated',\n",
            "       'job_duration_as_permanent_worker', 'job_duration_from_training',\n",
            "       'branch_rotation', 'job_rotation', 'assign_of_otherposition',\n",
            "       'annual leave', 'sick_leaves', 'Avg_achievement_%',\n",
            "       'Last_achievement_%', 'Achievement_above_100%_during3quartal',\n",
            "       'achievement_target_1', 'achievement_target_2', 'achievement_target_3'],\n",
            "      dtype='object')\n"
          ],
          "name": "stdout"
        }
      ]
    },
    {
      "cell_type": "markdown",
      "metadata": {
        "id": "ZL9K5Td-4C2z"
      },
      "source": [
        "# 1.   Exploratory Data Analysis"
      ]
    },
    {
      "cell_type": "markdown",
      "metadata": {
        "id": "QW_tviCh9CW5"
      },
      "source": [
        "### Overview\n",
        "\n",
        "*   job_level : Level Jabatan Pekerja\n",
        "*   job_duration_in_current_job_level : Masa Kerja pada job level saat ini\n",
        "*   person_level : Level personal Pekerja\n",
        "*   job_duration_in_current_person_level : Masa Kerja pada person level saat ini\n",
        "*   job_duration_in_current_branch : Masa Kerja pada unit kerja saat ini\n",
        "*   Employee_type : Tipe Pekerja ( 3 tipe Relationship Manager, \n",
        "  *   A :  Mantri Kupedes, \n",
        "  *   B : Mantri KUR , dan \n",
        "  *   C : Mantri Briguna)\n",
        "*   Employee_status : Status Pekerja (tetap/kontrak)\n",
        "*   gender : Jenis Kelamin\n",
        "  *   Male\n",
        "  *   Female\n",
        "*   age : Tahun Lahir\n",
        "*   marital_status_maried(Y/N) : Status Pernikahan (Y / N)\n",
        "*   number_of_dependences : Jumlah anak dalam tanggungan\n",
        "*   number_of_dependences (male) : Jumlah anak dalam tanggungan khusus laki - laki\n",
        "*   number_of_dependences (female) : Jumlah anak dalam tanggungan khusus perempuan\n",
        "*   Education_level :\n",
        "  *   0: Internal course/sem, \n",
        "  *   1: SLTA/*   Setingkat, \n",
        "  *   2: Diploma 1, \n",
        "  *   3: Diploma 3/4, \n",
        "  *   4: Strata1, \n",
        "  *   5: Strata2\n",
        "*   GPA : IPK\n",
        "*   year_graduated : Tahun lulus\n",
        "*   job_duration_as_permanent_worker : lama bekerja sebagai pekerja tetap\n",
        "*   job_duration_from_training : lama bekerja mulai dari training\n",
        "*   branch_rotation : Jumlah rotasi pindah unit kerja\n",
        "*   job_rotation : jumlah rotasi pindah jabatan\n",
        "*   assign_of_otherposition : jumlah rotasi penugasan\n",
        "*   annual leave : cuti tahunan\n",
        "*   sick_leaves : izin sakit\n",
        "*   Best Performance : Termasuk dalam best performance\n",
        "  *   1 = Best performance\n",
        "  *   0 = not best performance\n",
        "*   Avg_achievement_% : rata - rata presentase pencapaian terhadap target selama setahun\n",
        "*   Last_achievement_% : presentase pencapaian triwulan terakhir terhadap target\n",
        "*   Achievement_above_100%_during3quartal : Jumlah pencapaian diatas 100% dalam 3 tahun terkahir\n",
        "*   achievement_target_1 : status pencapaian target kategori 1\n",
        "*   achievement_target_2 : status pencapaian target kategori 2\n",
        "*   achievement_target_3 : status pencapaian target kategori 3\n",
        "\n"
      ]
    },
    {
      "cell_type": "code",
      "metadata": {
        "id": "AZBf72vH8rPI",
        "colab": {
          "base_uri": "https://localhost:8080/"
        },
        "outputId": "22df4d12-a8da-4a13-89d8-ca29d061b9f5"
      },
      "source": [
        "print('Missing values in X_train')\n",
        "print(X_train.isnull().sum())\n",
        "\n",
        "print('\\n\\n')\n",
        "\n",
        "print('Missing values in df_test')\n",
        "print(df_test.isnull().sum())"
      ],
      "execution_count": null,
      "outputs": [
        {
          "output_type": "stream",
          "text": [
            "Missing values in X_train\n",
            "job_level                                   0\n",
            "job_duration_in_current_job_level           0\n",
            "person_level                                0\n",
            "job_duration_in_current_person_level        0\n",
            "job_duration_in_current_branch              0\n",
            "Employee_type                              12\n",
            "Employee_status                             0\n",
            "gender                                      0\n",
            "age                                         0\n",
            "marital_status_maried(Y/N)                  0\n",
            "number_of_dependences                       0\n",
            "number_of_dependences (male)                0\n",
            "number_of_dependences (female)              0\n",
            "Education_level                          3608\n",
            "GPA                                      3503\n",
            "year_graduated                           3503\n",
            "job_duration_as_permanent_worker         2055\n",
            "job_duration_from_training                  0\n",
            "branch_rotation                             0\n",
            "job_rotation                                0\n",
            "assign_of_otherposition                     0\n",
            "annual leave                                0\n",
            "sick_leaves                                 0\n",
            "Avg_achievement_%                        6289\n",
            "Last_achievement_%                       6302\n",
            "Achievement_above_100%_during3quartal    6302\n",
            "achievement_target_1                     6727\n",
            "achievement_target_2                     6727\n",
            "achievement_target_3                     6727\n",
            "Best Performance                            0\n",
            "dtype: int64\n",
            "\n",
            "\n",
            "\n",
            "Missing values in df_test\n",
            "job_level                                0\n",
            "job_duration_in_current_job_level        0\n",
            "person_level                             0\n",
            "job_duration_in_current_person_level     0\n",
            "job_duration_in_current_branch           0\n",
            "Employee_type                            0\n",
            "Employee_status                          0\n",
            "gender                                   0\n",
            "age                                      0\n",
            "marital_status_maried(Y/N)               0\n",
            "number_of_dependences                    0\n",
            "number_of_dependences (male)             0\n",
            "number_of_dependences (female)           0\n",
            "Education_level                          0\n",
            "GPA                                      0\n",
            "year_graduated                           0\n",
            "job_duration_as_permanent_worker         0\n",
            "job_duration_from_training               0\n",
            "branch_rotation                          0\n",
            "job_rotation                             0\n",
            "assign_of_otherposition                  0\n",
            "annual leave                             0\n",
            "sick_leaves                              0\n",
            "Avg_achievement_%                        0\n",
            "Last_achievement_%                       0\n",
            "Achievement_above_100%_during3quartal    0\n",
            "achievement_target_1                     0\n",
            "achievement_target_2                     0\n",
            "achievement_target_3                     0\n",
            "dtype: int64\n"
          ],
          "name": "stdout"
        }
      ]
    },
    {
      "cell_type": "markdown",
      "metadata": {
        "id": "aD9fG2Ex87pB"
      },
      "source": [
        "# Preprocessing"
      ]
    },
    {
      "cell_type": "markdown",
      "metadata": {
        "id": "B4B5xlZHES5G"
      },
      "source": [
        "## Duplicates"
      ]
    },
    {
      "cell_type": "code",
      "metadata": {
        "colab": {
          "base_uri": "https://localhost:8080/"
        },
        "id": "tIw1XRq7EcAO",
        "outputId": "123fcc39-8b84-40fa-a1d3-920c105239cc"
      },
      "source": [
        "print(X_train.duplicated().sum())\n",
        "print(X_train.duplicated().sum())"
      ],
      "execution_count": null,
      "outputs": [
        {
          "output_type": "stream",
          "text": [
            "111\n",
            "111\n"
          ],
          "name": "stdout"
        }
      ]
    },
    {
      "cell_type": "code",
      "metadata": {
        "id": "JwfruNrNEWyX"
      },
      "source": [
        "X_train.drop_duplicates(keep=False,inplace=True) "
      ],
      "execution_count": null,
      "outputs": []
    },
    {
      "cell_type": "markdown",
      "metadata": {
        "id": "Y573138Q9Bim"
      },
      "source": [
        "## Missing Value & label encoding"
      ]
    },
    {
      "cell_type": "code",
      "metadata": {
        "id": "Pb7n0ye6HF8z"
      },
      "source": [
        "X_train = X_train.dropna()"
      ],
      "execution_count": null,
      "outputs": []
    },
    {
      "cell_type": "markdown",
      "metadata": {
        "id": "POQPw32DXUoZ"
      },
      "source": [
        "### job_level"
      ]
    },
    {
      "cell_type": "code",
      "metadata": {
        "id": "BZ9XE4QtXY_9",
        "colab": {
          "base_uri": "https://localhost:8080/"
        },
        "outputId": "690e169b-289a-4a10-d264-aab75d8c978c"
      },
      "source": [
        "print(X_train['job_level'].value_counts(), '\\n')\n",
        "print(X_train['job_level'].isnull().any())"
      ],
      "execution_count": null,
      "outputs": [
        {
          "output_type": "stream",
          "text": [
            "JG04    10897\n",
            "JG05      796\n",
            "JG03       33\n",
            "JG06        1\n",
            "Name: job_level, dtype: int64 \n",
            "\n",
            "False\n"
          ],
          "name": "stdout"
        }
      ]
    },
    {
      "cell_type": "code",
      "metadata": {
        "id": "i-mpTjZqYB5U"
      },
      "source": [
        "mapping = {'JG03': 1, 'JG04': 2, 'JG05': 3, 'JG06': 4} #tweakable, mapping can start from 0\n",
        "\n",
        "X_train['job_level'] = X_train['job_level'].replace(mapping)\n",
        "X_test['job_level'] = X_test['job_level'].replace(mapping)"
      ],
      "execution_count": null,
      "outputs": []
    },
    {
      "cell_type": "markdown",
      "metadata": {
        "id": "fXEZaPyKaHvn"
      },
      "source": [
        "### person_level"
      ]
    },
    {
      "cell_type": "code",
      "metadata": {
        "id": "51tuCx0zaWPH",
        "colab": {
          "base_uri": "https://localhost:8080/"
        },
        "outputId": "cd73461d-0c25-4489-b50f-8f969479d850"
      },
      "source": [
        "print(X_train['person_level'].value_counts(), '\\n')\n",
        "print(X_train['person_level'].isnull().any())"
      ],
      "execution_count": null,
      "outputs": [
        {
          "output_type": "stream",
          "text": [
            "PG03    10118\n",
            "PG04      773\n",
            "PG06      436\n",
            "PG05      349\n",
            "PG07       18\n",
            "PG02       17\n",
            "PG01       15\n",
            "PG08        1\n",
            "Name: person_level, dtype: int64 \n",
            "\n",
            "False\n"
          ],
          "name": "stdout"
        }
      ]
    },
    {
      "cell_type": "code",
      "metadata": {
        "id": "x4ZdAd9JaMOx"
      },
      "source": [
        "mapping = {'PG01': 1, 'PG02': 2, 'PG03': 3, 'PG04': 4, 'PG05': 5, 'PG06': 6, 'PG07': 7, 'PG08': 8} #tweakable, mapping can start from 0\n",
        "\n",
        "X_train['person_level'] = X_train['person_level'].replace(mapping)\n",
        "X_test['person_level'] = X_test['person_level'].replace(mapping)"
      ],
      "execution_count": null,
      "outputs": []
    },
    {
      "cell_type": "markdown",
      "metadata": {
        "id": "gtbSo7YU9Kfr"
      },
      "source": [
        "### age"
      ]
    },
    {
      "cell_type": "code",
      "metadata": {
        "id": "g4zTa3UJK1b0"
      },
      "source": [
        "#rubah format age\n",
        "X_train['age'] = X_train['age'].apply(lambda x: 2020-x)\n",
        "X_test['age'] = X_test['age'].apply(lambda x: 2020-x)"
      ],
      "execution_count": null,
      "outputs": []
    },
    {
      "cell_type": "markdown",
      "metadata": {
        "id": "-wQk3a-G9NSt"
      },
      "source": [
        "### Employee_type"
      ]
    },
    {
      "cell_type": "code",
      "metadata": {
        "id": "LzQffU0s-AJC"
      },
      "source": [
        "X_train = X_train[X_train['Employee_type'].notna()]"
      ],
      "execution_count": null,
      "outputs": []
    },
    {
      "cell_type": "code",
      "metadata": {
        "id": "wTWL1NvWbKbi",
        "colab": {
          "base_uri": "https://localhost:8080/"
        },
        "outputId": "77d2a4fc-0387-4b71-fabd-2a1954ad4d72"
      },
      "source": [
        "print(X_train['Employee_type'].value_counts())\n",
        "print(X_train.columns.get_loc('Employee_type'))"
      ],
      "execution_count": null,
      "outputs": [
        {
          "output_type": "stream",
          "text": [
            "RM_type_A    7631\n",
            "RM_type_B    3558\n",
            "RM_type_C     538\n",
            "Name: Employee_type, dtype: int64\n",
            "5\n"
          ],
          "name": "stdout"
        }
      ]
    },
    {
      "cell_type": "code",
      "metadata": {
        "id": "skOi53SjxfXQ",
        "colab": {
          "base_uri": "https://localhost:8080/",
          "height": 69
        },
        "outputId": "71180406-f400-44e8-b6d1-7d184bb9ac1d"
      },
      "source": [
        "\"\"\"\n",
        "ct = ColumnTransformer(transformers=[('encoder', OneHotEncoder(), [5])], remainder='drop')\n",
        "arr = ct.fit_transform(X_train)\n",
        "X_train[\"RM_type_A\"], X_train[\"RM_type_B\"], X_train['RM_type_C'] = arr.T #masukin hasil one hot encoder\n",
        "X_train = X_train.drop(columns=['Employee_type'])#delte Employee_type columns as we replace it from OHC\n",
        "\"\"\"\n",
        "\n",
        "#varian lain dari kode diatas\n",
        "#df[\"Q_pred\"],df[\"r_pred\"] = arr[:,0], arr[:,1]  \n",
        "#y = pd.get_dummies(X_train.Employee_type, prefix='ET')"
      ],
      "execution_count": null,
      "outputs": [
        {
          "output_type": "execute_result",
          "data": {
            "application/vnd.google.colaboratory.intrinsic+json": {
              "type": "string"
            },
            "text/plain": [
              "'\\nct = ColumnTransformer(transformers=[(\\'encoder\\', OneHotEncoder(), [5])], remainder=\\'drop\\')\\narr = ct.fit_transform(X_train)\\nX_train[\"RM_type_A\"], X_train[\"RM_type_B\"], X_train[\\'RM_type_C\\'] = arr.T #masukin hasil one hot encoder\\nX_train = X_train.drop(columns=[\\'Employee_type\\'])#delte Employee_type columns as we replace it from OHC\\n'"
            ]
          },
          "metadata": {
            "tags": []
          },
          "execution_count": 219
        }
      ]
    },
    {
      "cell_type": "markdown",
      "metadata": {
        "id": "ckuIN7UtvREF"
      },
      "source": [
        "### Employee_status"
      ]
    },
    {
      "cell_type": "code",
      "metadata": {
        "id": "DMiHRAEevW3S",
        "colab": {
          "base_uri": "https://localhost:8080/"
        },
        "outputId": "67c91042-d034-40cd-ff2c-4796a9b46415"
      },
      "source": [
        "print(X_train['Employee_status'].value_counts())\n",
        "print(X_train.columns.get_loc('Employee_status'))"
      ],
      "execution_count": null,
      "outputs": [
        {
          "output_type": "stream",
          "text": [
            "Permanent    11727\n",
            "Name: Employee_status, dtype: int64\n",
            "6\n"
          ],
          "name": "stdout"
        }
      ]
    },
    {
      "cell_type": "code",
      "metadata": {
        "id": "ooiMlhSFJKmp"
      },
      "source": [
        "X_train = X_train.drop(columns='Employee_status')\n",
        "X_test = X_test.drop(columns='Employee_status')"
      ],
      "execution_count": null,
      "outputs": []
    },
    {
      "cell_type": "markdown",
      "metadata": {
        "id": "YRWk7rUYXpZv"
      },
      "source": [
        "### gender"
      ]
    },
    {
      "cell_type": "code",
      "metadata": {
        "id": "vpbYARCrXy2F",
        "colab": {
          "base_uri": "https://localhost:8080/"
        },
        "outputId": "46e3bc16-eb26-4904-8505-4dc868746656"
      },
      "source": [
        "print(X_train['gender'].value_counts())\n",
        "print(X_train.columns.get_loc('gender'))"
      ],
      "execution_count": null,
      "outputs": [
        {
          "output_type": "stream",
          "text": [
            "Male      8591\n",
            "Female    3136\n",
            "Name: gender, dtype: int64\n",
            "6\n"
          ],
          "name": "stdout"
        }
      ]
    },
    {
      "cell_type": "markdown",
      "metadata": {
        "id": "_MwKH6KrFBqI"
      },
      "source": [
        "### marital_status_maried(Y/N)"
      ]
    },
    {
      "cell_type": "code",
      "metadata": {
        "id": "R53xwTz2FPOH",
        "colab": {
          "base_uri": "https://localhost:8080/"
        },
        "outputId": "7f3df974-d98d-41cd-cadc-af2879f6665a"
      },
      "source": [
        "print(X_train['marital_status_maried(Y/N)'].value_counts())\n",
        "print(X_train.columns.get_loc('marital_status_maried(Y/N)'))"
      ],
      "execution_count": null,
      "outputs": [
        {
          "output_type": "stream",
          "text": [
            "Y    9991\n",
            "N    1736\n",
            "Name: marital_status_maried(Y/N), dtype: int64\n",
            "8\n"
          ],
          "name": "stdout"
        }
      ]
    },
    {
      "cell_type": "markdown",
      "metadata": {
        "id": "H55erxuAGh-6"
      },
      "source": [
        "### number_of_dependences male and female"
      ]
    },
    {
      "cell_type": "code",
      "metadata": {
        "id": "zMi311_9G78f"
      },
      "source": [
        "#hapus aja kolom NOP male sama NOP female\n",
        "X_train = X_train.drop(columns=['number_of_dependences (male)', 'number_of_dependences (female)'])\n",
        "X_test = X_test.drop(columns=['number_of_dependences (male)', 'number_of_dependences (female)'])"
      ],
      "execution_count": null,
      "outputs": []
    },
    {
      "cell_type": "markdown",
      "metadata": {
        "id": "3k3gp0rb9RP2"
      },
      "source": [
        "### Education_level"
      ]
    },
    {
      "cell_type": "code",
      "metadata": {
        "id": "NFVo-18VIEYt",
        "colab": {
          "base_uri": "https://localhost:8080/"
        },
        "outputId": "724da47c-9c0c-4d86-eed6-14c946d5a18c"
      },
      "source": [
        "X_train['Education_level'].value_counts().sort_index()"
      ],
      "execution_count": null,
      "outputs": [
        {
          "output_type": "execute_result",
          "data": {
            "text/plain": [
              "level_0      16\n",
              "level_1     168\n",
              "level_2       5\n",
              "level_3    1849\n",
              "level_4    9639\n",
              "level_5      50\n",
              "Name: Education_level, dtype: int64"
            ]
          },
          "metadata": {
            "tags": []
          },
          "execution_count": 225
        }
      ]
    },
    {
      "cell_type": "code",
      "metadata": {
        "id": "LHfjZxWML15v",
        "colab": {
          "base_uri": "https://localhost:8080/",
          "height": 86
        },
        "outputId": "2d6166a5-8812-416b-b4d2-dc5002d5aae4"
      },
      "source": [
        "X_train[X_train['Education_level'].isnull() & X_train['GPA'].isnull() & X_train['year_graduated'].isnull()]"
      ],
      "execution_count": null,
      "outputs": [
        {
          "output_type": "execute_result",
          "data": {
            "text/html": [
              "<div>\n",
              "<style scoped>\n",
              "    .dataframe tbody tr th:only-of-type {\n",
              "        vertical-align: middle;\n",
              "    }\n",
              "\n",
              "    .dataframe tbody tr th {\n",
              "        vertical-align: top;\n",
              "    }\n",
              "\n",
              "    .dataframe thead th {\n",
              "        text-align: right;\n",
              "    }\n",
              "</style>\n",
              "<table border=\"1\" class=\"dataframe\">\n",
              "  <thead>\n",
              "    <tr style=\"text-align: right;\">\n",
              "      <th></th>\n",
              "      <th>job_level</th>\n",
              "      <th>job_duration_in_current_job_level</th>\n",
              "      <th>person_level</th>\n",
              "      <th>job_duration_in_current_person_level</th>\n",
              "      <th>job_duration_in_current_branch</th>\n",
              "      <th>Employee_type</th>\n",
              "      <th>gender</th>\n",
              "      <th>age</th>\n",
              "      <th>marital_status_maried(Y/N)</th>\n",
              "      <th>number_of_dependences</th>\n",
              "      <th>Education_level</th>\n",
              "      <th>GPA</th>\n",
              "      <th>year_graduated</th>\n",
              "      <th>job_duration_as_permanent_worker</th>\n",
              "      <th>job_duration_from_training</th>\n",
              "      <th>branch_rotation</th>\n",
              "      <th>job_rotation</th>\n",
              "      <th>assign_of_otherposition</th>\n",
              "      <th>annual leave</th>\n",
              "      <th>sick_leaves</th>\n",
              "      <th>Avg_achievement_%</th>\n",
              "      <th>Last_achievement_%</th>\n",
              "      <th>Achievement_above_100%_during3quartal</th>\n",
              "      <th>achievement_target_1</th>\n",
              "      <th>achievement_target_2</th>\n",
              "      <th>achievement_target_3</th>\n",
              "      <th>Best Performance</th>\n",
              "    </tr>\n",
              "  </thead>\n",
              "  <tbody>\n",
              "  </tbody>\n",
              "</table>\n",
              "</div>"
            ],
            "text/plain": [
              "Empty DataFrame\n",
              "Columns: [job_level, job_duration_in_current_job_level, person_level, job_duration_in_current_person_level, job_duration_in_current_branch, Employee_type, gender, age, marital_status_maried(Y/N), number_of_dependences, Education_level, GPA, year_graduated, job_duration_as_permanent_worker, job_duration_from_training, branch_rotation, job_rotation, assign_of_otherposition, annual leave, sick_leaves, Avg_achievement_%, Last_achievement_%, Achievement_above_100%_during3quartal, achievement_target_1, achievement_target_2, achievement_target_3, Best Performance]\n",
              "Index: []"
            ]
          },
          "metadata": {
            "tags": []
          },
          "execution_count": 226
        }
      ]
    },
    {
      "cell_type": "code",
      "metadata": {
        "id": "79efh8_QH-Gu"
      },
      "source": [
        "#label encoder education_level \n",
        "mapping = {'level_0': 1, 'level_1': 2, 'level_2': 3, 'level_3': 4, 'level_4': 5, 'level_5': 6} #tweakable, mapping can start from 0\n",
        "\n",
        "X_train['Education_level'] = X_train['Education_level'].replace(mapping)\n",
        "X_test['Education_level'] = X_test['Education_level'].replace(mapping)\n"
      ],
      "execution_count": null,
      "outputs": []
    },
    {
      "cell_type": "code",
      "metadata": {
        "id": "5k3It0ZOLksY"
      },
      "source": [
        "#fill missing value with median Education_level\n",
        "X_train['Education_level'].fillna((X_train['Education_level'].median()), inplace=True)"
      ],
      "execution_count": null,
      "outputs": []
    },
    {
      "cell_type": "markdown",
      "metadata": {
        "id": "tVkMWiCQ9Yjq"
      },
      "source": [
        "### GPA"
      ]
    },
    {
      "cell_type": "code",
      "metadata": {
        "id": "CtFX9TQhO-5A"
      },
      "source": [
        "#fill missing value with mean on GPA\n",
        "X_train['GPA'].nunique()\n",
        "X_train['GPA'].value_counts()\n",
        "\n",
        "X_train['GPA'].fillna((X_train['GPA'].mean()), inplace=True)"
      ],
      "execution_count": null,
      "outputs": []
    },
    {
      "cell_type": "code",
      "metadata": {
        "colab": {
          "base_uri": "https://localhost:8080/"
        },
        "id": "MqZ2uFxXBW5R",
        "outputId": "1120d423-3d80-4d28-8133-2d4a781ca184"
      },
      "source": [
        "X_test['GPA'].value_counts()"
      ],
      "execution_count": null,
      "outputs": [
        {
          "output_type": "execute_result",
          "data": {
            "text/plain": [
              "0.00      1246\n",
              "3.00       183\n",
              "3.01       124\n",
              "3.03       106\n",
              "3.14       104\n",
              "          ... \n",
              "2.07         1\n",
              "345.00       1\n",
              "2.48         1\n",
              "280.00       1\n",
              "6.18         1\n",
              "Name: GPA, Length: 179, dtype: int64"
            ]
          },
          "metadata": {
            "tags": []
          },
          "execution_count": 230
        }
      ]
    },
    {
      "cell_type": "code",
      "metadata": {
        "id": "Q7rAGtKU6xy8",
        "colab": {
          "base_uri": "https://localhost:8080/"
        },
        "outputId": "3458bf47-d495-4603-aa21-4dfed7381d8f"
      },
      "source": [
        "#outlier pada GPA (nilai yang melebihi 4.0)\n",
        "X_train['GPA'][X_train['GPA']>4].count()"
      ],
      "execution_count": null,
      "outputs": [
        {
          "output_type": "execute_result",
          "data": {
            "text/plain": [
              "58"
            ]
          },
          "metadata": {
            "tags": []
          },
          "execution_count": 231
        }
      ]
    },
    {
      "cell_type": "code",
      "metadata": {
        "colab": {
          "base_uri": "https://localhost:8080/"
        },
        "id": "QePPTU2hBPdL",
        "outputId": "e201a07f-d20a-41e9-f014-6f14f4ec17e9"
      },
      "source": [
        "X_test['GPA'][X_test['GPA']>4].count()"
      ],
      "execution_count": null,
      "outputs": [
        {
          "output_type": "execute_result",
          "data": {
            "text/plain": [
              "28"
            ]
          },
          "metadata": {
            "tags": []
          },
          "execution_count": 232
        }
      ]
    },
    {
      "cell_type": "code",
      "metadata": {
        "id": "Zs2o9bsX8Q_u"
      },
      "source": [
        "#rubah outlier menjadi median\n",
        "X_train['GPA'][X_train['GPA']>4] = X_train['GPA'].median()\n",
        "X_test['GPA'][X_test['GPA']>4] = X_test['GPA'].median()"
      ],
      "execution_count": null,
      "outputs": []
    },
    {
      "cell_type": "markdown",
      "metadata": {
        "id": "0c4S9Pq9FNiE"
      },
      "source": [
        "### year_graduated"
      ]
    },
    {
      "cell_type": "code",
      "metadata": {
        "id": "-RXHQoK-awO-",
        "colab": {
          "base_uri": "https://localhost:8080/"
        },
        "outputId": "91d316bd-01cb-41e8-826f-a05ca63b42c3"
      },
      "source": [
        "print(X_train['year_graduated'].mode())\n",
        "print(X_test['year_graduated'].mode())"
      ],
      "execution_count": null,
      "outputs": [
        {
          "output_type": "stream",
          "text": [
            "0    2011\n",
            "dtype: object\n",
            "0    2011\n",
            "dtype: object\n"
          ],
          "name": "stdout"
        }
      ]
    },
    {
      "cell_type": "code",
      "metadata": {
        "id": "_sJE1UJDQB-F"
      },
      "source": [
        "#fill mising value year_graduated\n",
        "#pd.to_numeric(s, errors='coerce')\n",
        "#df[\"a\"] = pd.to_numeric(df[\"a\"])\n",
        "X_train[\"year_graduated\"] = pd.to_numeric(X_train[\"year_graduated\"], errors='coerce') #ganti ke numeric secara paksa, segala bentuk bukan numerik akan dijadikan null, karena di dalam dataset ada yg ngisi N dan sebagainya\n",
        "X_train[\"year_graduated\"] = X_train[[\"year_graduated\"]].apply(pd.to_numeric)\n",
        "\n",
        "X_test[\"year_graduated\"] = pd.to_numeric(X_test[\"year_graduated\"], errors='coerce') #ganti ke numeric secara paksa, segala bentuk bukan numerik akan dijadikan null, karena di dalam dataset ada yg ngisi N dan sebagainya\n",
        "X_test[\"year_graduated\"] = X_test[[\"year_graduated\"]].apply(pd.to_numeric)\n",
        "\n",
        "#X_train = X_train['year_graduated'][X_train['year_graduated'] == 0] = 2013\n",
        "X_train['year_graduated'] = X_train['year_graduated'].fillna(2013) #yang null isi 2013\n",
        "X_test['year_graduated'] = X_test['year_graduated'].fillna(2013)"
      ],
      "execution_count": null,
      "outputs": []
    },
    {
      "cell_type": "code",
      "metadata": {
        "colab": {
          "base_uri": "https://localhost:8080/"
        },
        "id": "ICFA4pnCDrB1",
        "outputId": "2da15596-330e-4e7e-f3e1-3a30205bedcf"
      },
      "source": [
        "X_test['year_graduated'].median()"
      ],
      "execution_count": null,
      "outputs": [
        {
          "output_type": "execute_result",
          "data": {
            "text/plain": [
              "2010.0"
            ]
          },
          "metadata": {
            "tags": []
          },
          "execution_count": 236
        }
      ]
    },
    {
      "cell_type": "code",
      "metadata": {
        "id": "VbRDdmx-4LLO"
      },
      "source": [
        "#jika year_graduated > 2020 maka jadikan tahun tersebut menjadi 2020, untuk yang nilai nya dibawah 1900 ganti median saja\n",
        "X_train['year_graduated'][X_train['year_graduated'] > 2020] = X_train['year_graduated'].median()\n",
        "X_test['year_graduated'][X_test['year_graduated'] > 2020] = X_train['year_graduated'].median()\n",
        "\n",
        "X_train['year_graduated'][X_train['year_graduated'] < 1950] = X_train['year_graduated'].median()\n",
        "X_test['year_graduated'][X_test['year_graduated'] < 1950] = X_train['year_graduated'].median()"
      ],
      "execution_count": null,
      "outputs": []
    },
    {
      "cell_type": "code",
      "metadata": {
        "colab": {
          "base_uri": "https://localhost:8080/"
        },
        "id": "pAYdTWAVBh6E",
        "outputId": "614f6aef-242e-40bf-bbd7-ebc94a599d8a"
      },
      "source": [
        "X_test['year_graduated'].count()"
      ],
      "execution_count": null,
      "outputs": [
        {
          "output_type": "execute_result",
          "data": {
            "text/plain": [
              "6000"
            ]
          },
          "metadata": {
            "tags": []
          },
          "execution_count": 238
        }
      ]
    },
    {
      "cell_type": "code",
      "metadata": {
        "id": "fs7E6T516QQL",
        "colab": {
          "base_uri": "https://localhost:8080/"
        },
        "outputId": "df5ba886-7951-458e-8256-edbe1b5d498a"
      },
      "source": [
        "X_train['year_graduated'].value_counts().sort_index()"
      ],
      "execution_count": null,
      "outputs": [
        {
          "output_type": "execute_result",
          "data": {
            "text/plain": [
              "1983.0       3\n",
              "1984.0       1\n",
              "1985.0       8\n",
              "1986.0       7\n",
              "1987.0      13\n",
              "1988.0      11\n",
              "1989.0       8\n",
              "1990.0      11\n",
              "1991.0      12\n",
              "1992.0      18\n",
              "1993.0      21\n",
              "1994.0      25\n",
              "1995.0      28\n",
              "1996.0      38\n",
              "1997.0      12\n",
              "1998.0      33\n",
              "1999.0      38\n",
              "2000.0      66\n",
              "2001.0     115\n",
              "2002.0     186\n",
              "2003.0     237\n",
              "2004.0     286\n",
              "2005.0     297\n",
              "2006.0     424\n",
              "2007.0     679\n",
              "2008.0    1096\n",
              "2009.0    1237\n",
              "2010.0    1869\n",
              "2011.0    1733\n",
              "2012.0    1387\n",
              "2013.0     944\n",
              "2014.0     631\n",
              "2015.0     163\n",
              "2016.0      45\n",
              "2017.0      31\n",
              "2018.0      10\n",
              "2019.0       3\n",
              "2020.0       1\n",
              "Name: year_graduated, dtype: int64"
            ]
          },
          "metadata": {
            "tags": []
          },
          "execution_count": 239
        }
      ]
    },
    {
      "cell_type": "code",
      "metadata": {
        "id": "2vvKQwSkEyrf",
        "colab": {
          "base_uri": "https://localhost:8080/"
        },
        "outputId": "778a500b-20be-43e4-baed-1a0e8f2440e0"
      },
      "source": [
        "X_train['year_graduated'].isnull().sum()"
      ],
      "execution_count": null,
      "outputs": [
        {
          "output_type": "execute_result",
          "data": {
            "text/plain": [
              "0"
            ]
          },
          "metadata": {
            "tags": []
          },
          "execution_count": 240
        }
      ]
    },
    {
      "cell_type": "code",
      "metadata": {
        "id": "enZSEag2I28l",
        "colab": {
          "base_uri": "https://localhost:8080/",
          "height": 473
        },
        "outputId": "48ac6cb4-0bf7-4f6f-b02b-07faa322d91b"
      },
      "source": [
        "X_train"
      ],
      "execution_count": null,
      "outputs": [
        {
          "output_type": "execute_result",
          "data": {
            "text/html": [
              "<div>\n",
              "<style scoped>\n",
              "    .dataframe tbody tr th:only-of-type {\n",
              "        vertical-align: middle;\n",
              "    }\n",
              "\n",
              "    .dataframe tbody tr th {\n",
              "        vertical-align: top;\n",
              "    }\n",
              "\n",
              "    .dataframe thead th {\n",
              "        text-align: right;\n",
              "    }\n",
              "</style>\n",
              "<table border=\"1\" class=\"dataframe\">\n",
              "  <thead>\n",
              "    <tr style=\"text-align: right;\">\n",
              "      <th></th>\n",
              "      <th>job_level</th>\n",
              "      <th>job_duration_in_current_job_level</th>\n",
              "      <th>person_level</th>\n",
              "      <th>job_duration_in_current_person_level</th>\n",
              "      <th>job_duration_in_current_branch</th>\n",
              "      <th>Employee_type</th>\n",
              "      <th>gender</th>\n",
              "      <th>age</th>\n",
              "      <th>marital_status_maried(Y/N)</th>\n",
              "      <th>number_of_dependences</th>\n",
              "      <th>Education_level</th>\n",
              "      <th>GPA</th>\n",
              "      <th>year_graduated</th>\n",
              "      <th>job_duration_as_permanent_worker</th>\n",
              "      <th>job_duration_from_training</th>\n",
              "      <th>branch_rotation</th>\n",
              "      <th>job_rotation</th>\n",
              "      <th>assign_of_otherposition</th>\n",
              "      <th>annual leave</th>\n",
              "      <th>sick_leaves</th>\n",
              "      <th>Avg_achievement_%</th>\n",
              "      <th>Last_achievement_%</th>\n",
              "      <th>Achievement_above_100%_during3quartal</th>\n",
              "      <th>achievement_target_1</th>\n",
              "      <th>achievement_target_2</th>\n",
              "      <th>achievement_target_3</th>\n",
              "      <th>Best Performance</th>\n",
              "    </tr>\n",
              "  </thead>\n",
              "  <tbody>\n",
              "    <tr>\n",
              "      <th>0</th>\n",
              "      <td>3</td>\n",
              "      <td>8.00</td>\n",
              "      <td>6</td>\n",
              "      <td>8.00</td>\n",
              "      <td>0.50</td>\n",
              "      <td>RM_type_A</td>\n",
              "      <td>Female</td>\n",
              "      <td>56</td>\n",
              "      <td>Y</td>\n",
              "      <td>3</td>\n",
              "      <td>5</td>\n",
              "      <td>2.32</td>\n",
              "      <td>1987.0</td>\n",
              "      <td>30.0</td>\n",
              "      <td>30</td>\n",
              "      <td>9</td>\n",
              "      <td>7</td>\n",
              "      <td>0</td>\n",
              "      <td>8</td>\n",
              "      <td>0</td>\n",
              "      <td>68.850000</td>\n",
              "      <td>72.53</td>\n",
              "      <td>0.0</td>\n",
              "      <td>achiev_50%-100%</td>\n",
              "      <td>achiev_&lt; 50%</td>\n",
              "      <td>reached</td>\n",
              "      <td>0</td>\n",
              "    </tr>\n",
              "    <tr>\n",
              "      <th>1</th>\n",
              "      <td>2</td>\n",
              "      <td>5.17</td>\n",
              "      <td>4</td>\n",
              "      <td>2.00</td>\n",
              "      <td>1.25</td>\n",
              "      <td>RM_type_A</td>\n",
              "      <td>Male</td>\n",
              "      <td>41</td>\n",
              "      <td>Y</td>\n",
              "      <td>3</td>\n",
              "      <td>5</td>\n",
              "      <td>3.25</td>\n",
              "      <td>2001.0</td>\n",
              "      <td>15.0</td>\n",
              "      <td>16</td>\n",
              "      <td>7</td>\n",
              "      <td>7</td>\n",
              "      <td>9</td>\n",
              "      <td>3</td>\n",
              "      <td>0</td>\n",
              "      <td>94.810000</td>\n",
              "      <td>101.13</td>\n",
              "      <td>3.0</td>\n",
              "      <td>achiev_50%-100%</td>\n",
              "      <td>achiev_50%-100%</td>\n",
              "      <td>reached</td>\n",
              "      <td>0</td>\n",
              "    </tr>\n",
              "    <tr>\n",
              "      <th>2</th>\n",
              "      <td>2</td>\n",
              "      <td>1.83</td>\n",
              "      <td>3</td>\n",
              "      <td>1.83</td>\n",
              "      <td>1.50</td>\n",
              "      <td>RM_type_A</td>\n",
              "      <td>Male</td>\n",
              "      <td>40</td>\n",
              "      <td>Y</td>\n",
              "      <td>1</td>\n",
              "      <td>6</td>\n",
              "      <td>3.23</td>\n",
              "      <td>2007.0</td>\n",
              "      <td>15.0</td>\n",
              "      <td>15</td>\n",
              "      <td>9</td>\n",
              "      <td>9</td>\n",
              "      <td>0</td>\n",
              "      <td>6</td>\n",
              "      <td>0</td>\n",
              "      <td>72.820000</td>\n",
              "      <td>71.30</td>\n",
              "      <td>0.0</td>\n",
              "      <td>achiev_100%-150%</td>\n",
              "      <td>achiev_&lt; 50%</td>\n",
              "      <td>not_reached</td>\n",
              "      <td>0</td>\n",
              "    </tr>\n",
              "    <tr>\n",
              "      <th>3</th>\n",
              "      <td>2</td>\n",
              "      <td>7.92</td>\n",
              "      <td>4</td>\n",
              "      <td>4.00</td>\n",
              "      <td>0.17</td>\n",
              "      <td>RM_type_A</td>\n",
              "      <td>Male</td>\n",
              "      <td>36</td>\n",
              "      <td>Y</td>\n",
              "      <td>0</td>\n",
              "      <td>4</td>\n",
              "      <td>0.00</td>\n",
              "      <td>2006.0</td>\n",
              "      <td>8.0</td>\n",
              "      <td>8</td>\n",
              "      <td>5</td>\n",
              "      <td>5</td>\n",
              "      <td>0</td>\n",
              "      <td>3</td>\n",
              "      <td>0</td>\n",
              "      <td>86.890000</td>\n",
              "      <td>90.09</td>\n",
              "      <td>2.0</td>\n",
              "      <td>achiev_50%-100%</td>\n",
              "      <td>achiev_50%-100%</td>\n",
              "      <td>not_reached</td>\n",
              "      <td>0</td>\n",
              "    </tr>\n",
              "    <tr>\n",
              "      <th>6</th>\n",
              "      <td>2</td>\n",
              "      <td>1.75</td>\n",
              "      <td>3</td>\n",
              "      <td>1.75</td>\n",
              "      <td>1.33</td>\n",
              "      <td>RM_type_B</td>\n",
              "      <td>Female</td>\n",
              "      <td>34</td>\n",
              "      <td>N</td>\n",
              "      <td>0</td>\n",
              "      <td>5</td>\n",
              "      <td>3.65</td>\n",
              "      <td>2008.0</td>\n",
              "      <td>6.0</td>\n",
              "      <td>6</td>\n",
              "      <td>7</td>\n",
              "      <td>5</td>\n",
              "      <td>0</td>\n",
              "      <td>0</td>\n",
              "      <td>2</td>\n",
              "      <td>66.816667</td>\n",
              "      <td>70.43</td>\n",
              "      <td>0.0</td>\n",
              "      <td>achiev_50%-100%</td>\n",
              "      <td>achiev_&lt; 50%</td>\n",
              "      <td>reached</td>\n",
              "      <td>1</td>\n",
              "    </tr>\n",
              "    <tr>\n",
              "      <th>...</th>\n",
              "      <td>...</td>\n",
              "      <td>...</td>\n",
              "      <td>...</td>\n",
              "      <td>...</td>\n",
              "      <td>...</td>\n",
              "      <td>...</td>\n",
              "      <td>...</td>\n",
              "      <td>...</td>\n",
              "      <td>...</td>\n",
              "      <td>...</td>\n",
              "      <td>...</td>\n",
              "      <td>...</td>\n",
              "      <td>...</td>\n",
              "      <td>...</td>\n",
              "      <td>...</td>\n",
              "      <td>...</td>\n",
              "      <td>...</td>\n",
              "      <td>...</td>\n",
              "      <td>...</td>\n",
              "      <td>...</td>\n",
              "      <td>...</td>\n",
              "      <td>...</td>\n",
              "      <td>...</td>\n",
              "      <td>...</td>\n",
              "      <td>...</td>\n",
              "      <td>...</td>\n",
              "      <td>...</td>\n",
              "    </tr>\n",
              "    <tr>\n",
              "      <th>21998</th>\n",
              "      <td>3</td>\n",
              "      <td>2.67</td>\n",
              "      <td>6</td>\n",
              "      <td>0.50</td>\n",
              "      <td>1.50</td>\n",
              "      <td>RM_type_A</td>\n",
              "      <td>Female</td>\n",
              "      <td>55</td>\n",
              "      <td>Y</td>\n",
              "      <td>2</td>\n",
              "      <td>5</td>\n",
              "      <td>0.00</td>\n",
              "      <td>1991.0</td>\n",
              "      <td>26.0</td>\n",
              "      <td>26</td>\n",
              "      <td>11</td>\n",
              "      <td>11</td>\n",
              "      <td>1</td>\n",
              "      <td>0</td>\n",
              "      <td>0</td>\n",
              "      <td>85.590000</td>\n",
              "      <td>89.37</td>\n",
              "      <td>1.0</td>\n",
              "      <td>Pencapaian 50%-100%</td>\n",
              "      <td>Pencapaian &lt; 50%</td>\n",
              "      <td>reached</td>\n",
              "      <td>0</td>\n",
              "    </tr>\n",
              "    <tr>\n",
              "      <th>21999</th>\n",
              "      <td>2</td>\n",
              "      <td>1.92</td>\n",
              "      <td>3</td>\n",
              "      <td>1.92</td>\n",
              "      <td>2.17</td>\n",
              "      <td>RM_type_A</td>\n",
              "      <td>Male</td>\n",
              "      <td>33</td>\n",
              "      <td>Y</td>\n",
              "      <td>0</td>\n",
              "      <td>5</td>\n",
              "      <td>3.12</td>\n",
              "      <td>2009.0</td>\n",
              "      <td>5.0</td>\n",
              "      <td>5</td>\n",
              "      <td>2</td>\n",
              "      <td>2</td>\n",
              "      <td>0</td>\n",
              "      <td>9</td>\n",
              "      <td>2</td>\n",
              "      <td>68.230000</td>\n",
              "      <td>76.66</td>\n",
              "      <td>0.0</td>\n",
              "      <td>Pencapaian 50%-100%</td>\n",
              "      <td>Pencapaian &lt; 50%</td>\n",
              "      <td>reached</td>\n",
              "      <td>0</td>\n",
              "    </tr>\n",
              "    <tr>\n",
              "      <th>22000</th>\n",
              "      <td>2</td>\n",
              "      <td>1.50</td>\n",
              "      <td>3</td>\n",
              "      <td>1.50</td>\n",
              "      <td>3.42</td>\n",
              "      <td>RM_type_B</td>\n",
              "      <td>Male</td>\n",
              "      <td>34</td>\n",
              "      <td>Y</td>\n",
              "      <td>1</td>\n",
              "      <td>5</td>\n",
              "      <td>2.84</td>\n",
              "      <td>2009.0</td>\n",
              "      <td>5.0</td>\n",
              "      <td>5</td>\n",
              "      <td>2</td>\n",
              "      <td>2</td>\n",
              "      <td>0</td>\n",
              "      <td>2</td>\n",
              "      <td>0</td>\n",
              "      <td>71.776667</td>\n",
              "      <td>75.53</td>\n",
              "      <td>0.0</td>\n",
              "      <td>Pencapaian 50%-100%</td>\n",
              "      <td>Pencapaian 50%-100%</td>\n",
              "      <td>reached</td>\n",
              "      <td>0</td>\n",
              "    </tr>\n",
              "    <tr>\n",
              "      <th>22002</th>\n",
              "      <td>2</td>\n",
              "      <td>1.50</td>\n",
              "      <td>3</td>\n",
              "      <td>1.50</td>\n",
              "      <td>0.00</td>\n",
              "      <td>RM_type_A</td>\n",
              "      <td>Male</td>\n",
              "      <td>37</td>\n",
              "      <td>Y</td>\n",
              "      <td>2</td>\n",
              "      <td>5</td>\n",
              "      <td>3.10</td>\n",
              "      <td>2006.0</td>\n",
              "      <td>7.0</td>\n",
              "      <td>7</td>\n",
              "      <td>5</td>\n",
              "      <td>4</td>\n",
              "      <td>0</td>\n",
              "      <td>3</td>\n",
              "      <td>2</td>\n",
              "      <td>108.856667</td>\n",
              "      <td>111.65</td>\n",
              "      <td>3.0</td>\n",
              "      <td>Pencapaian 50%-100%</td>\n",
              "      <td>Pencapaian 50%-100%</td>\n",
              "      <td>reached</td>\n",
              "      <td>0</td>\n",
              "    </tr>\n",
              "    <tr>\n",
              "      <th>22003</th>\n",
              "      <td>2</td>\n",
              "      <td>1.50</td>\n",
              "      <td>3</td>\n",
              "      <td>1.50</td>\n",
              "      <td>0.00</td>\n",
              "      <td>RM_type_A</td>\n",
              "      <td>Male</td>\n",
              "      <td>32</td>\n",
              "      <td>Y</td>\n",
              "      <td>1</td>\n",
              "      <td>5</td>\n",
              "      <td>3.69</td>\n",
              "      <td>2010.0</td>\n",
              "      <td>6.0</td>\n",
              "      <td>6</td>\n",
              "      <td>5</td>\n",
              "      <td>4</td>\n",
              "      <td>0</td>\n",
              "      <td>13</td>\n",
              "      <td>0</td>\n",
              "      <td>76.366667</td>\n",
              "      <td>79.65</td>\n",
              "      <td>0.0</td>\n",
              "      <td>Pencapaian 100%-150%</td>\n",
              "      <td>Pencapaian 50%-100%</td>\n",
              "      <td>not reached</td>\n",
              "      <td>0</td>\n",
              "    </tr>\n",
              "  </tbody>\n",
              "</table>\n",
              "<p>11727 rows × 27 columns</p>\n",
              "</div>"
            ],
            "text/plain": [
              "       job_level  ...  Best Performance\n",
              "0              3  ...                 0\n",
              "1              2  ...                 0\n",
              "2              2  ...                 0\n",
              "3              2  ...                 0\n",
              "6              2  ...                 1\n",
              "...          ...  ...               ...\n",
              "21998          3  ...                 0\n",
              "21999          2  ...                 0\n",
              "22000          2  ...                 0\n",
              "22002          2  ...                 0\n",
              "22003          2  ...                 0\n",
              "\n",
              "[11727 rows x 27 columns]"
            ]
          },
          "metadata": {
            "tags": []
          },
          "execution_count": 241
        }
      ]
    },
    {
      "cell_type": "markdown",
      "metadata": {
        "id": "_xrdusNjFuA7"
      },
      "source": [
        "### job_duration_as_permanent_worker"
      ]
    },
    {
      "cell_type": "code",
      "metadata": {
        "id": "d_E1J5WIJMDy"
      },
      "source": [
        "#jika dilihat, nilai job_duration_as_permanent_worker = job_duration_from_training, maka missing data di job_duration_as_permanent_worker diambil dari job_duration_from_training \n",
        "X_train['job_duration_as_permanent_worker'] = X_train['job_duration_as_permanent_worker'].fillna(X_train.job_duration_from_training)"
      ],
      "execution_count": null,
      "outputs": []
    },
    {
      "cell_type": "code",
      "metadata": {
        "id": "1Pqlz8MNleJT",
        "colab": {
          "base_uri": "https://localhost:8080/",
          "height": 669
        },
        "outputId": "34ea56e2-ff14-40f3-a79b-b9d0e7e67e18"
      },
      "source": [
        "X_train[['job_duration_as_permanent_worker','job_duration_from_training']].head(20)"
      ],
      "execution_count": null,
      "outputs": [
        {
          "output_type": "execute_result",
          "data": {
            "text/html": [
              "<div>\n",
              "<style scoped>\n",
              "    .dataframe tbody tr th:only-of-type {\n",
              "        vertical-align: middle;\n",
              "    }\n",
              "\n",
              "    .dataframe tbody tr th {\n",
              "        vertical-align: top;\n",
              "    }\n",
              "\n",
              "    .dataframe thead th {\n",
              "        text-align: right;\n",
              "    }\n",
              "</style>\n",
              "<table border=\"1\" class=\"dataframe\">\n",
              "  <thead>\n",
              "    <tr style=\"text-align: right;\">\n",
              "      <th></th>\n",
              "      <th>job_duration_as_permanent_worker</th>\n",
              "      <th>job_duration_from_training</th>\n",
              "    </tr>\n",
              "  </thead>\n",
              "  <tbody>\n",
              "    <tr>\n",
              "      <th>0</th>\n",
              "      <td>30.0</td>\n",
              "      <td>30</td>\n",
              "    </tr>\n",
              "    <tr>\n",
              "      <th>1</th>\n",
              "      <td>15.0</td>\n",
              "      <td>16</td>\n",
              "    </tr>\n",
              "    <tr>\n",
              "      <th>2</th>\n",
              "      <td>15.0</td>\n",
              "      <td>15</td>\n",
              "    </tr>\n",
              "    <tr>\n",
              "      <th>3</th>\n",
              "      <td>8.0</td>\n",
              "      <td>8</td>\n",
              "    </tr>\n",
              "    <tr>\n",
              "      <th>6</th>\n",
              "      <td>6.0</td>\n",
              "      <td>6</td>\n",
              "    </tr>\n",
              "    <tr>\n",
              "      <th>8</th>\n",
              "      <td>6.0</td>\n",
              "      <td>6</td>\n",
              "    </tr>\n",
              "    <tr>\n",
              "      <th>9</th>\n",
              "      <td>5.0</td>\n",
              "      <td>5</td>\n",
              "    </tr>\n",
              "    <tr>\n",
              "      <th>12</th>\n",
              "      <td>5.0</td>\n",
              "      <td>5</td>\n",
              "    </tr>\n",
              "    <tr>\n",
              "      <th>13</th>\n",
              "      <td>5.0</td>\n",
              "      <td>5</td>\n",
              "    </tr>\n",
              "    <tr>\n",
              "      <th>15</th>\n",
              "      <td>4.0</td>\n",
              "      <td>4</td>\n",
              "    </tr>\n",
              "    <tr>\n",
              "      <th>17</th>\n",
              "      <td>3.0</td>\n",
              "      <td>3</td>\n",
              "    </tr>\n",
              "    <tr>\n",
              "      <th>18</th>\n",
              "      <td>3.0</td>\n",
              "      <td>3</td>\n",
              "    </tr>\n",
              "    <tr>\n",
              "      <th>19</th>\n",
              "      <td>2.0</td>\n",
              "      <td>2</td>\n",
              "    </tr>\n",
              "    <tr>\n",
              "      <th>20</th>\n",
              "      <td>24.0</td>\n",
              "      <td>24</td>\n",
              "    </tr>\n",
              "    <tr>\n",
              "      <th>21</th>\n",
              "      <td>25.0</td>\n",
              "      <td>25</td>\n",
              "    </tr>\n",
              "    <tr>\n",
              "      <th>22</th>\n",
              "      <td>29.0</td>\n",
              "      <td>29</td>\n",
              "    </tr>\n",
              "    <tr>\n",
              "      <th>23</th>\n",
              "      <td>17.0</td>\n",
              "      <td>22</td>\n",
              "    </tr>\n",
              "    <tr>\n",
              "      <th>24</th>\n",
              "      <td>6.0</td>\n",
              "      <td>6</td>\n",
              "    </tr>\n",
              "    <tr>\n",
              "      <th>25</th>\n",
              "      <td>6.0</td>\n",
              "      <td>6</td>\n",
              "    </tr>\n",
              "    <tr>\n",
              "      <th>26</th>\n",
              "      <td>6.0</td>\n",
              "      <td>6</td>\n",
              "    </tr>\n",
              "  </tbody>\n",
              "</table>\n",
              "</div>"
            ],
            "text/plain": [
              "    job_duration_as_permanent_worker  job_duration_from_training\n",
              "0                               30.0                          30\n",
              "1                               15.0                          16\n",
              "2                               15.0                          15\n",
              "3                                8.0                           8\n",
              "6                                6.0                           6\n",
              "8                                6.0                           6\n",
              "9                                5.0                           5\n",
              "12                               5.0                           5\n",
              "13                               5.0                           5\n",
              "15                               4.0                           4\n",
              "17                               3.0                           3\n",
              "18                               3.0                           3\n",
              "19                               2.0                           2\n",
              "20                              24.0                          24\n",
              "21                              25.0                          25\n",
              "22                              29.0                          29\n",
              "23                              17.0                          22\n",
              "24                               6.0                           6\n",
              "25                               6.0                           6\n",
              "26                               6.0                           6"
            ]
          },
          "metadata": {
            "tags": []
          },
          "execution_count": 243
        }
      ]
    },
    {
      "cell_type": "markdown",
      "metadata": {
        "id": "4u54G5wDqcpM"
      },
      "source": [
        "### Avg_achievement_% and Last_achievement_% "
      ]
    },
    {
      "cell_type": "code",
      "metadata": {
        "id": "Wjntnvbiw_4_"
      },
      "source": [
        "#kedua variabel ini memiliki hubungan korelasi linear, jadi saya memutuskan menggunakan yang average\n",
        "X_train.drop(columns=['Last_achievement_%'], inplace=True)\n",
        "X_test.drop(columns=['Last_achievement_%'], inplace=True)\n",
        "\n",
        "#untuk missing values pada Avg_achievement_%, kita coba fillna menggunakan mean()\n",
        "X_train['Avg_achievement_%'].fillna((X_train['Avg_achievement_%'].mean()), inplace=True)"
      ],
      "execution_count": null,
      "outputs": []
    },
    {
      "cell_type": "markdown",
      "metadata": {
        "id": "99OVyml1HK0e"
      },
      "source": [
        "### Achievement_above_100%_during3quartal"
      ]
    },
    {
      "cell_type": "code",
      "metadata": {
        "id": "jx6vHblZHMA_",
        "colab": {
          "base_uri": "https://localhost:8080/"
        },
        "outputId": "17ffb04a-44f5-40c3-e1d0-d87882dcc4bd"
      },
      "source": [
        "X_train['Achievement_above_100%_during3quartal'].fillna(0, inplace=True)\n",
        "X_train['Achievement_above_100%_during3quartal'].isnull().any()"
      ],
      "execution_count": null,
      "outputs": [
        {
          "output_type": "execute_result",
          "data": {
            "text/plain": [
              "False"
            ]
          },
          "metadata": {
            "tags": []
          },
          "execution_count": 245
        }
      ]
    },
    {
      "cell_type": "markdown",
      "metadata": {
        "id": "iioapZwbtiXu"
      },
      "source": [
        "### achievement_target_1"
      ]
    },
    {
      "cell_type": "code",
      "metadata": {
        "id": "vhyFLT7xttO4",
        "colab": {
          "base_uri": "https://localhost:8080/"
        },
        "outputId": "a4b5d7ee-1365-45ee-ee6c-642c5d029227"
      },
      "source": [
        "X_train['achievement_target_1'].value_counts().sort_index()"
      ],
      "execution_count": null,
      "outputs": [
        {
          "output_type": "execute_result",
          "data": {
            "text/plain": [
              "Pencapaian 100%-150%       385\n",
              "Pencapaian 50%-100%       1187\n",
              "Pencapaian < 50%           143\n",
              "Pencapaian > 1.5            39\n",
              "Tidak diberikan target     125\n",
              "achiev_100%-150%          1929\n",
              "achiev_50%-100%           5823\n",
              "achiev_< 50%              1668\n",
              "achiev_> 1.5               428\n",
              "Name: achievement_target_1, dtype: int64"
            ]
          },
          "metadata": {
            "tags": []
          },
          "execution_count": 246
        }
      ]
    },
    {
      "cell_type": "code",
      "metadata": {
        "id": "zFOt9wlT0m7p"
      },
      "source": [
        "#achiev dan Pencapaian samain aja\n",
        "mapping = {'Tidak diberikan target': 1, \n",
        "           'achiev_> 1.5': 2, \n",
        "           'achiev_< 50%': 3, \n",
        "           'achiev_50%-100%': 4,\n",
        "           'achiev_100%-150%': 5,\n",
        "           'Pencapaian > 1.5': 2,\n",
        "           'Pencapaian < 50%': 3,\n",
        "           'Pencapaian 50%-100%': 4,\n",
        "           'Pencapaian 100%-150%': 5,\n",
        "           \n",
        "           } #tweakable, mapping can start from 0\n",
        "\n",
        "X_train['achievement_target_1'] = X_train['achievement_target_1'].replace(mapping)\n",
        "X_test['achievement_target_1'] = X_test['achievement_target_1'].replace(mapping)\n",
        "\n",
        "X_train['achievement_target_1'].fillna(0, inplace=True)"
      ],
      "execution_count": null,
      "outputs": []
    },
    {
      "cell_type": "code",
      "metadata": {
        "id": "yp95-V5zvhAf",
        "colab": {
          "base_uri": "https://localhost:8080/"
        },
        "outputId": "439d50b4-2c77-409c-c047-77d3ac42152c"
      },
      "source": [
        "print(X_train[X_train['achievement_target_1'].isnull()].shape) #jumlah acivment_target_1 nya null\n",
        "print(X_train[X_train['achievement_target_1'].isnull()& X_train['achievement_target_2'].isnull() & X_train['achievement_target_3'].isnull()].shape)#jumlah semua acivment null"
      ],
      "execution_count": null,
      "outputs": [
        {
          "output_type": "stream",
          "text": [
            "(0, 26)\n",
            "(0, 26)\n"
          ],
          "name": "stdout"
        }
      ]
    },
    {
      "cell_type": "code",
      "metadata": {
        "id": "gtySVw5Au90B"
      },
      "source": [
        "#coba pake ohc\n",
        "#X_train = ohc(X_train,'achievement_target_1', ['at1_1','at1_2','at1_3','at1_4','at1_5','at1_6','at1_7','at1_8','at1_9'])"
      ],
      "execution_count": null,
      "outputs": []
    },
    {
      "cell_type": "markdown",
      "metadata": {
        "id": "oCwhvshL2HPm"
      },
      "source": [
        "### achievement_target_2"
      ]
    },
    {
      "cell_type": "code",
      "metadata": {
        "id": "xWGq15uP2MWw",
        "colab": {
          "base_uri": "https://localhost:8080/"
        },
        "outputId": "4c6a64b2-06bf-44c1-87ae-2d6ed19ccba2"
      },
      "source": [
        "X_train['achievement_target_2'].value_counts().sort_index()"
      ],
      "execution_count": null,
      "outputs": [
        {
          "output_type": "execute_result",
          "data": {
            "text/plain": [
              "Pencapaian 100%-150%       122\n",
              "Pencapaian 50%-100%        395\n",
              "Pencapaian < 50%          1193\n",
              "Pencapaian > 1.5            46\n",
              "Tidak diberikan target     135\n",
              "achiev_100%-150%           685\n",
              "achiev_50%-100%           1764\n",
              "achiev_< 50%              6707\n",
              "achiev_> 1.5               680\n",
              "Name: achievement_target_2, dtype: int64"
            ]
          },
          "metadata": {
            "tags": []
          },
          "execution_count": 250
        }
      ]
    },
    {
      "cell_type": "code",
      "metadata": {
        "id": "63S5NFjW7Omy",
        "colab": {
          "base_uri": "https://localhost:8080/"
        },
        "outputId": "33af3927-aa85-4934-d248-1defe52e152b"
      },
      "source": [
        "#same as achievment_target_1\n",
        "mapping = {'Tidak diberikan target': 1, \n",
        "           'achiev_> 1.5': 2, \n",
        "           'achiev_< 50%': 3, \n",
        "           'achiev_50%-100%': 4,\n",
        "           'achiev_100%-150%': 5,\n",
        "           'Pencapaian > 1.5': 2,\n",
        "           'Pencapaian < 50%': 3,\n",
        "           'Pencapaian 50%-100%': 4,\n",
        "           'Pencapaian 100%-150%': 5,\n",
        "           \n",
        "           } #tweakable, mapping can start from 0\n",
        "\n",
        "X_train['achievement_target_2'] = X_train['achievement_target_2'].replace(mapping)\n",
        "X_test['achievement_target_2'] = X_test['achievement_target_2'].replace(mapping)\n",
        "\n",
        "X_train['achievement_target_2'].fillna(0, inplace=True)\n",
        "\n",
        "print(X_train[X_train['achievement_target_2'].isnull()].shape) #jumlah acivment_target_2 yang null\n"
      ],
      "execution_count": null,
      "outputs": [
        {
          "output_type": "stream",
          "text": [
            "(0, 26)\n"
          ],
          "name": "stdout"
        }
      ]
    },
    {
      "cell_type": "markdown",
      "metadata": {
        "id": "r1S52BeF-fgO"
      },
      "source": [
        "### achievment_target_3"
      ]
    },
    {
      "cell_type": "code",
      "metadata": {
        "id": "bTRVYrQH-lNX",
        "colab": {
          "base_uri": "https://localhost:8080/"
        },
        "outputId": "1c4eb5e1-f3d1-4e3c-8757-1223ea2caa4e"
      },
      "source": [
        "X_train['achievement_target_3'].value_counts().sort_index()"
      ],
      "execution_count": null,
      "outputs": [
        {
          "output_type": "execute_result",
          "data": {
            "text/plain": [
              "not reached    3306\n",
              "not_reached      13\n",
              "reached        8408\n",
              "Name: achievement_target_3, dtype: int64"
            ]
          },
          "metadata": {
            "tags": []
          },
          "execution_count": 252
        }
      ]
    },
    {
      "cell_type": "code",
      "metadata": {
        "id": "GCfLInq2-jGb",
        "colab": {
          "base_uri": "https://localhost:8080/"
        },
        "outputId": "d5dc24bb-24f8-43e4-cb28-f5caf74d6277"
      },
      "source": [
        "mapping = {'not reached': 0, \n",
        "           'not_reached': 0, \n",
        "           'reached': 1} #tweakable, bisa make ohc\n",
        "\n",
        "X_train['achievement_target_3'] = X_train['achievement_target_3'].replace(mapping)\n",
        "X_test['achievement_target_3'] = X_test['achievement_target_3'].replace(mapping)\n",
        "\n",
        "X_train['achievement_target_3'].fillna(0, inplace=True)\n",
        "\n",
        "print(X_train[X_train['achievement_target_3'].isnull()].shape) #jumlah acivment_target_3 nya null"
      ],
      "execution_count": null,
      "outputs": [
        {
          "output_type": "stream",
          "text": [
            "(0, 26)\n"
          ],
          "name": "stdout"
        }
      ]
    },
    {
      "cell_type": "markdown",
      "metadata": {
        "id": "6UHgag2C-pfe"
      },
      "source": [
        "## One hot encoder"
      ]
    },
    {
      "cell_type": "code",
      "metadata": {
        "colab": {
          "base_uri": "https://localhost:8080/"
        },
        "id": "3lhTu609HiKv",
        "outputId": "cec0ae61-edf3-4795-d569-cfd2b1a82864"
      },
      "source": [
        "print(X_train.shape)\n",
        "print(X_test.shape)"
      ],
      "execution_count": null,
      "outputs": [
        {
          "output_type": "stream",
          "text": [
            "(11727, 26)\n",
            "(6000, 25)\n"
          ],
          "name": "stdout"
        }
      ]
    },
    {
      "cell_type": "code",
      "metadata": {
        "id": "2XMsAt5INKoK"
      },
      "source": [
        "y_train = X_train['Best Performance']\n",
        "X_train = X_train.drop(columns='Best Performance')"
      ],
      "execution_count": null,
      "outputs": []
    },
    {
      "cell_type": "code",
      "metadata": {
        "id": "A_lxlzGmfYUZ"
      },
      "source": [
        "X_train, X_test = ohc(X_train, X_test,'Employee_type', ['RM_type_A','RM_type_B', 'RM_type_C'])"
      ],
      "execution_count": null,
      "outputs": []
    },
    {
      "cell_type": "code",
      "metadata": {
        "colab": {
          "base_uri": "https://localhost:8080/",
          "height": 456
        },
        "id": "3mBNjrftIwnv",
        "outputId": "8ab43109-c63f-40b7-fb48-024aaf0d110d"
      },
      "source": [
        "X_train"
      ],
      "execution_count": null,
      "outputs": [
        {
          "output_type": "execute_result",
          "data": {
            "text/html": [
              "<div>\n",
              "<style scoped>\n",
              "    .dataframe tbody tr th:only-of-type {\n",
              "        vertical-align: middle;\n",
              "    }\n",
              "\n",
              "    .dataframe tbody tr th {\n",
              "        vertical-align: top;\n",
              "    }\n",
              "\n",
              "    .dataframe thead th {\n",
              "        text-align: right;\n",
              "    }\n",
              "</style>\n",
              "<table border=\"1\" class=\"dataframe\">\n",
              "  <thead>\n",
              "    <tr style=\"text-align: right;\">\n",
              "      <th></th>\n",
              "      <th>job_level</th>\n",
              "      <th>job_duration_in_current_job_level</th>\n",
              "      <th>person_level</th>\n",
              "      <th>job_duration_in_current_person_level</th>\n",
              "      <th>job_duration_in_current_branch</th>\n",
              "      <th>gender</th>\n",
              "      <th>age</th>\n",
              "      <th>marital_status_maried(Y/N)</th>\n",
              "      <th>number_of_dependences</th>\n",
              "      <th>Education_level</th>\n",
              "      <th>GPA</th>\n",
              "      <th>year_graduated</th>\n",
              "      <th>job_duration_as_permanent_worker</th>\n",
              "      <th>job_duration_from_training</th>\n",
              "      <th>branch_rotation</th>\n",
              "      <th>job_rotation</th>\n",
              "      <th>assign_of_otherposition</th>\n",
              "      <th>annual leave</th>\n",
              "      <th>sick_leaves</th>\n",
              "      <th>Avg_achievement_%</th>\n",
              "      <th>Achievement_above_100%_during3quartal</th>\n",
              "      <th>achievement_target_1</th>\n",
              "      <th>achievement_target_2</th>\n",
              "      <th>achievement_target_3</th>\n",
              "      <th>RM_type_A</th>\n",
              "      <th>RM_type_B</th>\n",
              "      <th>RM_type_C</th>\n",
              "    </tr>\n",
              "  </thead>\n",
              "  <tbody>\n",
              "    <tr>\n",
              "      <th>0</th>\n",
              "      <td>3</td>\n",
              "      <td>8.00</td>\n",
              "      <td>6</td>\n",
              "      <td>8.00</td>\n",
              "      <td>0.50</td>\n",
              "      <td>Female</td>\n",
              "      <td>56</td>\n",
              "      <td>Y</td>\n",
              "      <td>3</td>\n",
              "      <td>5</td>\n",
              "      <td>2.32</td>\n",
              "      <td>1987.0</td>\n",
              "      <td>30.0</td>\n",
              "      <td>30</td>\n",
              "      <td>9</td>\n",
              "      <td>7</td>\n",
              "      <td>0</td>\n",
              "      <td>8</td>\n",
              "      <td>0</td>\n",
              "      <td>68.850000</td>\n",
              "      <td>0.0</td>\n",
              "      <td>4</td>\n",
              "      <td>3</td>\n",
              "      <td>1</td>\n",
              "      <td>1.0</td>\n",
              "      <td>0.0</td>\n",
              "      <td>0.0</td>\n",
              "    </tr>\n",
              "    <tr>\n",
              "      <th>1</th>\n",
              "      <td>2</td>\n",
              "      <td>5.17</td>\n",
              "      <td>4</td>\n",
              "      <td>2.00</td>\n",
              "      <td>1.25</td>\n",
              "      <td>Male</td>\n",
              "      <td>41</td>\n",
              "      <td>Y</td>\n",
              "      <td>3</td>\n",
              "      <td>5</td>\n",
              "      <td>3.25</td>\n",
              "      <td>2001.0</td>\n",
              "      <td>15.0</td>\n",
              "      <td>16</td>\n",
              "      <td>7</td>\n",
              "      <td>7</td>\n",
              "      <td>9</td>\n",
              "      <td>3</td>\n",
              "      <td>0</td>\n",
              "      <td>94.810000</td>\n",
              "      <td>3.0</td>\n",
              "      <td>4</td>\n",
              "      <td>4</td>\n",
              "      <td>1</td>\n",
              "      <td>1.0</td>\n",
              "      <td>0.0</td>\n",
              "      <td>0.0</td>\n",
              "    </tr>\n",
              "    <tr>\n",
              "      <th>2</th>\n",
              "      <td>2</td>\n",
              "      <td>1.83</td>\n",
              "      <td>3</td>\n",
              "      <td>1.83</td>\n",
              "      <td>1.50</td>\n",
              "      <td>Male</td>\n",
              "      <td>40</td>\n",
              "      <td>Y</td>\n",
              "      <td>1</td>\n",
              "      <td>6</td>\n",
              "      <td>3.23</td>\n",
              "      <td>2007.0</td>\n",
              "      <td>15.0</td>\n",
              "      <td>15</td>\n",
              "      <td>9</td>\n",
              "      <td>9</td>\n",
              "      <td>0</td>\n",
              "      <td>6</td>\n",
              "      <td>0</td>\n",
              "      <td>72.820000</td>\n",
              "      <td>0.0</td>\n",
              "      <td>5</td>\n",
              "      <td>3</td>\n",
              "      <td>0</td>\n",
              "      <td>1.0</td>\n",
              "      <td>0.0</td>\n",
              "      <td>0.0</td>\n",
              "    </tr>\n",
              "    <tr>\n",
              "      <th>3</th>\n",
              "      <td>2</td>\n",
              "      <td>7.92</td>\n",
              "      <td>4</td>\n",
              "      <td>4.00</td>\n",
              "      <td>0.17</td>\n",
              "      <td>Male</td>\n",
              "      <td>36</td>\n",
              "      <td>Y</td>\n",
              "      <td>0</td>\n",
              "      <td>4</td>\n",
              "      <td>0.00</td>\n",
              "      <td>2006.0</td>\n",
              "      <td>8.0</td>\n",
              "      <td>8</td>\n",
              "      <td>5</td>\n",
              "      <td>5</td>\n",
              "      <td>0</td>\n",
              "      <td>3</td>\n",
              "      <td>0</td>\n",
              "      <td>86.890000</td>\n",
              "      <td>2.0</td>\n",
              "      <td>4</td>\n",
              "      <td>4</td>\n",
              "      <td>0</td>\n",
              "      <td>1.0</td>\n",
              "      <td>0.0</td>\n",
              "      <td>0.0</td>\n",
              "    </tr>\n",
              "    <tr>\n",
              "      <th>6</th>\n",
              "      <td>2</td>\n",
              "      <td>1.75</td>\n",
              "      <td>3</td>\n",
              "      <td>1.75</td>\n",
              "      <td>1.33</td>\n",
              "      <td>Female</td>\n",
              "      <td>34</td>\n",
              "      <td>N</td>\n",
              "      <td>0</td>\n",
              "      <td>5</td>\n",
              "      <td>3.65</td>\n",
              "      <td>2008.0</td>\n",
              "      <td>6.0</td>\n",
              "      <td>6</td>\n",
              "      <td>7</td>\n",
              "      <td>5</td>\n",
              "      <td>0</td>\n",
              "      <td>0</td>\n",
              "      <td>2</td>\n",
              "      <td>66.816667</td>\n",
              "      <td>0.0</td>\n",
              "      <td>4</td>\n",
              "      <td>3</td>\n",
              "      <td>1</td>\n",
              "      <td>0.0</td>\n",
              "      <td>1.0</td>\n",
              "      <td>0.0</td>\n",
              "    </tr>\n",
              "    <tr>\n",
              "      <th>...</th>\n",
              "      <td>...</td>\n",
              "      <td>...</td>\n",
              "      <td>...</td>\n",
              "      <td>...</td>\n",
              "      <td>...</td>\n",
              "      <td>...</td>\n",
              "      <td>...</td>\n",
              "      <td>...</td>\n",
              "      <td>...</td>\n",
              "      <td>...</td>\n",
              "      <td>...</td>\n",
              "      <td>...</td>\n",
              "      <td>...</td>\n",
              "      <td>...</td>\n",
              "      <td>...</td>\n",
              "      <td>...</td>\n",
              "      <td>...</td>\n",
              "      <td>...</td>\n",
              "      <td>...</td>\n",
              "      <td>...</td>\n",
              "      <td>...</td>\n",
              "      <td>...</td>\n",
              "      <td>...</td>\n",
              "      <td>...</td>\n",
              "      <td>...</td>\n",
              "      <td>...</td>\n",
              "      <td>...</td>\n",
              "    </tr>\n",
              "    <tr>\n",
              "      <th>21998</th>\n",
              "      <td>3</td>\n",
              "      <td>2.67</td>\n",
              "      <td>6</td>\n",
              "      <td>0.50</td>\n",
              "      <td>1.50</td>\n",
              "      <td>Female</td>\n",
              "      <td>55</td>\n",
              "      <td>Y</td>\n",
              "      <td>2</td>\n",
              "      <td>5</td>\n",
              "      <td>0.00</td>\n",
              "      <td>1991.0</td>\n",
              "      <td>26.0</td>\n",
              "      <td>26</td>\n",
              "      <td>11</td>\n",
              "      <td>11</td>\n",
              "      <td>1</td>\n",
              "      <td>0</td>\n",
              "      <td>0</td>\n",
              "      <td>85.590000</td>\n",
              "      <td>1.0</td>\n",
              "      <td>4</td>\n",
              "      <td>3</td>\n",
              "      <td>1</td>\n",
              "      <td>1.0</td>\n",
              "      <td>0.0</td>\n",
              "      <td>0.0</td>\n",
              "    </tr>\n",
              "    <tr>\n",
              "      <th>21999</th>\n",
              "      <td>2</td>\n",
              "      <td>1.92</td>\n",
              "      <td>3</td>\n",
              "      <td>1.92</td>\n",
              "      <td>2.17</td>\n",
              "      <td>Male</td>\n",
              "      <td>33</td>\n",
              "      <td>Y</td>\n",
              "      <td>0</td>\n",
              "      <td>5</td>\n",
              "      <td>3.12</td>\n",
              "      <td>2009.0</td>\n",
              "      <td>5.0</td>\n",
              "      <td>5</td>\n",
              "      <td>2</td>\n",
              "      <td>2</td>\n",
              "      <td>0</td>\n",
              "      <td>9</td>\n",
              "      <td>2</td>\n",
              "      <td>68.230000</td>\n",
              "      <td>0.0</td>\n",
              "      <td>4</td>\n",
              "      <td>3</td>\n",
              "      <td>1</td>\n",
              "      <td>1.0</td>\n",
              "      <td>0.0</td>\n",
              "      <td>0.0</td>\n",
              "    </tr>\n",
              "    <tr>\n",
              "      <th>22000</th>\n",
              "      <td>2</td>\n",
              "      <td>1.50</td>\n",
              "      <td>3</td>\n",
              "      <td>1.50</td>\n",
              "      <td>3.42</td>\n",
              "      <td>Male</td>\n",
              "      <td>34</td>\n",
              "      <td>Y</td>\n",
              "      <td>1</td>\n",
              "      <td>5</td>\n",
              "      <td>2.84</td>\n",
              "      <td>2009.0</td>\n",
              "      <td>5.0</td>\n",
              "      <td>5</td>\n",
              "      <td>2</td>\n",
              "      <td>2</td>\n",
              "      <td>0</td>\n",
              "      <td>2</td>\n",
              "      <td>0</td>\n",
              "      <td>71.776667</td>\n",
              "      <td>0.0</td>\n",
              "      <td>4</td>\n",
              "      <td>4</td>\n",
              "      <td>1</td>\n",
              "      <td>0.0</td>\n",
              "      <td>1.0</td>\n",
              "      <td>0.0</td>\n",
              "    </tr>\n",
              "    <tr>\n",
              "      <th>22002</th>\n",
              "      <td>2</td>\n",
              "      <td>1.50</td>\n",
              "      <td>3</td>\n",
              "      <td>1.50</td>\n",
              "      <td>0.00</td>\n",
              "      <td>Male</td>\n",
              "      <td>37</td>\n",
              "      <td>Y</td>\n",
              "      <td>2</td>\n",
              "      <td>5</td>\n",
              "      <td>3.10</td>\n",
              "      <td>2006.0</td>\n",
              "      <td>7.0</td>\n",
              "      <td>7</td>\n",
              "      <td>5</td>\n",
              "      <td>4</td>\n",
              "      <td>0</td>\n",
              "      <td>3</td>\n",
              "      <td>2</td>\n",
              "      <td>108.856667</td>\n",
              "      <td>3.0</td>\n",
              "      <td>4</td>\n",
              "      <td>4</td>\n",
              "      <td>1</td>\n",
              "      <td>1.0</td>\n",
              "      <td>0.0</td>\n",
              "      <td>0.0</td>\n",
              "    </tr>\n",
              "    <tr>\n",
              "      <th>22003</th>\n",
              "      <td>2</td>\n",
              "      <td>1.50</td>\n",
              "      <td>3</td>\n",
              "      <td>1.50</td>\n",
              "      <td>0.00</td>\n",
              "      <td>Male</td>\n",
              "      <td>32</td>\n",
              "      <td>Y</td>\n",
              "      <td>1</td>\n",
              "      <td>5</td>\n",
              "      <td>3.69</td>\n",
              "      <td>2010.0</td>\n",
              "      <td>6.0</td>\n",
              "      <td>6</td>\n",
              "      <td>5</td>\n",
              "      <td>4</td>\n",
              "      <td>0</td>\n",
              "      <td>13</td>\n",
              "      <td>0</td>\n",
              "      <td>76.366667</td>\n",
              "      <td>0.0</td>\n",
              "      <td>5</td>\n",
              "      <td>4</td>\n",
              "      <td>0</td>\n",
              "      <td>1.0</td>\n",
              "      <td>0.0</td>\n",
              "      <td>0.0</td>\n",
              "    </tr>\n",
              "  </tbody>\n",
              "</table>\n",
              "<p>11727 rows × 27 columns</p>\n",
              "</div>"
            ],
            "text/plain": [
              "       job_level  job_duration_in_current_job_level  ...  RM_type_B  RM_type_C\n",
              "0              3                               8.00  ...        0.0        0.0\n",
              "1              2                               5.17  ...        0.0        0.0\n",
              "2              2                               1.83  ...        0.0        0.0\n",
              "3              2                               7.92  ...        0.0        0.0\n",
              "6              2                               1.75  ...        1.0        0.0\n",
              "...          ...                                ...  ...        ...        ...\n",
              "21998          3                               2.67  ...        0.0        0.0\n",
              "21999          2                               1.92  ...        0.0        0.0\n",
              "22000          2                               1.50  ...        1.0        0.0\n",
              "22002          2                               1.50  ...        0.0        0.0\n",
              "22003          2                               1.50  ...        0.0        0.0\n",
              "\n",
              "[11727 rows x 27 columns]"
            ]
          },
          "metadata": {
            "tags": []
          },
          "execution_count": 257
        }
      ]
    },
    {
      "cell_type": "code",
      "metadata": {
        "id": "M6QBZPioX3rV"
      },
      "source": [
        "X_train, X_test = ohc(X_train, X_test,'gender', ['Male','Female'])"
      ],
      "execution_count": null,
      "outputs": []
    },
    {
      "cell_type": "code",
      "metadata": {
        "id": "ES_mccxJFKNr"
      },
      "source": [
        "X_train, X_test = ohc(X_train, X_test,'marital_status_maried(Y/N)', ['married','notMarried'])"
      ],
      "execution_count": null,
      "outputs": []
    },
    {
      "cell_type": "markdown",
      "metadata": {
        "id": "zPcV36QQ3Uas"
      },
      "source": [
        "## X_test"
      ]
    },
    {
      "cell_type": "markdown",
      "metadata": {
        "id": "vMucd-KT3YaO"
      },
      "source": [
        "### label encoding"
      ]
    },
    {
      "cell_type": "code",
      "metadata": {
        "colab": {
          "base_uri": "https://localhost:8080/"
        },
        "id": "_NItNzKm3ajW",
        "outputId": "c2a4911c-0a96-41b7-8ecd-686ce0cdfdd8"
      },
      "source": [
        "\"\"\"mapping = {'JG03': 1, 'JG04': 2, 'JG05': 3, 'JG06': 4} #tweakable, mapping can start from 0\n",
        "X_test['job_level'] = X_test['job_level'].replace(mapping)\n",
        "\n",
        "mapping = {'PG01': 1, 'PG02': 2, 'PG03': 3, 'PG04': 4, 'PG05': 5, 'PG06': 6, 'PG07': 7, 'PG08': 8} #tweakable, mapping can start from 0\n",
        "X_test['person_level'] = X_test['person_level'].replace(mapping)\n",
        "\n",
        "#label encoder education_level \n",
        "mapping = {'level_0': 1, 'level_1': 2, 'level_2': 3, 'level_3': 4, 'level_4': 5, 'level_5': 6} #tweakable, mapping can start from 0\n",
        "\n",
        "X_test['Education_level'] = X_test['Education_level'].replace(mapping)\n",
        "\n",
        "mapping = {'Tidak diberikan target': 1, \n",
        "           'achiev_> 1.5': 2, \n",
        "           'achiev_< 50%': 3, \n",
        "           'achiev_50%-100%': 4,\n",
        "           'achiev_100%-150%': 5,\n",
        "           'Pencapaian > 1.5': 2,\n",
        "           'Pencapaian < 50%': 3,\n",
        "           'Pencapaian 50%-100%': 4,\n",
        "           'Pencapaian 100%-150%': 5,      \n",
        "           } #tweakable, mapping can start from 0\n",
        "X_test['achievement_target_1'] = X_test['achievement_target_1'].replace(mapping)\n",
        "\n",
        "mapping = {'Tidak diberikan target': 1, \n",
        "           'achiev_> 1.5': 2, \n",
        "           'achiev_< 50%': 3, \n",
        "           'achiev_50%-100%': 4,\n",
        "           'achiev_100%-150%': 5,\n",
        "           'Pencapaian > 1.5': 2,\n",
        "           'Pencapaian < 50%': 3,\n",
        "           'Pencapaian 50%-100%': 4,\n",
        "           'Pencapaian 100%-150%': 5,     \n",
        "           } #tweakable, mapping can start from 0\n",
        "X_test['achievement_target_2'] = X_test['achievement_target_2'].replace(mapping)\n",
        "\n",
        "mapping = {'not reached': 0, \n",
        "           'not_reached': 0, \n",
        "           'reached': 1} #tweakable, bisa make ohc\n",
        "X_test['achievement_target_3'] = X_test['achievement_target_3'].replace(mapping)\n",
        "\"\"\""
      ],
      "execution_count": null,
      "outputs": [
        {
          "output_type": "execute_result",
          "data": {
            "application/vnd.google.colaboratory.intrinsic+json": {
              "type": "string"
            },
            "text/plain": [
              "\"mapping = {'JG03': 1, 'JG04': 2, 'JG05': 3, 'JG06': 4} #tweakable, mapping can start from 0\\nX_test['job_level'] = X_test['job_level'].replace(mapping)\\n\\nmapping = {'PG01': 1, 'PG02': 2, 'PG03': 3, 'PG04': 4, 'PG05': 5, 'PG06': 6, 'PG07': 7, 'PG08': 8} #tweakable, mapping can start from 0\\nX_test['person_level'] = X_test['person_level'].replace(mapping)\\n\\n#label encoder education_level \\nmapping = {'level_0': 1, 'level_1': 2, 'level_2': 3, 'level_3': 4, 'level_4': 5, 'level_5': 6} #tweakable, mapping can start from 0\\n\\nX_test['Education_level'] = X_test['Education_level'].replace(mapping)\\n\\nmapping = {'Tidak diberikan target': 1, \\n           'achiev_> 1.5': 2, \\n           'achiev_< 50%': 3, \\n           'achiev_50%-100%': 4,\\n           'achiev_100%-150%': 5,\\n           'Pencapaian > 1.5': 2,\\n           'Pencapaian < 50%': 3,\\n           'Pencapaian 50%-100%': 4,\\n           'Pencapaian 100%-150%': 5,      \\n           } #tweakable, mapping can start from 0\\nX_test['achievement_target_1'] = X_test['achievement_target_1'].replace(mapping)\\n\\nmapping = {'Tidak diberikan target': 1, \\n           'achiev_> 1.5': 2, \\n           'achiev_< 50%': 3, \\n           'achiev_50%-100%': 4,\\n           'achiev_100%-150%': 5,\\n           'Pencapaian > 1.5': 2,\\n           'Pencapaian < 50%': 3,\\n           'Pencapaian 50%-100%': 4,\\n           'Pencapaian 100%-150%': 5,     \\n           } #tweakable, mapping can start from 0\\nX_test['achievement_target_2'] = X_test['achievement_target_2'].replace(mapping)\\n\\nmapping = {'not reached': 0, \\n           'not_reached': 0, \\n           'reached': 1} #tweakable, bisa make ohc\\nX_test['achievement_target_3'] = X_test['achievement_target_3'].replace(mapping)\\n\""
            ]
          },
          "metadata": {
            "tags": []
          },
          "execution_count": 260
        }
      ]
    },
    {
      "cell_type": "markdown",
      "metadata": {
        "id": "H2GVPcau55-F"
      },
      "source": [
        "### OHC"
      ]
    },
    {
      "cell_type": "code",
      "metadata": {
        "id": "ZYklympu58WM"
      },
      "source": [
        "#X_test = ohc(X_test,'Employee_type', ['RM_type_A','RM_type_B', 'RM_type_C'])\n",
        "#X_test = ohc(X_test,'Employee_status', ['ES_Contract','ES_Permanent'])\n",
        "#X_test = ohc(X_test,'gender', ['Male','Female'])\n",
        "#X_test = ohc(X_test,'marital_status_maried(Y/N)', ['married','notMarried'])"
      ],
      "execution_count": null,
      "outputs": []
    },
    {
      "cell_type": "markdown",
      "metadata": {
        "id": "SSlS2Vl77g2G"
      },
      "source": [
        "### Misc"
      ]
    },
    {
      "cell_type": "markdown",
      "metadata": {
        "id": "MMU9fu0jy9BS"
      },
      "source": [
        "## test"
      ]
    },
    {
      "cell_type": "code",
      "metadata": {
        "id": "OoBGOBKL7kPp",
        "colab": {
          "base_uri": "https://localhost:8080/"
        },
        "outputId": "e9ace302-c20d-4579-a2c3-6a12fd1a34ca"
      },
      "source": [
        "X_train.duplicated().sum()"
      ],
      "execution_count": null,
      "outputs": [
        {
          "output_type": "execute_result",
          "data": {
            "text/plain": [
              "0"
            ]
          },
          "metadata": {
            "tags": []
          },
          "execution_count": 262
        }
      ]
    },
    {
      "cell_type": "markdown",
      "metadata": {
        "id": "s3iuDq9H_y-a"
      },
      "source": [
        "## Feature Scalling"
      ]
    },
    {
      "cell_type": "code",
      "metadata": {
        "colab": {
          "base_uri": "https://localhost:8080/",
          "height": 456
        },
        "id": "1wxw6lij2bYZ",
        "outputId": "ddd7cc88-fabd-4f75-e6ca-781ad1834e21"
      },
      "source": [
        "X_train"
      ],
      "execution_count": null,
      "outputs": [
        {
          "output_type": "execute_result",
          "data": {
            "text/html": [
              "<div>\n",
              "<style scoped>\n",
              "    .dataframe tbody tr th:only-of-type {\n",
              "        vertical-align: middle;\n",
              "    }\n",
              "\n",
              "    .dataframe tbody tr th {\n",
              "        vertical-align: top;\n",
              "    }\n",
              "\n",
              "    .dataframe thead th {\n",
              "        text-align: right;\n",
              "    }\n",
              "</style>\n",
              "<table border=\"1\" class=\"dataframe\">\n",
              "  <thead>\n",
              "    <tr style=\"text-align: right;\">\n",
              "      <th></th>\n",
              "      <th>job_level</th>\n",
              "      <th>job_duration_in_current_job_level</th>\n",
              "      <th>person_level</th>\n",
              "      <th>job_duration_in_current_person_level</th>\n",
              "      <th>job_duration_in_current_branch</th>\n",
              "      <th>age</th>\n",
              "      <th>number_of_dependences</th>\n",
              "      <th>Education_level</th>\n",
              "      <th>GPA</th>\n",
              "      <th>year_graduated</th>\n",
              "      <th>job_duration_as_permanent_worker</th>\n",
              "      <th>job_duration_from_training</th>\n",
              "      <th>branch_rotation</th>\n",
              "      <th>job_rotation</th>\n",
              "      <th>assign_of_otherposition</th>\n",
              "      <th>annual leave</th>\n",
              "      <th>sick_leaves</th>\n",
              "      <th>Avg_achievement_%</th>\n",
              "      <th>Achievement_above_100%_during3quartal</th>\n",
              "      <th>achievement_target_1</th>\n",
              "      <th>achievement_target_2</th>\n",
              "      <th>achievement_target_3</th>\n",
              "      <th>RM_type_A</th>\n",
              "      <th>RM_type_B</th>\n",
              "      <th>RM_type_C</th>\n",
              "      <th>Male</th>\n",
              "      <th>Female</th>\n",
              "      <th>married</th>\n",
              "      <th>notMarried</th>\n",
              "    </tr>\n",
              "  </thead>\n",
              "  <tbody>\n",
              "    <tr>\n",
              "      <th>0</th>\n",
              "      <td>3</td>\n",
              "      <td>8.00</td>\n",
              "      <td>6</td>\n",
              "      <td>8.00</td>\n",
              "      <td>0.50</td>\n",
              "      <td>56</td>\n",
              "      <td>3</td>\n",
              "      <td>5</td>\n",
              "      <td>2.32</td>\n",
              "      <td>1987.0</td>\n",
              "      <td>30.0</td>\n",
              "      <td>30</td>\n",
              "      <td>9</td>\n",
              "      <td>7</td>\n",
              "      <td>0</td>\n",
              "      <td>8</td>\n",
              "      <td>0</td>\n",
              "      <td>68.850000</td>\n",
              "      <td>0.0</td>\n",
              "      <td>4</td>\n",
              "      <td>3</td>\n",
              "      <td>1</td>\n",
              "      <td>1.0</td>\n",
              "      <td>0.0</td>\n",
              "      <td>0.0</td>\n",
              "      <td>1.0</td>\n",
              "      <td>0.0</td>\n",
              "      <td>0.0</td>\n",
              "      <td>1.0</td>\n",
              "    </tr>\n",
              "    <tr>\n",
              "      <th>1</th>\n",
              "      <td>2</td>\n",
              "      <td>5.17</td>\n",
              "      <td>4</td>\n",
              "      <td>2.00</td>\n",
              "      <td>1.25</td>\n",
              "      <td>41</td>\n",
              "      <td>3</td>\n",
              "      <td>5</td>\n",
              "      <td>3.25</td>\n",
              "      <td>2001.0</td>\n",
              "      <td>15.0</td>\n",
              "      <td>16</td>\n",
              "      <td>7</td>\n",
              "      <td>7</td>\n",
              "      <td>9</td>\n",
              "      <td>3</td>\n",
              "      <td>0</td>\n",
              "      <td>94.810000</td>\n",
              "      <td>3.0</td>\n",
              "      <td>4</td>\n",
              "      <td>4</td>\n",
              "      <td>1</td>\n",
              "      <td>1.0</td>\n",
              "      <td>0.0</td>\n",
              "      <td>0.0</td>\n",
              "      <td>0.0</td>\n",
              "      <td>1.0</td>\n",
              "      <td>0.0</td>\n",
              "      <td>1.0</td>\n",
              "    </tr>\n",
              "    <tr>\n",
              "      <th>2</th>\n",
              "      <td>2</td>\n",
              "      <td>1.83</td>\n",
              "      <td>3</td>\n",
              "      <td>1.83</td>\n",
              "      <td>1.50</td>\n",
              "      <td>40</td>\n",
              "      <td>1</td>\n",
              "      <td>6</td>\n",
              "      <td>3.23</td>\n",
              "      <td>2007.0</td>\n",
              "      <td>15.0</td>\n",
              "      <td>15</td>\n",
              "      <td>9</td>\n",
              "      <td>9</td>\n",
              "      <td>0</td>\n",
              "      <td>6</td>\n",
              "      <td>0</td>\n",
              "      <td>72.820000</td>\n",
              "      <td>0.0</td>\n",
              "      <td>5</td>\n",
              "      <td>3</td>\n",
              "      <td>0</td>\n",
              "      <td>1.0</td>\n",
              "      <td>0.0</td>\n",
              "      <td>0.0</td>\n",
              "      <td>0.0</td>\n",
              "      <td>1.0</td>\n",
              "      <td>0.0</td>\n",
              "      <td>1.0</td>\n",
              "    </tr>\n",
              "    <tr>\n",
              "      <th>3</th>\n",
              "      <td>2</td>\n",
              "      <td>7.92</td>\n",
              "      <td>4</td>\n",
              "      <td>4.00</td>\n",
              "      <td>0.17</td>\n",
              "      <td>36</td>\n",
              "      <td>0</td>\n",
              "      <td>4</td>\n",
              "      <td>0.00</td>\n",
              "      <td>2006.0</td>\n",
              "      <td>8.0</td>\n",
              "      <td>8</td>\n",
              "      <td>5</td>\n",
              "      <td>5</td>\n",
              "      <td>0</td>\n",
              "      <td>3</td>\n",
              "      <td>0</td>\n",
              "      <td>86.890000</td>\n",
              "      <td>2.0</td>\n",
              "      <td>4</td>\n",
              "      <td>4</td>\n",
              "      <td>0</td>\n",
              "      <td>1.0</td>\n",
              "      <td>0.0</td>\n",
              "      <td>0.0</td>\n",
              "      <td>0.0</td>\n",
              "      <td>1.0</td>\n",
              "      <td>0.0</td>\n",
              "      <td>1.0</td>\n",
              "    </tr>\n",
              "    <tr>\n",
              "      <th>6</th>\n",
              "      <td>2</td>\n",
              "      <td>1.75</td>\n",
              "      <td>3</td>\n",
              "      <td>1.75</td>\n",
              "      <td>1.33</td>\n",
              "      <td>34</td>\n",
              "      <td>0</td>\n",
              "      <td>5</td>\n",
              "      <td>3.65</td>\n",
              "      <td>2008.0</td>\n",
              "      <td>6.0</td>\n",
              "      <td>6</td>\n",
              "      <td>7</td>\n",
              "      <td>5</td>\n",
              "      <td>0</td>\n",
              "      <td>0</td>\n",
              "      <td>2</td>\n",
              "      <td>66.816667</td>\n",
              "      <td>0.0</td>\n",
              "      <td>4</td>\n",
              "      <td>3</td>\n",
              "      <td>1</td>\n",
              "      <td>0.0</td>\n",
              "      <td>1.0</td>\n",
              "      <td>0.0</td>\n",
              "      <td>1.0</td>\n",
              "      <td>0.0</td>\n",
              "      <td>1.0</td>\n",
              "      <td>0.0</td>\n",
              "    </tr>\n",
              "    <tr>\n",
              "      <th>...</th>\n",
              "      <td>...</td>\n",
              "      <td>...</td>\n",
              "      <td>...</td>\n",
              "      <td>...</td>\n",
              "      <td>...</td>\n",
              "      <td>...</td>\n",
              "      <td>...</td>\n",
              "      <td>...</td>\n",
              "      <td>...</td>\n",
              "      <td>...</td>\n",
              "      <td>...</td>\n",
              "      <td>...</td>\n",
              "      <td>...</td>\n",
              "      <td>...</td>\n",
              "      <td>...</td>\n",
              "      <td>...</td>\n",
              "      <td>...</td>\n",
              "      <td>...</td>\n",
              "      <td>...</td>\n",
              "      <td>...</td>\n",
              "      <td>...</td>\n",
              "      <td>...</td>\n",
              "      <td>...</td>\n",
              "      <td>...</td>\n",
              "      <td>...</td>\n",
              "      <td>...</td>\n",
              "      <td>...</td>\n",
              "      <td>...</td>\n",
              "      <td>...</td>\n",
              "    </tr>\n",
              "    <tr>\n",
              "      <th>21998</th>\n",
              "      <td>3</td>\n",
              "      <td>2.67</td>\n",
              "      <td>6</td>\n",
              "      <td>0.50</td>\n",
              "      <td>1.50</td>\n",
              "      <td>55</td>\n",
              "      <td>2</td>\n",
              "      <td>5</td>\n",
              "      <td>0.00</td>\n",
              "      <td>1991.0</td>\n",
              "      <td>26.0</td>\n",
              "      <td>26</td>\n",
              "      <td>11</td>\n",
              "      <td>11</td>\n",
              "      <td>1</td>\n",
              "      <td>0</td>\n",
              "      <td>0</td>\n",
              "      <td>85.590000</td>\n",
              "      <td>1.0</td>\n",
              "      <td>4</td>\n",
              "      <td>3</td>\n",
              "      <td>1</td>\n",
              "      <td>1.0</td>\n",
              "      <td>0.0</td>\n",
              "      <td>0.0</td>\n",
              "      <td>1.0</td>\n",
              "      <td>0.0</td>\n",
              "      <td>0.0</td>\n",
              "      <td>1.0</td>\n",
              "    </tr>\n",
              "    <tr>\n",
              "      <th>21999</th>\n",
              "      <td>2</td>\n",
              "      <td>1.92</td>\n",
              "      <td>3</td>\n",
              "      <td>1.92</td>\n",
              "      <td>2.17</td>\n",
              "      <td>33</td>\n",
              "      <td>0</td>\n",
              "      <td>5</td>\n",
              "      <td>3.12</td>\n",
              "      <td>2009.0</td>\n",
              "      <td>5.0</td>\n",
              "      <td>5</td>\n",
              "      <td>2</td>\n",
              "      <td>2</td>\n",
              "      <td>0</td>\n",
              "      <td>9</td>\n",
              "      <td>2</td>\n",
              "      <td>68.230000</td>\n",
              "      <td>0.0</td>\n",
              "      <td>4</td>\n",
              "      <td>3</td>\n",
              "      <td>1</td>\n",
              "      <td>1.0</td>\n",
              "      <td>0.0</td>\n",
              "      <td>0.0</td>\n",
              "      <td>0.0</td>\n",
              "      <td>1.0</td>\n",
              "      <td>0.0</td>\n",
              "      <td>1.0</td>\n",
              "    </tr>\n",
              "    <tr>\n",
              "      <th>22000</th>\n",
              "      <td>2</td>\n",
              "      <td>1.50</td>\n",
              "      <td>3</td>\n",
              "      <td>1.50</td>\n",
              "      <td>3.42</td>\n",
              "      <td>34</td>\n",
              "      <td>1</td>\n",
              "      <td>5</td>\n",
              "      <td>2.84</td>\n",
              "      <td>2009.0</td>\n",
              "      <td>5.0</td>\n",
              "      <td>5</td>\n",
              "      <td>2</td>\n",
              "      <td>2</td>\n",
              "      <td>0</td>\n",
              "      <td>2</td>\n",
              "      <td>0</td>\n",
              "      <td>71.776667</td>\n",
              "      <td>0.0</td>\n",
              "      <td>4</td>\n",
              "      <td>4</td>\n",
              "      <td>1</td>\n",
              "      <td>0.0</td>\n",
              "      <td>1.0</td>\n",
              "      <td>0.0</td>\n",
              "      <td>0.0</td>\n",
              "      <td>1.0</td>\n",
              "      <td>0.0</td>\n",
              "      <td>1.0</td>\n",
              "    </tr>\n",
              "    <tr>\n",
              "      <th>22002</th>\n",
              "      <td>2</td>\n",
              "      <td>1.50</td>\n",
              "      <td>3</td>\n",
              "      <td>1.50</td>\n",
              "      <td>0.00</td>\n",
              "      <td>37</td>\n",
              "      <td>2</td>\n",
              "      <td>5</td>\n",
              "      <td>3.10</td>\n",
              "      <td>2006.0</td>\n",
              "      <td>7.0</td>\n",
              "      <td>7</td>\n",
              "      <td>5</td>\n",
              "      <td>4</td>\n",
              "      <td>0</td>\n",
              "      <td>3</td>\n",
              "      <td>2</td>\n",
              "      <td>108.856667</td>\n",
              "      <td>3.0</td>\n",
              "      <td>4</td>\n",
              "      <td>4</td>\n",
              "      <td>1</td>\n",
              "      <td>1.0</td>\n",
              "      <td>0.0</td>\n",
              "      <td>0.0</td>\n",
              "      <td>0.0</td>\n",
              "      <td>1.0</td>\n",
              "      <td>0.0</td>\n",
              "      <td>1.0</td>\n",
              "    </tr>\n",
              "    <tr>\n",
              "      <th>22003</th>\n",
              "      <td>2</td>\n",
              "      <td>1.50</td>\n",
              "      <td>3</td>\n",
              "      <td>1.50</td>\n",
              "      <td>0.00</td>\n",
              "      <td>32</td>\n",
              "      <td>1</td>\n",
              "      <td>5</td>\n",
              "      <td>3.69</td>\n",
              "      <td>2010.0</td>\n",
              "      <td>6.0</td>\n",
              "      <td>6</td>\n",
              "      <td>5</td>\n",
              "      <td>4</td>\n",
              "      <td>0</td>\n",
              "      <td>13</td>\n",
              "      <td>0</td>\n",
              "      <td>76.366667</td>\n",
              "      <td>0.0</td>\n",
              "      <td>5</td>\n",
              "      <td>4</td>\n",
              "      <td>0</td>\n",
              "      <td>1.0</td>\n",
              "      <td>0.0</td>\n",
              "      <td>0.0</td>\n",
              "      <td>0.0</td>\n",
              "      <td>1.0</td>\n",
              "      <td>0.0</td>\n",
              "      <td>1.0</td>\n",
              "    </tr>\n",
              "  </tbody>\n",
              "</table>\n",
              "<p>11727 rows × 29 columns</p>\n",
              "</div>"
            ],
            "text/plain": [
              "       job_level  job_duration_in_current_job_level  ...  married  notMarried\n",
              "0              3                               8.00  ...      0.0         1.0\n",
              "1              2                               5.17  ...      0.0         1.0\n",
              "2              2                               1.83  ...      0.0         1.0\n",
              "3              2                               7.92  ...      0.0         1.0\n",
              "6              2                               1.75  ...      1.0         0.0\n",
              "...          ...                                ...  ...      ...         ...\n",
              "21998          3                               2.67  ...      0.0         1.0\n",
              "21999          2                               1.92  ...      0.0         1.0\n",
              "22000          2                               1.50  ...      0.0         1.0\n",
              "22002          2                               1.50  ...      0.0         1.0\n",
              "22003          2                               1.50  ...      0.0         1.0\n",
              "\n",
              "[11727 rows x 29 columns]"
            ]
          },
          "metadata": {
            "tags": []
          },
          "execution_count": 263
        }
      ]
    },
    {
      "cell_type": "code",
      "metadata": {
        "colab": {
          "base_uri": "https://localhost:8080/",
          "height": 456
        },
        "id": "B-XVe4JY2fWa",
        "outputId": "5b7c359d-c0cb-4dc3-ab23-bda5ed49c4d9"
      },
      "source": [
        "X_test"
      ],
      "execution_count": null,
      "outputs": [
        {
          "output_type": "execute_result",
          "data": {
            "text/html": [
              "<div>\n",
              "<style scoped>\n",
              "    .dataframe tbody tr th:only-of-type {\n",
              "        vertical-align: middle;\n",
              "    }\n",
              "\n",
              "    .dataframe tbody tr th {\n",
              "        vertical-align: top;\n",
              "    }\n",
              "\n",
              "    .dataframe thead th {\n",
              "        text-align: right;\n",
              "    }\n",
              "</style>\n",
              "<table border=\"1\" class=\"dataframe\">\n",
              "  <thead>\n",
              "    <tr style=\"text-align: right;\">\n",
              "      <th></th>\n",
              "      <th>job_level</th>\n",
              "      <th>job_duration_in_current_job_level</th>\n",
              "      <th>person_level</th>\n",
              "      <th>job_duration_in_current_person_level</th>\n",
              "      <th>job_duration_in_current_branch</th>\n",
              "      <th>age</th>\n",
              "      <th>number_of_dependences</th>\n",
              "      <th>Education_level</th>\n",
              "      <th>GPA</th>\n",
              "      <th>year_graduated</th>\n",
              "      <th>job_duration_as_permanent_worker</th>\n",
              "      <th>job_duration_from_training</th>\n",
              "      <th>branch_rotation</th>\n",
              "      <th>job_rotation</th>\n",
              "      <th>assign_of_otherposition</th>\n",
              "      <th>annual leave</th>\n",
              "      <th>sick_leaves</th>\n",
              "      <th>Avg_achievement_%</th>\n",
              "      <th>Achievement_above_100%_during3quartal</th>\n",
              "      <th>achievement_target_1</th>\n",
              "      <th>achievement_target_2</th>\n",
              "      <th>achievement_target_3</th>\n",
              "      <th>RM_type_A</th>\n",
              "      <th>RM_type_B</th>\n",
              "      <th>RM_type_C</th>\n",
              "      <th>Male</th>\n",
              "      <th>Female</th>\n",
              "      <th>married</th>\n",
              "      <th>notMarried</th>\n",
              "    </tr>\n",
              "  </thead>\n",
              "  <tbody>\n",
              "    <tr>\n",
              "      <th>0</th>\n",
              "      <td>3</td>\n",
              "      <td>1.42</td>\n",
              "      <td>5</td>\n",
              "      <td>1.42</td>\n",
              "      <td>0.50</td>\n",
              "      <td>37</td>\n",
              "      <td>2</td>\n",
              "      <td>4</td>\n",
              "      <td>3.75</td>\n",
              "      <td>2004.0</td>\n",
              "      <td>13.0</td>\n",
              "      <td>14</td>\n",
              "      <td>7</td>\n",
              "      <td>9</td>\n",
              "      <td>1</td>\n",
              "      <td>3</td>\n",
              "      <td>1</td>\n",
              "      <td>79.506667</td>\n",
              "      <td>1.0</td>\n",
              "      <td>4</td>\n",
              "      <td>3</td>\n",
              "      <td>1</td>\n",
              "      <td>0.0</td>\n",
              "      <td>0.0</td>\n",
              "      <td>1.0</td>\n",
              "      <td>1.0</td>\n",
              "      <td>0.0</td>\n",
              "      <td>0.0</td>\n",
              "      <td>1.0</td>\n",
              "    </tr>\n",
              "    <tr>\n",
              "      <th>1</th>\n",
              "      <td>2</td>\n",
              "      <td>1.58</td>\n",
              "      <td>3</td>\n",
              "      <td>1.58</td>\n",
              "      <td>2.00</td>\n",
              "      <td>32</td>\n",
              "      <td>0</td>\n",
              "      <td>5</td>\n",
              "      <td>3.07</td>\n",
              "      <td>2011.0</td>\n",
              "      <td>4.0</td>\n",
              "      <td>4</td>\n",
              "      <td>2</td>\n",
              "      <td>2</td>\n",
              "      <td>2</td>\n",
              "      <td>4</td>\n",
              "      <td>1</td>\n",
              "      <td>54.283333</td>\n",
              "      <td>0.0</td>\n",
              "      <td>3</td>\n",
              "      <td>3</td>\n",
              "      <td>1</td>\n",
              "      <td>1.0</td>\n",
              "      <td>0.0</td>\n",
              "      <td>0.0</td>\n",
              "      <td>0.0</td>\n",
              "      <td>1.0</td>\n",
              "      <td>1.0</td>\n",
              "      <td>0.0</td>\n",
              "    </tr>\n",
              "    <tr>\n",
              "      <th>2</th>\n",
              "      <td>2</td>\n",
              "      <td>1.83</td>\n",
              "      <td>3</td>\n",
              "      <td>1.83</td>\n",
              "      <td>1.50</td>\n",
              "      <td>32</td>\n",
              "      <td>1</td>\n",
              "      <td>5</td>\n",
              "      <td>3.23</td>\n",
              "      <td>2011.0</td>\n",
              "      <td>4.0</td>\n",
              "      <td>4</td>\n",
              "      <td>3</td>\n",
              "      <td>2</td>\n",
              "      <td>0</td>\n",
              "      <td>2</td>\n",
              "      <td>0</td>\n",
              "      <td>43.016667</td>\n",
              "      <td>0.0</td>\n",
              "      <td>4</td>\n",
              "      <td>3</td>\n",
              "      <td>1</td>\n",
              "      <td>1.0</td>\n",
              "      <td>0.0</td>\n",
              "      <td>0.0</td>\n",
              "      <td>0.0</td>\n",
              "      <td>1.0</td>\n",
              "      <td>0.0</td>\n",
              "      <td>1.0</td>\n",
              "    </tr>\n",
              "    <tr>\n",
              "      <th>3</th>\n",
              "      <td>3</td>\n",
              "      <td>8.00</td>\n",
              "      <td>6</td>\n",
              "      <td>5.00</td>\n",
              "      <td>1.50</td>\n",
              "      <td>47</td>\n",
              "      <td>3</td>\n",
              "      <td>5</td>\n",
              "      <td>0.00</td>\n",
              "      <td>2013.0</td>\n",
              "      <td>22.0</td>\n",
              "      <td>22</td>\n",
              "      <td>8</td>\n",
              "      <td>5</td>\n",
              "      <td>11</td>\n",
              "      <td>3</td>\n",
              "      <td>0</td>\n",
              "      <td>74.390000</td>\n",
              "      <td>0.0</td>\n",
              "      <td>4</td>\n",
              "      <td>3</td>\n",
              "      <td>0</td>\n",
              "      <td>1.0</td>\n",
              "      <td>0.0</td>\n",
              "      <td>0.0</td>\n",
              "      <td>0.0</td>\n",
              "      <td>1.0</td>\n",
              "      <td>0.0</td>\n",
              "      <td>1.0</td>\n",
              "    </tr>\n",
              "    <tr>\n",
              "      <th>4</th>\n",
              "      <td>2</td>\n",
              "      <td>1.92</td>\n",
              "      <td>3</td>\n",
              "      <td>1.92</td>\n",
              "      <td>0.50</td>\n",
              "      <td>35</td>\n",
              "      <td>1</td>\n",
              "      <td>4</td>\n",
              "      <td>3.86</td>\n",
              "      <td>2008.0</td>\n",
              "      <td>6.0</td>\n",
              "      <td>6</td>\n",
              "      <td>6</td>\n",
              "      <td>3</td>\n",
              "      <td>0</td>\n",
              "      <td>3</td>\n",
              "      <td>0</td>\n",
              "      <td>106.376667</td>\n",
              "      <td>3.0</td>\n",
              "      <td>4</td>\n",
              "      <td>2</td>\n",
              "      <td>1</td>\n",
              "      <td>1.0</td>\n",
              "      <td>0.0</td>\n",
              "      <td>0.0</td>\n",
              "      <td>1.0</td>\n",
              "      <td>0.0</td>\n",
              "      <td>0.0</td>\n",
              "      <td>1.0</td>\n",
              "    </tr>\n",
              "    <tr>\n",
              "      <th>...</th>\n",
              "      <td>...</td>\n",
              "      <td>...</td>\n",
              "      <td>...</td>\n",
              "      <td>...</td>\n",
              "      <td>...</td>\n",
              "      <td>...</td>\n",
              "      <td>...</td>\n",
              "      <td>...</td>\n",
              "      <td>...</td>\n",
              "      <td>...</td>\n",
              "      <td>...</td>\n",
              "      <td>...</td>\n",
              "      <td>...</td>\n",
              "      <td>...</td>\n",
              "      <td>...</td>\n",
              "      <td>...</td>\n",
              "      <td>...</td>\n",
              "      <td>...</td>\n",
              "      <td>...</td>\n",
              "      <td>...</td>\n",
              "      <td>...</td>\n",
              "      <td>...</td>\n",
              "      <td>...</td>\n",
              "      <td>...</td>\n",
              "      <td>...</td>\n",
              "      <td>...</td>\n",
              "      <td>...</td>\n",
              "      <td>...</td>\n",
              "      <td>...</td>\n",
              "    </tr>\n",
              "    <tr>\n",
              "      <th>5995</th>\n",
              "      <td>1</td>\n",
              "      <td>2.75</td>\n",
              "      <td>1</td>\n",
              "      <td>2.75</td>\n",
              "      <td>2.75</td>\n",
              "      <td>33</td>\n",
              "      <td>0</td>\n",
              "      <td>5</td>\n",
              "      <td>0.00</td>\n",
              "      <td>2010.0</td>\n",
              "      <td>3.0</td>\n",
              "      <td>3</td>\n",
              "      <td>1</td>\n",
              "      <td>1</td>\n",
              "      <td>0</td>\n",
              "      <td>1</td>\n",
              "      <td>0</td>\n",
              "      <td>49.396667</td>\n",
              "      <td>0.0</td>\n",
              "      <td>4</td>\n",
              "      <td>3</td>\n",
              "      <td>0</td>\n",
              "      <td>0.0</td>\n",
              "      <td>1.0</td>\n",
              "      <td>0.0</td>\n",
              "      <td>0.0</td>\n",
              "      <td>1.0</td>\n",
              "      <td>1.0</td>\n",
              "      <td>0.0</td>\n",
              "    </tr>\n",
              "    <tr>\n",
              "      <th>5996</th>\n",
              "      <td>2</td>\n",
              "      <td>1.17</td>\n",
              "      <td>3</td>\n",
              "      <td>1.17</td>\n",
              "      <td>0.50</td>\n",
              "      <td>33</td>\n",
              "      <td>1</td>\n",
              "      <td>4</td>\n",
              "      <td>3.40</td>\n",
              "      <td>2011.0</td>\n",
              "      <td>4.0</td>\n",
              "      <td>4</td>\n",
              "      <td>3</td>\n",
              "      <td>3</td>\n",
              "      <td>0</td>\n",
              "      <td>0</td>\n",
              "      <td>0</td>\n",
              "      <td>76.590000</td>\n",
              "      <td>0.0</td>\n",
              "      <td>4</td>\n",
              "      <td>3</td>\n",
              "      <td>1</td>\n",
              "      <td>0.0</td>\n",
              "      <td>1.0</td>\n",
              "      <td>0.0</td>\n",
              "      <td>0.0</td>\n",
              "      <td>1.0</td>\n",
              "      <td>0.0</td>\n",
              "      <td>1.0</td>\n",
              "    </tr>\n",
              "    <tr>\n",
              "      <th>5997</th>\n",
              "      <td>2</td>\n",
              "      <td>1.83</td>\n",
              "      <td>3</td>\n",
              "      <td>1.83</td>\n",
              "      <td>1.92</td>\n",
              "      <td>34</td>\n",
              "      <td>2</td>\n",
              "      <td>5</td>\n",
              "      <td>3.47</td>\n",
              "      <td>2009.0</td>\n",
              "      <td>7.0</td>\n",
              "      <td>7</td>\n",
              "      <td>5</td>\n",
              "      <td>3</td>\n",
              "      <td>0</td>\n",
              "      <td>3</td>\n",
              "      <td>0</td>\n",
              "      <td>97.906667</td>\n",
              "      <td>3.0</td>\n",
              "      <td>5</td>\n",
              "      <td>5</td>\n",
              "      <td>1</td>\n",
              "      <td>1.0</td>\n",
              "      <td>0.0</td>\n",
              "      <td>0.0</td>\n",
              "      <td>0.0</td>\n",
              "      <td>1.0</td>\n",
              "      <td>0.0</td>\n",
              "      <td>1.0</td>\n",
              "    </tr>\n",
              "    <tr>\n",
              "      <th>5998</th>\n",
              "      <td>2</td>\n",
              "      <td>1.92</td>\n",
              "      <td>3</td>\n",
              "      <td>1.92</td>\n",
              "      <td>1.25</td>\n",
              "      <td>36</td>\n",
              "      <td>0</td>\n",
              "      <td>5</td>\n",
              "      <td>3.22</td>\n",
              "      <td>2008.0</td>\n",
              "      <td>6.0</td>\n",
              "      <td>6</td>\n",
              "      <td>5</td>\n",
              "      <td>3</td>\n",
              "      <td>0</td>\n",
              "      <td>1</td>\n",
              "      <td>0</td>\n",
              "      <td>82.833333</td>\n",
              "      <td>0.0</td>\n",
              "      <td>5</td>\n",
              "      <td>4</td>\n",
              "      <td>0</td>\n",
              "      <td>1.0</td>\n",
              "      <td>0.0</td>\n",
              "      <td>0.0</td>\n",
              "      <td>0.0</td>\n",
              "      <td>1.0</td>\n",
              "      <td>0.0</td>\n",
              "      <td>1.0</td>\n",
              "    </tr>\n",
              "    <tr>\n",
              "      <th>5999</th>\n",
              "      <td>2</td>\n",
              "      <td>2.00</td>\n",
              "      <td>3</td>\n",
              "      <td>2.00</td>\n",
              "      <td>0.42</td>\n",
              "      <td>31</td>\n",
              "      <td>0</td>\n",
              "      <td>5</td>\n",
              "      <td>2.75</td>\n",
              "      <td>2011.0</td>\n",
              "      <td>4.0</td>\n",
              "      <td>4</td>\n",
              "      <td>3</td>\n",
              "      <td>2</td>\n",
              "      <td>0</td>\n",
              "      <td>4</td>\n",
              "      <td>0</td>\n",
              "      <td>63.706667</td>\n",
              "      <td>0.0</td>\n",
              "      <td>4</td>\n",
              "      <td>3</td>\n",
              "      <td>0</td>\n",
              "      <td>1.0</td>\n",
              "      <td>0.0</td>\n",
              "      <td>0.0</td>\n",
              "      <td>1.0</td>\n",
              "      <td>0.0</td>\n",
              "      <td>0.0</td>\n",
              "      <td>1.0</td>\n",
              "    </tr>\n",
              "  </tbody>\n",
              "</table>\n",
              "<p>6000 rows × 29 columns</p>\n",
              "</div>"
            ],
            "text/plain": [
              "      job_level  job_duration_in_current_job_level  ...  married  notMarried\n",
              "0             3                               1.42  ...      0.0         1.0\n",
              "1             2                               1.58  ...      1.0         0.0\n",
              "2             2                               1.83  ...      0.0         1.0\n",
              "3             3                               8.00  ...      0.0         1.0\n",
              "4             2                               1.92  ...      0.0         1.0\n",
              "...         ...                                ...  ...      ...         ...\n",
              "5995          1                               2.75  ...      1.0         0.0\n",
              "5996          2                               1.17  ...      0.0         1.0\n",
              "5997          2                               1.83  ...      0.0         1.0\n",
              "5998          2                               1.92  ...      0.0         1.0\n",
              "5999          2                               2.00  ...      0.0         1.0\n",
              "\n",
              "[6000 rows x 29 columns]"
            ]
          },
          "metadata": {
            "tags": []
          },
          "execution_count": 264
        }
      ]
    },
    {
      "cell_type": "code",
      "metadata": {
        "id": "o_VqTpxI_3_e",
        "colab": {
          "base_uri": "https://localhost:8080/",
          "height": 241
        },
        "outputId": "74bef8cb-ff86-404f-8432-c42792d7e197"
      },
      "source": [
        "X_train.head()"
      ],
      "execution_count": null,
      "outputs": [
        {
          "output_type": "execute_result",
          "data": {
            "text/html": [
              "<div>\n",
              "<style scoped>\n",
              "    .dataframe tbody tr th:only-of-type {\n",
              "        vertical-align: middle;\n",
              "    }\n",
              "\n",
              "    .dataframe tbody tr th {\n",
              "        vertical-align: top;\n",
              "    }\n",
              "\n",
              "    .dataframe thead th {\n",
              "        text-align: right;\n",
              "    }\n",
              "</style>\n",
              "<table border=\"1\" class=\"dataframe\">\n",
              "  <thead>\n",
              "    <tr style=\"text-align: right;\">\n",
              "      <th></th>\n",
              "      <th>job_level</th>\n",
              "      <th>job_duration_in_current_job_level</th>\n",
              "      <th>person_level</th>\n",
              "      <th>job_duration_in_current_person_level</th>\n",
              "      <th>job_duration_in_current_branch</th>\n",
              "      <th>age</th>\n",
              "      <th>number_of_dependences</th>\n",
              "      <th>Education_level</th>\n",
              "      <th>GPA</th>\n",
              "      <th>year_graduated</th>\n",
              "      <th>job_duration_as_permanent_worker</th>\n",
              "      <th>job_duration_from_training</th>\n",
              "      <th>branch_rotation</th>\n",
              "      <th>job_rotation</th>\n",
              "      <th>assign_of_otherposition</th>\n",
              "      <th>annual leave</th>\n",
              "      <th>sick_leaves</th>\n",
              "      <th>Avg_achievement_%</th>\n",
              "      <th>Achievement_above_100%_during3quartal</th>\n",
              "      <th>achievement_target_1</th>\n",
              "      <th>achievement_target_2</th>\n",
              "      <th>achievement_target_3</th>\n",
              "      <th>RM_type_A</th>\n",
              "      <th>RM_type_B</th>\n",
              "      <th>RM_type_C</th>\n",
              "      <th>Male</th>\n",
              "      <th>Female</th>\n",
              "      <th>married</th>\n",
              "      <th>notMarried</th>\n",
              "    </tr>\n",
              "  </thead>\n",
              "  <tbody>\n",
              "    <tr>\n",
              "      <th>0</th>\n",
              "      <td>3</td>\n",
              "      <td>8.00</td>\n",
              "      <td>6</td>\n",
              "      <td>8.00</td>\n",
              "      <td>0.50</td>\n",
              "      <td>56</td>\n",
              "      <td>3</td>\n",
              "      <td>5</td>\n",
              "      <td>2.32</td>\n",
              "      <td>1987.0</td>\n",
              "      <td>30.0</td>\n",
              "      <td>30</td>\n",
              "      <td>9</td>\n",
              "      <td>7</td>\n",
              "      <td>0</td>\n",
              "      <td>8</td>\n",
              "      <td>0</td>\n",
              "      <td>68.850000</td>\n",
              "      <td>0.0</td>\n",
              "      <td>4</td>\n",
              "      <td>3</td>\n",
              "      <td>1</td>\n",
              "      <td>1.0</td>\n",
              "      <td>0.0</td>\n",
              "      <td>0.0</td>\n",
              "      <td>1.0</td>\n",
              "      <td>0.0</td>\n",
              "      <td>0.0</td>\n",
              "      <td>1.0</td>\n",
              "    </tr>\n",
              "    <tr>\n",
              "      <th>1</th>\n",
              "      <td>2</td>\n",
              "      <td>5.17</td>\n",
              "      <td>4</td>\n",
              "      <td>2.00</td>\n",
              "      <td>1.25</td>\n",
              "      <td>41</td>\n",
              "      <td>3</td>\n",
              "      <td>5</td>\n",
              "      <td>3.25</td>\n",
              "      <td>2001.0</td>\n",
              "      <td>15.0</td>\n",
              "      <td>16</td>\n",
              "      <td>7</td>\n",
              "      <td>7</td>\n",
              "      <td>9</td>\n",
              "      <td>3</td>\n",
              "      <td>0</td>\n",
              "      <td>94.810000</td>\n",
              "      <td>3.0</td>\n",
              "      <td>4</td>\n",
              "      <td>4</td>\n",
              "      <td>1</td>\n",
              "      <td>1.0</td>\n",
              "      <td>0.0</td>\n",
              "      <td>0.0</td>\n",
              "      <td>0.0</td>\n",
              "      <td>1.0</td>\n",
              "      <td>0.0</td>\n",
              "      <td>1.0</td>\n",
              "    </tr>\n",
              "    <tr>\n",
              "      <th>2</th>\n",
              "      <td>2</td>\n",
              "      <td>1.83</td>\n",
              "      <td>3</td>\n",
              "      <td>1.83</td>\n",
              "      <td>1.50</td>\n",
              "      <td>40</td>\n",
              "      <td>1</td>\n",
              "      <td>6</td>\n",
              "      <td>3.23</td>\n",
              "      <td>2007.0</td>\n",
              "      <td>15.0</td>\n",
              "      <td>15</td>\n",
              "      <td>9</td>\n",
              "      <td>9</td>\n",
              "      <td>0</td>\n",
              "      <td>6</td>\n",
              "      <td>0</td>\n",
              "      <td>72.820000</td>\n",
              "      <td>0.0</td>\n",
              "      <td>5</td>\n",
              "      <td>3</td>\n",
              "      <td>0</td>\n",
              "      <td>1.0</td>\n",
              "      <td>0.0</td>\n",
              "      <td>0.0</td>\n",
              "      <td>0.0</td>\n",
              "      <td>1.0</td>\n",
              "      <td>0.0</td>\n",
              "      <td>1.0</td>\n",
              "    </tr>\n",
              "    <tr>\n",
              "      <th>3</th>\n",
              "      <td>2</td>\n",
              "      <td>7.92</td>\n",
              "      <td>4</td>\n",
              "      <td>4.00</td>\n",
              "      <td>0.17</td>\n",
              "      <td>36</td>\n",
              "      <td>0</td>\n",
              "      <td>4</td>\n",
              "      <td>0.00</td>\n",
              "      <td>2006.0</td>\n",
              "      <td>8.0</td>\n",
              "      <td>8</td>\n",
              "      <td>5</td>\n",
              "      <td>5</td>\n",
              "      <td>0</td>\n",
              "      <td>3</td>\n",
              "      <td>0</td>\n",
              "      <td>86.890000</td>\n",
              "      <td>2.0</td>\n",
              "      <td>4</td>\n",
              "      <td>4</td>\n",
              "      <td>0</td>\n",
              "      <td>1.0</td>\n",
              "      <td>0.0</td>\n",
              "      <td>0.0</td>\n",
              "      <td>0.0</td>\n",
              "      <td>1.0</td>\n",
              "      <td>0.0</td>\n",
              "      <td>1.0</td>\n",
              "    </tr>\n",
              "    <tr>\n",
              "      <th>6</th>\n",
              "      <td>2</td>\n",
              "      <td>1.75</td>\n",
              "      <td>3</td>\n",
              "      <td>1.75</td>\n",
              "      <td>1.33</td>\n",
              "      <td>34</td>\n",
              "      <td>0</td>\n",
              "      <td>5</td>\n",
              "      <td>3.65</td>\n",
              "      <td>2008.0</td>\n",
              "      <td>6.0</td>\n",
              "      <td>6</td>\n",
              "      <td>7</td>\n",
              "      <td>5</td>\n",
              "      <td>0</td>\n",
              "      <td>0</td>\n",
              "      <td>2</td>\n",
              "      <td>66.816667</td>\n",
              "      <td>0.0</td>\n",
              "      <td>4</td>\n",
              "      <td>3</td>\n",
              "      <td>1</td>\n",
              "      <td>0.0</td>\n",
              "      <td>1.0</td>\n",
              "      <td>0.0</td>\n",
              "      <td>1.0</td>\n",
              "      <td>0.0</td>\n",
              "      <td>1.0</td>\n",
              "      <td>0.0</td>\n",
              "    </tr>\n",
              "  </tbody>\n",
              "</table>\n",
              "</div>"
            ],
            "text/plain": [
              "   job_level  job_duration_in_current_job_level  ...  married  notMarried\n",
              "0          3                               8.00  ...      0.0         1.0\n",
              "1          2                               5.17  ...      0.0         1.0\n",
              "2          2                               1.83  ...      0.0         1.0\n",
              "3          2                               7.92  ...      0.0         1.0\n",
              "6          2                               1.75  ...      1.0         0.0\n",
              "\n",
              "[5 rows x 29 columns]"
            ]
          },
          "metadata": {
            "tags": []
          },
          "execution_count": 265
        }
      ]
    },
    {
      "cell_type": "code",
      "metadata": {
        "colab": {
          "base_uri": "https://localhost:8080/",
          "height": 241
        },
        "id": "z3VDdwA9ZG2e",
        "outputId": "c7892f12-02c6-461c-83ec-84eb51e669ef"
      },
      "source": [
        "X_test.head()"
      ],
      "execution_count": null,
      "outputs": [
        {
          "output_type": "execute_result",
          "data": {
            "text/html": [
              "<div>\n",
              "<style scoped>\n",
              "    .dataframe tbody tr th:only-of-type {\n",
              "        vertical-align: middle;\n",
              "    }\n",
              "\n",
              "    .dataframe tbody tr th {\n",
              "        vertical-align: top;\n",
              "    }\n",
              "\n",
              "    .dataframe thead th {\n",
              "        text-align: right;\n",
              "    }\n",
              "</style>\n",
              "<table border=\"1\" class=\"dataframe\">\n",
              "  <thead>\n",
              "    <tr style=\"text-align: right;\">\n",
              "      <th></th>\n",
              "      <th>job_level</th>\n",
              "      <th>job_duration_in_current_job_level</th>\n",
              "      <th>person_level</th>\n",
              "      <th>job_duration_in_current_person_level</th>\n",
              "      <th>job_duration_in_current_branch</th>\n",
              "      <th>age</th>\n",
              "      <th>number_of_dependences</th>\n",
              "      <th>Education_level</th>\n",
              "      <th>GPA</th>\n",
              "      <th>year_graduated</th>\n",
              "      <th>job_duration_as_permanent_worker</th>\n",
              "      <th>job_duration_from_training</th>\n",
              "      <th>branch_rotation</th>\n",
              "      <th>job_rotation</th>\n",
              "      <th>assign_of_otherposition</th>\n",
              "      <th>annual leave</th>\n",
              "      <th>sick_leaves</th>\n",
              "      <th>Avg_achievement_%</th>\n",
              "      <th>Achievement_above_100%_during3quartal</th>\n",
              "      <th>achievement_target_1</th>\n",
              "      <th>achievement_target_2</th>\n",
              "      <th>achievement_target_3</th>\n",
              "      <th>RM_type_A</th>\n",
              "      <th>RM_type_B</th>\n",
              "      <th>RM_type_C</th>\n",
              "      <th>Male</th>\n",
              "      <th>Female</th>\n",
              "      <th>married</th>\n",
              "      <th>notMarried</th>\n",
              "    </tr>\n",
              "  </thead>\n",
              "  <tbody>\n",
              "    <tr>\n",
              "      <th>0</th>\n",
              "      <td>3</td>\n",
              "      <td>1.42</td>\n",
              "      <td>5</td>\n",
              "      <td>1.42</td>\n",
              "      <td>0.5</td>\n",
              "      <td>37</td>\n",
              "      <td>2</td>\n",
              "      <td>4</td>\n",
              "      <td>3.75</td>\n",
              "      <td>2004.0</td>\n",
              "      <td>13.0</td>\n",
              "      <td>14</td>\n",
              "      <td>7</td>\n",
              "      <td>9</td>\n",
              "      <td>1</td>\n",
              "      <td>3</td>\n",
              "      <td>1</td>\n",
              "      <td>79.506667</td>\n",
              "      <td>1.0</td>\n",
              "      <td>4</td>\n",
              "      <td>3</td>\n",
              "      <td>1</td>\n",
              "      <td>0.0</td>\n",
              "      <td>0.0</td>\n",
              "      <td>1.0</td>\n",
              "      <td>1.0</td>\n",
              "      <td>0.0</td>\n",
              "      <td>0.0</td>\n",
              "      <td>1.0</td>\n",
              "    </tr>\n",
              "    <tr>\n",
              "      <th>1</th>\n",
              "      <td>2</td>\n",
              "      <td>1.58</td>\n",
              "      <td>3</td>\n",
              "      <td>1.58</td>\n",
              "      <td>2.0</td>\n",
              "      <td>32</td>\n",
              "      <td>0</td>\n",
              "      <td>5</td>\n",
              "      <td>3.07</td>\n",
              "      <td>2011.0</td>\n",
              "      <td>4.0</td>\n",
              "      <td>4</td>\n",
              "      <td>2</td>\n",
              "      <td>2</td>\n",
              "      <td>2</td>\n",
              "      <td>4</td>\n",
              "      <td>1</td>\n",
              "      <td>54.283333</td>\n",
              "      <td>0.0</td>\n",
              "      <td>3</td>\n",
              "      <td>3</td>\n",
              "      <td>1</td>\n",
              "      <td>1.0</td>\n",
              "      <td>0.0</td>\n",
              "      <td>0.0</td>\n",
              "      <td>0.0</td>\n",
              "      <td>1.0</td>\n",
              "      <td>1.0</td>\n",
              "      <td>0.0</td>\n",
              "    </tr>\n",
              "    <tr>\n",
              "      <th>2</th>\n",
              "      <td>2</td>\n",
              "      <td>1.83</td>\n",
              "      <td>3</td>\n",
              "      <td>1.83</td>\n",
              "      <td>1.5</td>\n",
              "      <td>32</td>\n",
              "      <td>1</td>\n",
              "      <td>5</td>\n",
              "      <td>3.23</td>\n",
              "      <td>2011.0</td>\n",
              "      <td>4.0</td>\n",
              "      <td>4</td>\n",
              "      <td>3</td>\n",
              "      <td>2</td>\n",
              "      <td>0</td>\n",
              "      <td>2</td>\n",
              "      <td>0</td>\n",
              "      <td>43.016667</td>\n",
              "      <td>0.0</td>\n",
              "      <td>4</td>\n",
              "      <td>3</td>\n",
              "      <td>1</td>\n",
              "      <td>1.0</td>\n",
              "      <td>0.0</td>\n",
              "      <td>0.0</td>\n",
              "      <td>0.0</td>\n",
              "      <td>1.0</td>\n",
              "      <td>0.0</td>\n",
              "      <td>1.0</td>\n",
              "    </tr>\n",
              "    <tr>\n",
              "      <th>3</th>\n",
              "      <td>3</td>\n",
              "      <td>8.00</td>\n",
              "      <td>6</td>\n",
              "      <td>5.00</td>\n",
              "      <td>1.5</td>\n",
              "      <td>47</td>\n",
              "      <td>3</td>\n",
              "      <td>5</td>\n",
              "      <td>0.00</td>\n",
              "      <td>2013.0</td>\n",
              "      <td>22.0</td>\n",
              "      <td>22</td>\n",
              "      <td>8</td>\n",
              "      <td>5</td>\n",
              "      <td>11</td>\n",
              "      <td>3</td>\n",
              "      <td>0</td>\n",
              "      <td>74.390000</td>\n",
              "      <td>0.0</td>\n",
              "      <td>4</td>\n",
              "      <td>3</td>\n",
              "      <td>0</td>\n",
              "      <td>1.0</td>\n",
              "      <td>0.0</td>\n",
              "      <td>0.0</td>\n",
              "      <td>0.0</td>\n",
              "      <td>1.0</td>\n",
              "      <td>0.0</td>\n",
              "      <td>1.0</td>\n",
              "    </tr>\n",
              "    <tr>\n",
              "      <th>4</th>\n",
              "      <td>2</td>\n",
              "      <td>1.92</td>\n",
              "      <td>3</td>\n",
              "      <td>1.92</td>\n",
              "      <td>0.5</td>\n",
              "      <td>35</td>\n",
              "      <td>1</td>\n",
              "      <td>4</td>\n",
              "      <td>3.86</td>\n",
              "      <td>2008.0</td>\n",
              "      <td>6.0</td>\n",
              "      <td>6</td>\n",
              "      <td>6</td>\n",
              "      <td>3</td>\n",
              "      <td>0</td>\n",
              "      <td>3</td>\n",
              "      <td>0</td>\n",
              "      <td>106.376667</td>\n",
              "      <td>3.0</td>\n",
              "      <td>4</td>\n",
              "      <td>2</td>\n",
              "      <td>1</td>\n",
              "      <td>1.0</td>\n",
              "      <td>0.0</td>\n",
              "      <td>0.0</td>\n",
              "      <td>1.0</td>\n",
              "      <td>0.0</td>\n",
              "      <td>0.0</td>\n",
              "      <td>1.0</td>\n",
              "    </tr>\n",
              "  </tbody>\n",
              "</table>\n",
              "</div>"
            ],
            "text/plain": [
              "   job_level  job_duration_in_current_job_level  ...  married  notMarried\n",
              "0          3                               1.42  ...      0.0         1.0\n",
              "1          2                               1.58  ...      1.0         0.0\n",
              "2          2                               1.83  ...      0.0         1.0\n",
              "3          3                               8.00  ...      0.0         1.0\n",
              "4          2                               1.92  ...      0.0         1.0\n",
              "\n",
              "[5 rows x 29 columns]"
            ]
          },
          "metadata": {
            "tags": []
          },
          "execution_count": 266
        }
      ]
    },
    {
      "cell_type": "code",
      "metadata": {
        "id": "pea_W3EyAVQI",
        "colab": {
          "base_uri": "https://localhost:8080/"
        },
        "outputId": "797718b9-e257-40b5-b91a-eb8a1e28c2a3"
      },
      "source": [
        "X_train.columns"
      ],
      "execution_count": null,
      "outputs": [
        {
          "output_type": "execute_result",
          "data": {
            "text/plain": [
              "Index(['job_level', 'job_duration_in_current_job_level', 'person_level',\n",
              "       'job_duration_in_current_person_level',\n",
              "       'job_duration_in_current_branch', 'age', 'number_of_dependences',\n",
              "       'Education_level', 'GPA', 'year_graduated',\n",
              "       'job_duration_as_permanent_worker', 'job_duration_from_training',\n",
              "       'branch_rotation', 'job_rotation', 'assign_of_otherposition',\n",
              "       'annual leave', 'sick_leaves', 'Avg_achievement_%',\n",
              "       'Achievement_above_100%_during3quartal', 'achievement_target_1',\n",
              "       'achievement_target_2', 'achievement_target_3', 'RM_type_A',\n",
              "       'RM_type_B', 'RM_type_C', 'Male', 'Female', 'married', 'notMarried'],\n",
              "      dtype='object')"
            ]
          },
          "metadata": {
            "tags": []
          },
          "execution_count": 267
        }
      ]
    },
    {
      "cell_type": "code",
      "metadata": {
        "id": "sFtXYzAcEiC-",
        "colab": {
          "base_uri": "https://localhost:8080/"
        },
        "outputId": "14b9652f-67d0-4739-9433-09009a895456"
      },
      "source": [
        "X_train.isnull().any()"
      ],
      "execution_count": null,
      "outputs": [
        {
          "output_type": "execute_result",
          "data": {
            "text/plain": [
              "job_level                                False\n",
              "job_duration_in_current_job_level        False\n",
              "person_level                             False\n",
              "job_duration_in_current_person_level     False\n",
              "job_duration_in_current_branch           False\n",
              "age                                      False\n",
              "number_of_dependences                    False\n",
              "Education_level                          False\n",
              "GPA                                      False\n",
              "year_graduated                           False\n",
              "job_duration_as_permanent_worker         False\n",
              "job_duration_from_training               False\n",
              "branch_rotation                          False\n",
              "job_rotation                             False\n",
              "assign_of_otherposition                  False\n",
              "annual leave                             False\n",
              "sick_leaves                              False\n",
              "Avg_achievement_%                        False\n",
              "Achievement_above_100%_during3quartal    False\n",
              "achievement_target_1                     False\n",
              "achievement_target_2                     False\n",
              "achievement_target_3                     False\n",
              "RM_type_A                                False\n",
              "RM_type_B                                False\n",
              "RM_type_C                                False\n",
              "Male                                     False\n",
              "Female                                   False\n",
              "married                                  False\n",
              "notMarried                               False\n",
              "dtype: bool"
            ]
          },
          "metadata": {
            "tags": []
          },
          "execution_count": 268
        }
      ]
    },
    {
      "cell_type": "code",
      "metadata": {
        "id": "Yo03_-Su_061"
      },
      "source": [
        "from sklearn.preprocessing import StandardScaler\n",
        "sc = StandardScaler()\n",
        "#X_train_ready = X_train.values\n",
        "#X_train_ready[:, :22] = sc.fit_transform(X_train_ready[:, :22])\n",
        "X_train.iloc[:, :22] = sc.fit_transform(X_train.iloc[:, :22])\n",
        "X_test.iloc[:, :22] = sc.transform(X_test.iloc[:, :22])"
      ],
      "execution_count": null,
      "outputs": []
    },
    {
      "cell_type": "code",
      "metadata": {
        "id": "L9TP-NLXEatf",
        "colab": {
          "base_uri": "https://localhost:8080/",
          "height": 456
        },
        "outputId": "d3811a2f-f644-4d58-bed8-f2ee9ee6fab7"
      },
      "source": [
        "X_train"
      ],
      "execution_count": null,
      "outputs": [
        {
          "output_type": "execute_result",
          "data": {
            "text/html": [
              "<div>\n",
              "<style scoped>\n",
              "    .dataframe tbody tr th:only-of-type {\n",
              "        vertical-align: middle;\n",
              "    }\n",
              "\n",
              "    .dataframe tbody tr th {\n",
              "        vertical-align: top;\n",
              "    }\n",
              "\n",
              "    .dataframe thead th {\n",
              "        text-align: right;\n",
              "    }\n",
              "</style>\n",
              "<table border=\"1\" class=\"dataframe\">\n",
              "  <thead>\n",
              "    <tr style=\"text-align: right;\">\n",
              "      <th></th>\n",
              "      <th>job_level</th>\n",
              "      <th>job_duration_in_current_job_level</th>\n",
              "      <th>person_level</th>\n",
              "      <th>job_duration_in_current_person_level</th>\n",
              "      <th>job_duration_in_current_branch</th>\n",
              "      <th>age</th>\n",
              "      <th>number_of_dependences</th>\n",
              "      <th>Education_level</th>\n",
              "      <th>GPA</th>\n",
              "      <th>year_graduated</th>\n",
              "      <th>job_duration_as_permanent_worker</th>\n",
              "      <th>job_duration_from_training</th>\n",
              "      <th>branch_rotation</th>\n",
              "      <th>job_rotation</th>\n",
              "      <th>assign_of_otherposition</th>\n",
              "      <th>annual leave</th>\n",
              "      <th>sick_leaves</th>\n",
              "      <th>Avg_achievement_%</th>\n",
              "      <th>Achievement_above_100%_during3quartal</th>\n",
              "      <th>achievement_target_1</th>\n",
              "      <th>achievement_target_2</th>\n",
              "      <th>achievement_target_3</th>\n",
              "      <th>RM_type_A</th>\n",
              "      <th>RM_type_B</th>\n",
              "      <th>RM_type_C</th>\n",
              "      <th>Male</th>\n",
              "      <th>Female</th>\n",
              "      <th>married</th>\n",
              "      <th>notMarried</th>\n",
              "    </tr>\n",
              "  </thead>\n",
              "  <tbody>\n",
              "    <tr>\n",
              "      <th>0</th>\n",
              "      <td>3.617336</td>\n",
              "      <td>3.499378</td>\n",
              "      <td>3.921772</td>\n",
              "      <td>6.039125</td>\n",
              "      <td>-0.817011</td>\n",
              "      <td>4.641726</td>\n",
              "      <td>2.283721</td>\n",
              "      <td>0.387711</td>\n",
              "      <td>-0.126941</td>\n",
              "      <td>-5.633323</td>\n",
              "      <td>4.704213</td>\n",
              "      <td>4.584405</td>\n",
              "      <td>2.141173</td>\n",
              "      <td>1.877294</td>\n",
              "      <td>-0.463239</td>\n",
              "      <td>1.639485</td>\n",
              "      <td>-0.365325</td>\n",
              "      <td>0.092241</td>\n",
              "      <td>-0.615314</td>\n",
              "      <td>0.088564</td>\n",
              "      <td>-0.331187</td>\n",
              "      <td>0.628286</td>\n",
              "      <td>1.0</td>\n",
              "      <td>0.0</td>\n",
              "      <td>0.0</td>\n",
              "      <td>1.0</td>\n",
              "      <td>0.0</td>\n",
              "      <td>0.0</td>\n",
              "      <td>1.0</td>\n",
              "    </tr>\n",
              "    <tr>\n",
              "      <th>1</th>\n",
              "      <td>-0.252441</td>\n",
              "      <td>1.780207</td>\n",
              "      <td>1.080389</td>\n",
              "      <td>0.069644</td>\n",
              "      <td>0.016534</td>\n",
              "      <td>1.455224</td>\n",
              "      <td>2.283721</td>\n",
              "      <td>0.387711</td>\n",
              "      <td>0.580386</td>\n",
              "      <td>-2.091980</td>\n",
              "      <td>1.731709</td>\n",
              "      <td>1.873578</td>\n",
              "      <td>1.327974</td>\n",
              "      <td>1.877294</td>\n",
              "      <td>3.036771</td>\n",
              "      <td>-0.244886</td>\n",
              "      <td>-0.365325</td>\n",
              "      <td>1.244069</td>\n",
              "      <td>2.090946</td>\n",
              "      <td>0.088564</td>\n",
              "      <td>1.067384</td>\n",
              "      <td>0.628286</td>\n",
              "      <td>1.0</td>\n",
              "      <td>0.0</td>\n",
              "      <td>0.0</td>\n",
              "      <td>0.0</td>\n",
              "      <td>1.0</td>\n",
              "      <td>0.0</td>\n",
              "      <td>1.0</td>\n",
              "    </tr>\n",
              "    <tr>\n",
              "      <th>2</th>\n",
              "      <td>-0.252441</td>\n",
              "      <td>-0.248780</td>\n",
              "      <td>-0.340302</td>\n",
              "      <td>-0.099491</td>\n",
              "      <td>0.294382</td>\n",
              "      <td>1.242791</td>\n",
              "      <td>0.001751</td>\n",
              "      <td>2.300497</td>\n",
              "      <td>0.565175</td>\n",
              "      <td>-0.574262</td>\n",
              "      <td>1.731709</td>\n",
              "      <td>1.679947</td>\n",
              "      <td>2.141173</td>\n",
              "      <td>2.953928</td>\n",
              "      <td>-0.463239</td>\n",
              "      <td>0.885736</td>\n",
              "      <td>-0.365325</td>\n",
              "      <td>0.268387</td>\n",
              "      <td>-0.615314</td>\n",
              "      <td>1.377143</td>\n",
              "      <td>-0.331187</td>\n",
              "      <td>-1.591632</td>\n",
              "      <td>1.0</td>\n",
              "      <td>0.0</td>\n",
              "      <td>0.0</td>\n",
              "      <td>0.0</td>\n",
              "      <td>1.0</td>\n",
              "      <td>0.0</td>\n",
              "      <td>1.0</td>\n",
              "    </tr>\n",
              "    <tr>\n",
              "      <th>3</th>\n",
              "      <td>-0.252441</td>\n",
              "      <td>3.450780</td>\n",
              "      <td>1.080389</td>\n",
              "      <td>2.059471</td>\n",
              "      <td>-1.183771</td>\n",
              "      <td>0.393057</td>\n",
              "      <td>-1.139234</td>\n",
              "      <td>-1.525074</td>\n",
              "      <td>-1.891455</td>\n",
              "      <td>-0.827215</td>\n",
              "      <td>0.344540</td>\n",
              "      <td>0.324534</td>\n",
              "      <td>0.514776</td>\n",
              "      <td>0.800659</td>\n",
              "      <td>-0.463239</td>\n",
              "      <td>-0.244886</td>\n",
              "      <td>-0.365325</td>\n",
              "      <td>0.892664</td>\n",
              "      <td>1.188859</td>\n",
              "      <td>0.088564</td>\n",
              "      <td>1.067384</td>\n",
              "      <td>-1.591632</td>\n",
              "      <td>1.0</td>\n",
              "      <td>0.0</td>\n",
              "      <td>0.0</td>\n",
              "      <td>0.0</td>\n",
              "      <td>1.0</td>\n",
              "      <td>0.0</td>\n",
              "      <td>1.0</td>\n",
              "    </tr>\n",
              "    <tr>\n",
              "      <th>6</th>\n",
              "      <td>-0.252441</td>\n",
              "      <td>-0.297378</td>\n",
              "      <td>-0.340302</td>\n",
              "      <td>-0.179084</td>\n",
              "      <td>0.105445</td>\n",
              "      <td>-0.031810</td>\n",
              "      <td>-1.139234</td>\n",
              "      <td>0.387711</td>\n",
              "      <td>0.884613</td>\n",
              "      <td>-0.321309</td>\n",
              "      <td>-0.051793</td>\n",
              "      <td>-0.062727</td>\n",
              "      <td>1.327974</td>\n",
              "      <td>0.800659</td>\n",
              "      <td>-0.463239</td>\n",
              "      <td>-1.375509</td>\n",
              "      <td>0.275106</td>\n",
              "      <td>0.002023</td>\n",
              "      <td>-0.615314</td>\n",
              "      <td>0.088564</td>\n",
              "      <td>-0.331187</td>\n",
              "      <td>0.628286</td>\n",
              "      <td>0.0</td>\n",
              "      <td>1.0</td>\n",
              "      <td>0.0</td>\n",
              "      <td>1.0</td>\n",
              "      <td>0.0</td>\n",
              "      <td>1.0</td>\n",
              "      <td>0.0</td>\n",
              "    </tr>\n",
              "    <tr>\n",
              "      <th>...</th>\n",
              "      <td>...</td>\n",
              "      <td>...</td>\n",
              "      <td>...</td>\n",
              "      <td>...</td>\n",
              "      <td>...</td>\n",
              "      <td>...</td>\n",
              "      <td>...</td>\n",
              "      <td>...</td>\n",
              "      <td>...</td>\n",
              "      <td>...</td>\n",
              "      <td>...</td>\n",
              "      <td>...</td>\n",
              "      <td>...</td>\n",
              "      <td>...</td>\n",
              "      <td>...</td>\n",
              "      <td>...</td>\n",
              "      <td>...</td>\n",
              "      <td>...</td>\n",
              "      <td>...</td>\n",
              "      <td>...</td>\n",
              "      <td>...</td>\n",
              "      <td>...</td>\n",
              "      <td>...</td>\n",
              "      <td>...</td>\n",
              "      <td>...</td>\n",
              "      <td>...</td>\n",
              "      <td>...</td>\n",
              "      <td>...</td>\n",
              "      <td>...</td>\n",
              "    </tr>\n",
              "    <tr>\n",
              "      <th>21998</th>\n",
              "      <td>3.617336</td>\n",
              "      <td>0.261504</td>\n",
              "      <td>3.921772</td>\n",
              "      <td>-1.422726</td>\n",
              "      <td>0.294382</td>\n",
              "      <td>4.429292</td>\n",
              "      <td>1.142736</td>\n",
              "      <td>0.387711</td>\n",
              "      <td>-1.891455</td>\n",
              "      <td>-4.621511</td>\n",
              "      <td>3.911545</td>\n",
              "      <td>3.809883</td>\n",
              "      <td>2.954371</td>\n",
              "      <td>4.030563</td>\n",
              "      <td>-0.074349</td>\n",
              "      <td>-1.375509</td>\n",
              "      <td>-0.365325</td>\n",
              "      <td>0.834984</td>\n",
              "      <td>0.286772</td>\n",
              "      <td>0.088564</td>\n",
              "      <td>-0.331187</td>\n",
              "      <td>0.628286</td>\n",
              "      <td>1.0</td>\n",
              "      <td>0.0</td>\n",
              "      <td>0.0</td>\n",
              "      <td>1.0</td>\n",
              "      <td>0.0</td>\n",
              "      <td>0.0</td>\n",
              "      <td>1.0</td>\n",
              "    </tr>\n",
              "    <tr>\n",
              "      <th>21999</th>\n",
              "      <td>-0.252441</td>\n",
              "      <td>-0.194106</td>\n",
              "      <td>-0.340302</td>\n",
              "      <td>-0.009949</td>\n",
              "      <td>1.039016</td>\n",
              "      <td>-0.244243</td>\n",
              "      <td>-1.139234</td>\n",
              "      <td>0.387711</td>\n",
              "      <td>0.481513</td>\n",
              "      <td>-0.068356</td>\n",
              "      <td>-0.249960</td>\n",
              "      <td>-0.256358</td>\n",
              "      <td>-0.705022</td>\n",
              "      <td>-0.814293</td>\n",
              "      <td>-0.463239</td>\n",
              "      <td>2.016359</td>\n",
              "      <td>0.275106</td>\n",
              "      <td>0.064732</td>\n",
              "      <td>-0.615314</td>\n",
              "      <td>0.088564</td>\n",
              "      <td>-0.331187</td>\n",
              "      <td>0.628286</td>\n",
              "      <td>1.0</td>\n",
              "      <td>0.0</td>\n",
              "      <td>0.0</td>\n",
              "      <td>0.0</td>\n",
              "      <td>1.0</td>\n",
              "      <td>0.0</td>\n",
              "      <td>1.0</td>\n",
              "    </tr>\n",
              "    <tr>\n",
              "      <th>22000</th>\n",
              "      <td>-0.252441</td>\n",
              "      <td>-0.449248</td>\n",
              "      <td>-0.340302</td>\n",
              "      <td>-0.427813</td>\n",
              "      <td>2.428258</td>\n",
              "      <td>-0.031810</td>\n",
              "      <td>0.001751</td>\n",
              "      <td>0.387711</td>\n",
              "      <td>0.268554</td>\n",
              "      <td>-0.068356</td>\n",
              "      <td>-0.249960</td>\n",
              "      <td>-0.256358</td>\n",
              "      <td>-0.705022</td>\n",
              "      <td>-0.814293</td>\n",
              "      <td>-0.463239</td>\n",
              "      <td>-0.621760</td>\n",
              "      <td>-0.365325</td>\n",
              "      <td>0.222095</td>\n",
              "      <td>-0.615314</td>\n",
              "      <td>0.088564</td>\n",
              "      <td>1.067384</td>\n",
              "      <td>0.628286</td>\n",
              "      <td>0.0</td>\n",
              "      <td>1.0</td>\n",
              "      <td>0.0</td>\n",
              "      <td>0.0</td>\n",
              "      <td>1.0</td>\n",
              "      <td>0.0</td>\n",
              "      <td>1.0</td>\n",
              "    </tr>\n",
              "    <tr>\n",
              "      <th>22002</th>\n",
              "      <td>-0.252441</td>\n",
              "      <td>-0.449248</td>\n",
              "      <td>-0.340302</td>\n",
              "      <td>-0.427813</td>\n",
              "      <td>-1.372708</td>\n",
              "      <td>0.605491</td>\n",
              "      <td>1.142736</td>\n",
              "      <td>0.387711</td>\n",
              "      <td>0.466301</td>\n",
              "      <td>-0.827215</td>\n",
              "      <td>0.146373</td>\n",
              "      <td>0.130903</td>\n",
              "      <td>0.514776</td>\n",
              "      <td>0.262342</td>\n",
              "      <td>-0.463239</td>\n",
              "      <td>-0.244886</td>\n",
              "      <td>0.275106</td>\n",
              "      <td>1.867311</td>\n",
              "      <td>2.090946</td>\n",
              "      <td>0.088564</td>\n",
              "      <td>1.067384</td>\n",
              "      <td>0.628286</td>\n",
              "      <td>1.0</td>\n",
              "      <td>0.0</td>\n",
              "      <td>0.0</td>\n",
              "      <td>0.0</td>\n",
              "      <td>1.0</td>\n",
              "      <td>0.0</td>\n",
              "      <td>1.0</td>\n",
              "    </tr>\n",
              "    <tr>\n",
              "      <th>22003</th>\n",
              "      <td>-0.252441</td>\n",
              "      <td>-0.449248</td>\n",
              "      <td>-0.340302</td>\n",
              "      <td>-0.427813</td>\n",
              "      <td>-1.372708</td>\n",
              "      <td>-0.456677</td>\n",
              "      <td>0.001751</td>\n",
              "      <td>0.387711</td>\n",
              "      <td>0.915036</td>\n",
              "      <td>0.184597</td>\n",
              "      <td>-0.051793</td>\n",
              "      <td>-0.062727</td>\n",
              "      <td>0.514776</td>\n",
              "      <td>0.262342</td>\n",
              "      <td>-0.463239</td>\n",
              "      <td>3.523855</td>\n",
              "      <td>-0.365325</td>\n",
              "      <td>0.425750</td>\n",
              "      <td>-0.615314</td>\n",
              "      <td>1.377143</td>\n",
              "      <td>1.067384</td>\n",
              "      <td>-1.591632</td>\n",
              "      <td>1.0</td>\n",
              "      <td>0.0</td>\n",
              "      <td>0.0</td>\n",
              "      <td>0.0</td>\n",
              "      <td>1.0</td>\n",
              "      <td>0.0</td>\n",
              "      <td>1.0</td>\n",
              "    </tr>\n",
              "  </tbody>\n",
              "</table>\n",
              "<p>11727 rows × 29 columns</p>\n",
              "</div>"
            ],
            "text/plain": [
              "       job_level  job_duration_in_current_job_level  ...  married  notMarried\n",
              "0       3.617336                           3.499378  ...      0.0         1.0\n",
              "1      -0.252441                           1.780207  ...      0.0         1.0\n",
              "2      -0.252441                          -0.248780  ...      0.0         1.0\n",
              "3      -0.252441                           3.450780  ...      0.0         1.0\n",
              "6      -0.252441                          -0.297378  ...      1.0         0.0\n",
              "...          ...                                ...  ...      ...         ...\n",
              "21998   3.617336                           0.261504  ...      0.0         1.0\n",
              "21999  -0.252441                          -0.194106  ...      0.0         1.0\n",
              "22000  -0.252441                          -0.449248  ...      0.0         1.0\n",
              "22002  -0.252441                          -0.449248  ...      0.0         1.0\n",
              "22003  -0.252441                          -0.449248  ...      0.0         1.0\n",
              "\n",
              "[11727 rows x 29 columns]"
            ]
          },
          "metadata": {
            "tags": []
          },
          "execution_count": 270
        }
      ]
    },
    {
      "cell_type": "markdown",
      "metadata": {
        "id": "EmwlVRqo_T-J"
      },
      "source": [
        "# Eda 2?"
      ]
    },
    {
      "cell_type": "code",
      "metadata": {
        "id": "CF0qIjwLsSpa",
        "colab": {
          "base_uri": "https://localhost:8080/",
          "height": 303
        },
        "outputId": "1b212396-efdf-4f69-dfa8-03f85d0f9358"
      },
      "source": [
        "# Histogram\n",
        "plt.figure()\n",
        "plt.hist(X_train['Avg_achievement_%'])#display range nya 1 sampai 6\n",
        "plt.title('Distribution of Average Achievement per Employee', fontsize=15, color='blue')\n",
        "plt.xlabel('Average Achievement', fontsize=12)\n",
        "plt.ylabel('Jumlah Karyawan', fontsize=12)\n",
        "plt.show()"
      ],
      "execution_count": null,
      "outputs": [
        {
          "output_type": "display_data",
          "data": {
            "image/png": "[encoded data removed]",
            "text/plain": [
              "<Figure size 432x288 with 1 Axes>"
            ]
          },
          "metadata": {
            "tags": []
          }
        }
      ]
    },
    {
      "cell_type": "code",
      "metadata": {
        "id": "5OrtSvkXGb7m",
        "colab": {
          "base_uri": "https://localhost:8080/",
          "height": 770
        },
        "outputId": "91616f6e-aa2e-42bc-f612-f7c8f3ae9818"
      },
      "source": [
        "#correlation matrix\n",
        "corrmat = X_train.corr()\n",
        "f, ax = plt.subplots(figsize=(12, 9))\n",
        "sns.heatmap(corrmat, vmax=0.8, square=True);"
      ],
      "execution_count": null,
      "outputs": [
        {
          "output_type": "display_data",
          "data": {
            "image/png": "[encoded data removed]",
            "text/plain": [
              "<Figure size 864x648 with 2 Axes>"
            ]
          },
          "metadata": {
            "tags": []
          }
        }
      ]
    },
    {
      "cell_type": "code",
      "metadata": {
        "id": "gGuet_MhGXwo",
        "colab": {
          "base_uri": "https://localhost:8080/",
          "height": 49
        },
        "outputId": "20786124-0b0d-42c5-bdf4-c609853c318c"
      },
      "source": [
        "df_all_corr = X_train.corr().abs().unstack().sort_values(kind=\"quicksort\", ascending=False).reset_index()\n",
        "df_all_corr.rename(columns={\"level_0\": \"Feature 1\", \"level_1\": \"Feature 2\", 0: 'Correlation Coefficient'}, inplace=True)\n",
        "df_all_corr[df_all_corr['Feature 1'] == 'Last_achievement_%'].head()"
      ],
      "execution_count": null,
      "outputs": [
        {
          "output_type": "execute_result",
          "data": {
            "text/html": [
              "<div>\n",
              "<style scoped>\n",
              "    .dataframe tbody tr th:only-of-type {\n",
              "        vertical-align: middle;\n",
              "    }\n",
              "\n",
              "    .dataframe tbody tr th {\n",
              "        vertical-align: top;\n",
              "    }\n",
              "\n",
              "    .dataframe thead th {\n",
              "        text-align: right;\n",
              "    }\n",
              "</style>\n",
              "<table border=\"1\" class=\"dataframe\">\n",
              "  <thead>\n",
              "    <tr style=\"text-align: right;\">\n",
              "      <th></th>\n",
              "      <th>Feature 1</th>\n",
              "      <th>Feature 2</th>\n",
              "      <th>Correlation Coefficient</th>\n",
              "    </tr>\n",
              "  </thead>\n",
              "  <tbody>\n",
              "  </tbody>\n",
              "</table>\n",
              "</div>"
            ],
            "text/plain": [
              "Empty DataFrame\n",
              "Columns: [Feature 1, Feature 2, Correlation Coefficient]\n",
              "Index: []"
            ]
          },
          "metadata": {
            "tags": []
          },
          "execution_count": 273
        }
      ]
    },
    {
      "cell_type": "code",
      "metadata": {
        "id": "1iD75cmTCI8G",
        "colab": {
          "base_uri": "https://localhost:8080/",
          "height": 324
        },
        "outputId": "bc3dba31-1342-47e0-9733-16b0c0a3c257"
      },
      "source": [
        "var = 'Achievement_above_100%_during3quartal'\n",
        "data = pd.concat([X_train['Avg_achievement_%'], X_train[var]], axis=1)\n",
        "data.plot.scatter(x=var, y='Avg_achievement_%');"
      ],
      "execution_count": null,
      "outputs": [
        {
          "output_type": "stream",
          "text": [
            "*c* argument looks like a single numeric RGB or RGBA sequence, which should be avoided as value-mapping will have precedence in case its length matches with *x* & *y*.  Please use the *color* keyword-argument or provide a 2-D array with a single row if you intend to specify the same RGB or RGBA value for all points.\n"
          ],
          "name": "stderr"
        },
        {
          "output_type": "display_data",
          "data": {
            "image/png": "[encoded data removed]",
            "text/plain": [
              "<Figure size 432x288 with 1 Axes>"
            ]
          },
          "metadata": {
            "tags": []
          }
        }
      ]
    },
    {
      "cell_type": "markdown",
      "metadata": {
        "id": "yLinocdO_Xwd"
      },
      "source": [
        "# ML"
      ]
    },
    {
      "cell_type": "code",
      "metadata": {
        "id": "0k1UswgWISp1",
        "colab": {
          "base_uri": "https://localhost:8080/"
        },
        "outputId": "f4295f1e-ade6-43f3-f27d-c748790c238e"
      },
      "source": [
        "X_train.columns"
      ],
      "execution_count": null,
      "outputs": [
        {
          "output_type": "execute_result",
          "data": {
            "text/plain": [
              "Index(['job_level', 'job_duration_in_current_job_level', 'person_level',\n",
              "       'job_duration_in_current_person_level',\n",
              "       'job_duration_in_current_branch', 'age', 'number_of_dependences',\n",
              "       'Education_level', 'GPA', 'year_graduated',\n",
              "       'job_duration_as_permanent_worker', 'job_duration_from_training',\n",
              "       'branch_rotation', 'job_rotation', 'assign_of_otherposition',\n",
              "       'annual leave', 'sick_leaves', 'Avg_achievement_%',\n",
              "       'Achievement_above_100%_during3quartal', 'achievement_target_1',\n",
              "       'achievement_target_2', 'achievement_target_3', 'RM_type_A',\n",
              "       'RM_type_B', 'RM_type_C', 'Male', 'Female', 'married', 'notMarried'],\n",
              "      dtype='object')"
            ]
          },
          "metadata": {
            "tags": []
          },
          "execution_count": 275
        }
      ]
    },
    {
      "cell_type": "code",
      "metadata": {
        "id": "BQT31PvjKJ-d"
      },
      "source": [
        "#X_train_ready = X_train.drop(columns='Best Performance')\n",
        "#y_train = X_train['Best Performance']"
      ],
      "execution_count": null,
      "outputs": []
    },
    {
      "cell_type": "code",
      "metadata": {
        "id": "HUAfMYBxL0LY"
      },
      "source": [
        "#X_train_ready"
      ],
      "execution_count": null,
      "outputs": []
    },
    {
      "cell_type": "code",
      "metadata": {
        "id": "yotMfJXOK6YQ",
        "colab": {
          "base_uri": "https://localhost:8080/"
        },
        "outputId": "9dff1ff3-cbc1-41cb-fa7e-d6e161c8271c"
      },
      "source": [
        "y_train"
      ],
      "execution_count": null,
      "outputs": [
        {
          "output_type": "execute_result",
          "data": {
            "text/plain": [
              "0        0\n",
              "1        0\n",
              "2        0\n",
              "3        0\n",
              "6        1\n",
              "        ..\n",
              "21998    0\n",
              "21999    0\n",
              "22000    0\n",
              "22002    0\n",
              "22003    0\n",
              "Name: Best Performance, Length: 11727, dtype: int64"
            ]
          },
          "metadata": {
            "tags": []
          },
          "execution_count": 278
        }
      ]
    },
    {
      "cell_type": "code",
      "metadata": {
        "id": "PlSoq23FIPiD",
        "colab": {
          "base_uri": "https://localhost:8080/"
        },
        "outputId": "523aabed-5602-4aa1-d95d-ba101a575ab6"
      },
      "source": [
        "from sklearn.tree import DecisionTreeClassifier\n",
        "classifier = DecisionTreeClassifier(criterion = 'entropy', random_state = 0)\n",
        "classifier.fit(X_train, y_train)"
      ],
      "execution_count": null,
      "outputs": [
        {
          "output_type": "execute_result",
          "data": {
            "text/plain": [
              "DecisionTreeClassifier(ccp_alpha=0.0, class_weight=None, criterion='entropy',\n",
              "                       max_depth=None, max_features=None, max_leaf_nodes=None,\n",
              "                       min_impurity_decrease=0.0, min_impurity_split=None,\n",
              "                       min_samples_leaf=1, min_samples_split=2,\n",
              "                       min_weight_fraction_leaf=0.0, presort='deprecated',\n",
              "                       random_state=0, splitter='best')"
            ]
          },
          "metadata": {
            "tags": []
          },
          "execution_count": 279
        }
      ]
    },
    {
      "cell_type": "markdown",
      "metadata": {
        "id": "lpQwoG4iL-9p"
      },
      "source": [
        "### Predicting train results"
      ]
    },
    {
      "cell_type": "code",
      "metadata": {
        "id": "KUdrid2PMEbp"
      },
      "source": [
        "y_pred = classifier.predict(X_train)"
      ],
      "execution_count": null,
      "outputs": []
    },
    {
      "cell_type": "code",
      "metadata": {
        "id": "GWtCHo6AMHkE",
        "colab": {
          "base_uri": "https://localhost:8080/"
        },
        "outputId": "93bfeb00-a902-46b9-a956-f30a1d8f3023"
      },
      "source": [
        "from sklearn.metrics import confusion_matrix, accuracy_score\n",
        "cm = confusion_matrix(y_train, y_pred)\n",
        "print(cm)\n",
        "accuracy_score(y_train, y_pred)"
      ],
      "execution_count": null,
      "outputs": [
        {
          "output_type": "stream",
          "text": [
            "[[9999    0]\n",
            " [   0 1728]]\n"
          ],
          "name": "stdout"
        },
        {
          "output_type": "execute_result",
          "data": {
            "text/plain": [
              "1.0"
            ]
          },
          "metadata": {
            "tags": []
          },
          "execution_count": 281
        }
      ]
    },
    {
      "cell_type": "code",
      "metadata": {
        "id": "nyaIpMYIMTxo"
      },
      "source": [
        "y_test_pred = classifier.predict(X_test)"
      ],
      "execution_count": null,
      "outputs": []
    },
    {
      "cell_type": "code",
      "metadata": {
        "id": "ZrNEkuvZTHPU"
      },
      "source": [
        "submission = pd.DataFrame(y_test_pred, \n",
        "             columns=['Best Performance'])"
      ],
      "execution_count": null,
      "outputs": []
    },
    {
      "cell_type": "code",
      "metadata": {
        "id": "ylOwfV-lUOFk"
      },
      "source": [
        "submission = submission.reset_index()"
      ],
      "execution_count": null,
      "outputs": []
    },
    {
      "cell_type": "code",
      "metadata": {
        "colab": {
          "base_uri": "https://localhost:8080/"
        },
        "id": "LE3omaEZUcKx",
        "outputId": "59d60079-ab70-4796-a246-8ef2df94e8ed"
      },
      "source": [
        "submission.to_csv('submissiontgl2.csv', index=False)\n",
        "print(\"Done\")"
      ],
      "execution_count": null,
      "outputs": [
        {
          "output_type": "stream",
          "text": [
            "Done\n"
          ],
          "name": "stdout"
        }
      ]
    },
    {
      "cell_type": "code",
      "metadata": {
        "colab": {
          "base_uri": "https://localhost:8080/"
        },
        "id": "iSOyvwFYxvPC",
        "outputId": "4cd312ac-1ce0-4d78-dc98-e03558e6dcf3"
      },
      "source": [
        "X_test.columns"
      ],
      "execution_count": null,
      "outputs": [
        {
          "output_type": "execute_result",
          "data": {
            "text/plain": [
              "Index(['job_level', 'job_duration_in_current_job_level', 'person_level',\n",
              "       'job_duration_in_current_person_level',\n",
              "       'job_duration_in_current_branch', 'age', 'number_of_dependences',\n",
              "       'Education_level', 'GPA', 'year_graduated',\n",
              "       'job_duration_as_permanent_worker', 'job_duration_from_training',\n",
              "       'branch_rotation', 'job_rotation', 'assign_of_otherposition',\n",
              "       'annual leave', 'sick_leaves', 'Avg_achievement_%',\n",
              "       'Achievement_above_100%_during3quartal', 'achievement_target_1',\n",
              "       'achievement_target_2', 'achievement_target_3', 'RM_type_A',\n",
              "       'RM_type_B', 'RM_type_C', 'Male', 'Female', 'married', 'notMarried'],\n",
              "      dtype='object')"
            ]
          },
          "metadata": {
            "tags": []
          },
          "execution_count": 286
        }
      ]
    },
    {
      "cell_type": "code",
      "metadata": {
        "colab": {
          "base_uri": "https://localhost:8080/",
          "height": 419
        },
        "id": "htUc7TYBVWL_",
        "outputId": "2f25678b-9d09-435b-abae-cdb8d560373a"
      },
      "source": [
        "submission"
      ],
      "execution_count": null,
      "outputs": [
        {
          "output_type": "execute_result",
          "data": {
            "text/html": [
              "<div>\n",
              "<style scoped>\n",
              "    .dataframe tbody tr th:only-of-type {\n",
              "        vertical-align: middle;\n",
              "    }\n",
              "\n",
              "    .dataframe tbody tr th {\n",
              "        vertical-align: top;\n",
              "    }\n",
              "\n",
              "    .dataframe thead th {\n",
              "        text-align: right;\n",
              "    }\n",
              "</style>\n",
              "<table border=\"1\" class=\"dataframe\">\n",
              "  <thead>\n",
              "    <tr style=\"text-align: right;\">\n",
              "      <th></th>\n",
              "      <th>index</th>\n",
              "      <th>Best Performance</th>\n",
              "    </tr>\n",
              "  </thead>\n",
              "  <tbody>\n",
              "    <tr>\n",
              "      <th>0</th>\n",
              "      <td>0</td>\n",
              "      <td>0</td>\n",
              "    </tr>\n",
              "    <tr>\n",
              "      <th>1</th>\n",
              "      <td>1</td>\n",
              "      <td>0</td>\n",
              "    </tr>\n",
              "    <tr>\n",
              "      <th>2</th>\n",
              "      <td>2</td>\n",
              "      <td>1</td>\n",
              "    </tr>\n",
              "    <tr>\n",
              "      <th>3</th>\n",
              "      <td>3</td>\n",
              "      <td>0</td>\n",
              "    </tr>\n",
              "    <tr>\n",
              "      <th>4</th>\n",
              "      <td>4</td>\n",
              "      <td>0</td>\n",
              "    </tr>\n",
              "    <tr>\n",
              "      <th>...</th>\n",
              "      <td>...</td>\n",
              "      <td>...</td>\n",
              "    </tr>\n",
              "    <tr>\n",
              "      <th>5995</th>\n",
              "      <td>5995</td>\n",
              "      <td>1</td>\n",
              "    </tr>\n",
              "    <tr>\n",
              "      <th>5996</th>\n",
              "      <td>5996</td>\n",
              "      <td>0</td>\n",
              "    </tr>\n",
              "    <tr>\n",
              "      <th>5997</th>\n",
              "      <td>5997</td>\n",
              "      <td>0</td>\n",
              "    </tr>\n",
              "    <tr>\n",
              "      <th>5998</th>\n",
              "      <td>5998</td>\n",
              "      <td>0</td>\n",
              "    </tr>\n",
              "    <tr>\n",
              "      <th>5999</th>\n",
              "      <td>5999</td>\n",
              "      <td>0</td>\n",
              "    </tr>\n",
              "  </tbody>\n",
              "</table>\n",
              "<p>6000 rows × 2 columns</p>\n",
              "</div>"
            ],
            "text/plain": [
              "      index  Best Performance\n",
              "0         0                 0\n",
              "1         1                 0\n",
              "2         2                 1\n",
              "3         3                 0\n",
              "4         4                 0\n",
              "...     ...               ...\n",
              "5995   5995                 1\n",
              "5996   5996                 0\n",
              "5997   5997                 0\n",
              "5998   5998                 0\n",
              "5999   5999                 0\n",
              "\n",
              "[6000 rows x 2 columns]"
            ]
          },
          "metadata": {
            "tags": []
          },
          "execution_count": 287
        }
      ]
    },
    {
      "cell_type": "code",
      "metadata": {
        "colab": {
          "base_uri": "https://localhost:8080/",
          "height": 456
        },
        "id": "9hAVkaQYX31d",
        "outputId": "f8095316-df34-46ac-b667-eeb42315c994"
      },
      "source": [
        "X_test"
      ],
      "execution_count": null,
      "outputs": [
        {
          "output_type": "execute_result",
          "data": {
            "text/html": [
              "<div>\n",
              "<style scoped>\n",
              "    .dataframe tbody tr th:only-of-type {\n",
              "        vertical-align: middle;\n",
              "    }\n",
              "\n",
              "    .dataframe tbody tr th {\n",
              "        vertical-align: top;\n",
              "    }\n",
              "\n",
              "    .dataframe thead th {\n",
              "        text-align: right;\n",
              "    }\n",
              "</style>\n",
              "<table border=\"1\" class=\"dataframe\">\n",
              "  <thead>\n",
              "    <tr style=\"text-align: right;\">\n",
              "      <th></th>\n",
              "      <th>job_level</th>\n",
              "      <th>job_duration_in_current_job_level</th>\n",
              "      <th>person_level</th>\n",
              "      <th>job_duration_in_current_person_level</th>\n",
              "      <th>job_duration_in_current_branch</th>\n",
              "      <th>age</th>\n",
              "      <th>number_of_dependences</th>\n",
              "      <th>Education_level</th>\n",
              "      <th>GPA</th>\n",
              "      <th>year_graduated</th>\n",
              "      <th>job_duration_as_permanent_worker</th>\n",
              "      <th>job_duration_from_training</th>\n",
              "      <th>branch_rotation</th>\n",
              "      <th>job_rotation</th>\n",
              "      <th>assign_of_otherposition</th>\n",
              "      <th>annual leave</th>\n",
              "      <th>sick_leaves</th>\n",
              "      <th>Avg_achievement_%</th>\n",
              "      <th>Achievement_above_100%_during3quartal</th>\n",
              "      <th>achievement_target_1</th>\n",
              "      <th>achievement_target_2</th>\n",
              "      <th>achievement_target_3</th>\n",
              "      <th>RM_type_A</th>\n",
              "      <th>RM_type_B</th>\n",
              "      <th>RM_type_C</th>\n",
              "      <th>Male</th>\n",
              "      <th>Female</th>\n",
              "      <th>married</th>\n",
              "      <th>notMarried</th>\n",
              "    </tr>\n",
              "  </thead>\n",
              "  <tbody>\n",
              "    <tr>\n",
              "      <th>0</th>\n",
              "      <td>3.617336</td>\n",
              "      <td>-0.497847</td>\n",
              "      <td>2.501080</td>\n",
              "      <td>-0.507406</td>\n",
              "      <td>-0.817011</td>\n",
              "      <td>0.605491</td>\n",
              "      <td>1.142736</td>\n",
              "      <td>-1.525074</td>\n",
              "      <td>0.960670</td>\n",
              "      <td>-1.333121</td>\n",
              "      <td>1.335375</td>\n",
              "      <td>1.486317</td>\n",
              "      <td>1.327974</td>\n",
              "      <td>2.953928</td>\n",
              "      <td>-0.074349</td>\n",
              "      <td>-0.244886</td>\n",
              "      <td>-0.045109</td>\n",
              "      <td>0.565070</td>\n",
              "      <td>0.286772</td>\n",
              "      <td>0.088564</td>\n",
              "      <td>-0.331187</td>\n",
              "      <td>0.628286</td>\n",
              "      <td>0.0</td>\n",
              "      <td>0.0</td>\n",
              "      <td>1.0</td>\n",
              "      <td>1.0</td>\n",
              "      <td>0.0</td>\n",
              "      <td>0.0</td>\n",
              "      <td>1.0</td>\n",
              "    </tr>\n",
              "    <tr>\n",
              "      <th>1</th>\n",
              "      <td>-0.252441</td>\n",
              "      <td>-0.400650</td>\n",
              "      <td>-0.340302</td>\n",
              "      <td>-0.348220</td>\n",
              "      <td>0.850079</td>\n",
              "      <td>-0.456677</td>\n",
              "      <td>-1.139234</td>\n",
              "      <td>0.387711</td>\n",
              "      <td>0.443484</td>\n",
              "      <td>0.437550</td>\n",
              "      <td>-0.448127</td>\n",
              "      <td>-0.449988</td>\n",
              "      <td>-0.705022</td>\n",
              "      <td>-0.814293</td>\n",
              "      <td>0.314541</td>\n",
              "      <td>0.131988</td>\n",
              "      <td>-0.045109</td>\n",
              "      <td>-0.554073</td>\n",
              "      <td>-0.615314</td>\n",
              "      <td>-1.200015</td>\n",
              "      <td>-0.331187</td>\n",
              "      <td>0.628286</td>\n",
              "      <td>1.0</td>\n",
              "      <td>0.0</td>\n",
              "      <td>0.0</td>\n",
              "      <td>0.0</td>\n",
              "      <td>1.0</td>\n",
              "      <td>1.0</td>\n",
              "      <td>0.0</td>\n",
              "    </tr>\n",
              "    <tr>\n",
              "      <th>2</th>\n",
              "      <td>-0.252441</td>\n",
              "      <td>-0.248780</td>\n",
              "      <td>-0.340302</td>\n",
              "      <td>-0.099491</td>\n",
              "      <td>0.294382</td>\n",
              "      <td>-0.456677</td>\n",
              "      <td>0.001751</td>\n",
              "      <td>0.387711</td>\n",
              "      <td>0.565175</td>\n",
              "      <td>0.437550</td>\n",
              "      <td>-0.448127</td>\n",
              "      <td>-0.449988</td>\n",
              "      <td>-0.298422</td>\n",
              "      <td>-0.814293</td>\n",
              "      <td>-0.463239</td>\n",
              "      <td>-0.621760</td>\n",
              "      <td>-0.365325</td>\n",
              "      <td>-1.053968</td>\n",
              "      <td>-0.615314</td>\n",
              "      <td>0.088564</td>\n",
              "      <td>-0.331187</td>\n",
              "      <td>0.628286</td>\n",
              "      <td>1.0</td>\n",
              "      <td>0.0</td>\n",
              "      <td>0.0</td>\n",
              "      <td>0.0</td>\n",
              "      <td>1.0</td>\n",
              "      <td>0.0</td>\n",
              "      <td>1.0</td>\n",
              "    </tr>\n",
              "    <tr>\n",
              "      <th>3</th>\n",
              "      <td>3.617336</td>\n",
              "      <td>3.499378</td>\n",
              "      <td>3.921772</td>\n",
              "      <td>3.054384</td>\n",
              "      <td>0.294382</td>\n",
              "      <td>2.729825</td>\n",
              "      <td>2.283721</td>\n",
              "      <td>0.387711</td>\n",
              "      <td>-1.891455</td>\n",
              "      <td>0.943456</td>\n",
              "      <td>3.118877</td>\n",
              "      <td>3.035361</td>\n",
              "      <td>1.734574</td>\n",
              "      <td>0.800659</td>\n",
              "      <td>3.814551</td>\n",
              "      <td>-0.244886</td>\n",
              "      <td>-0.365325</td>\n",
              "      <td>0.338047</td>\n",
              "      <td>-0.615314</td>\n",
              "      <td>0.088564</td>\n",
              "      <td>-0.331187</td>\n",
              "      <td>-1.591632</td>\n",
              "      <td>1.0</td>\n",
              "      <td>0.0</td>\n",
              "      <td>0.0</td>\n",
              "      <td>0.0</td>\n",
              "      <td>1.0</td>\n",
              "      <td>0.0</td>\n",
              "      <td>1.0</td>\n",
              "    </tr>\n",
              "    <tr>\n",
              "      <th>4</th>\n",
              "      <td>-0.252441</td>\n",
              "      <td>-0.194106</td>\n",
              "      <td>-0.340302</td>\n",
              "      <td>-0.009949</td>\n",
              "      <td>-0.817011</td>\n",
              "      <td>0.180624</td>\n",
              "      <td>0.001751</td>\n",
              "      <td>-1.525074</td>\n",
              "      <td>1.044332</td>\n",
              "      <td>-0.321309</td>\n",
              "      <td>-0.051793</td>\n",
              "      <td>-0.062727</td>\n",
              "      <td>0.921375</td>\n",
              "      <td>-0.275975</td>\n",
              "      <td>-0.463239</td>\n",
              "      <td>-0.244886</td>\n",
              "      <td>-0.365325</td>\n",
              "      <td>1.757275</td>\n",
              "      <td>2.090946</td>\n",
              "      <td>0.088564</td>\n",
              "      <td>-1.729758</td>\n",
              "      <td>0.628286</td>\n",
              "      <td>1.0</td>\n",
              "      <td>0.0</td>\n",
              "      <td>0.0</td>\n",
              "      <td>1.0</td>\n",
              "      <td>0.0</td>\n",
              "      <td>0.0</td>\n",
              "      <td>1.0</td>\n",
              "    </tr>\n",
              "    <tr>\n",
              "      <th>...</th>\n",
              "      <td>...</td>\n",
              "      <td>...</td>\n",
              "      <td>...</td>\n",
              "      <td>...</td>\n",
              "      <td>...</td>\n",
              "      <td>...</td>\n",
              "      <td>...</td>\n",
              "      <td>...</td>\n",
              "      <td>...</td>\n",
              "      <td>...</td>\n",
              "      <td>...</td>\n",
              "      <td>...</td>\n",
              "      <td>...</td>\n",
              "      <td>...</td>\n",
              "      <td>...</td>\n",
              "      <td>...</td>\n",
              "      <td>...</td>\n",
              "      <td>...</td>\n",
              "      <td>...</td>\n",
              "      <td>...</td>\n",
              "      <td>...</td>\n",
              "      <td>...</td>\n",
              "      <td>...</td>\n",
              "      <td>...</td>\n",
              "      <td>...</td>\n",
              "      <td>...</td>\n",
              "      <td>...</td>\n",
              "      <td>...</td>\n",
              "      <td>...</td>\n",
              "    </tr>\n",
              "    <tr>\n",
              "      <th>5995</th>\n",
              "      <td>-4.122219</td>\n",
              "      <td>0.310103</td>\n",
              "      <td>-3.181684</td>\n",
              "      <td>0.815829</td>\n",
              "      <td>1.683624</td>\n",
              "      <td>-0.244243</td>\n",
              "      <td>-1.139234</td>\n",
              "      <td>0.387711</td>\n",
              "      <td>-1.891455</td>\n",
              "      <td>0.184597</td>\n",
              "      <td>-0.646294</td>\n",
              "      <td>-0.643619</td>\n",
              "      <td>-1.111621</td>\n",
              "      <td>-1.352610</td>\n",
              "      <td>-0.463239</td>\n",
              "      <td>-0.998635</td>\n",
              "      <td>-0.365325</td>\n",
              "      <td>-0.770891</td>\n",
              "      <td>-0.615314</td>\n",
              "      <td>0.088564</td>\n",
              "      <td>-0.331187</td>\n",
              "      <td>-1.591632</td>\n",
              "      <td>0.0</td>\n",
              "      <td>1.0</td>\n",
              "      <td>0.0</td>\n",
              "      <td>0.0</td>\n",
              "      <td>1.0</td>\n",
              "      <td>1.0</td>\n",
              "      <td>0.0</td>\n",
              "    </tr>\n",
              "    <tr>\n",
              "      <th>5996</th>\n",
              "      <td>-0.252441</td>\n",
              "      <td>-0.649717</td>\n",
              "      <td>-0.340302</td>\n",
              "      <td>-0.756134</td>\n",
              "      <td>-0.817011</td>\n",
              "      <td>-0.244243</td>\n",
              "      <td>0.001751</td>\n",
              "      <td>-1.525074</td>\n",
              "      <td>0.694471</td>\n",
              "      <td>0.437550</td>\n",
              "      <td>-0.448127</td>\n",
              "      <td>-0.449988</td>\n",
              "      <td>-0.298422</td>\n",
              "      <td>-0.275975</td>\n",
              "      <td>-0.463239</td>\n",
              "      <td>-1.375509</td>\n",
              "      <td>-0.365325</td>\n",
              "      <td>0.435660</td>\n",
              "      <td>-0.615314</td>\n",
              "      <td>0.088564</td>\n",
              "      <td>-0.331187</td>\n",
              "      <td>0.628286</td>\n",
              "      <td>0.0</td>\n",
              "      <td>1.0</td>\n",
              "      <td>0.0</td>\n",
              "      <td>0.0</td>\n",
              "      <td>1.0</td>\n",
              "      <td>0.0</td>\n",
              "      <td>1.0</td>\n",
              "    </tr>\n",
              "    <tr>\n",
              "      <th>5997</th>\n",
              "      <td>-0.252441</td>\n",
              "      <td>-0.248780</td>\n",
              "      <td>-0.340302</td>\n",
              "      <td>-0.099491</td>\n",
              "      <td>0.761168</td>\n",
              "      <td>-0.031810</td>\n",
              "      <td>1.142736</td>\n",
              "      <td>0.387711</td>\n",
              "      <td>0.747711</td>\n",
              "      <td>-0.068356</td>\n",
              "      <td>0.146373</td>\n",
              "      <td>0.130903</td>\n",
              "      <td>0.514776</td>\n",
              "      <td>-0.275975</td>\n",
              "      <td>-0.463239</td>\n",
              "      <td>-0.244886</td>\n",
              "      <td>-0.365325</td>\n",
              "      <td>1.381466</td>\n",
              "      <td>2.090946</td>\n",
              "      <td>1.377143</td>\n",
              "      <td>2.465955</td>\n",
              "      <td>0.628286</td>\n",
              "      <td>1.0</td>\n",
              "      <td>0.0</td>\n",
              "      <td>0.0</td>\n",
              "      <td>0.0</td>\n",
              "      <td>1.0</td>\n",
              "      <td>0.0</td>\n",
              "      <td>1.0</td>\n",
              "    </tr>\n",
              "    <tr>\n",
              "      <th>5998</th>\n",
              "      <td>-0.252441</td>\n",
              "      <td>-0.194106</td>\n",
              "      <td>-0.340302</td>\n",
              "      <td>-0.009949</td>\n",
              "      <td>0.016534</td>\n",
              "      <td>0.393057</td>\n",
              "      <td>-1.139234</td>\n",
              "      <td>0.387711</td>\n",
              "      <td>0.557569</td>\n",
              "      <td>-0.321309</td>\n",
              "      <td>-0.051793</td>\n",
              "      <td>-0.062727</td>\n",
              "      <td>0.514776</td>\n",
              "      <td>-0.275975</td>\n",
              "      <td>-0.463239</td>\n",
              "      <td>-0.998635</td>\n",
              "      <td>-0.365325</td>\n",
              "      <td>0.712672</td>\n",
              "      <td>-0.615314</td>\n",
              "      <td>1.377143</td>\n",
              "      <td>1.067384</td>\n",
              "      <td>-1.591632</td>\n",
              "      <td>1.0</td>\n",
              "      <td>0.0</td>\n",
              "      <td>0.0</td>\n",
              "      <td>0.0</td>\n",
              "      <td>1.0</td>\n",
              "      <td>0.0</td>\n",
              "      <td>1.0</td>\n",
              "    </tr>\n",
              "    <tr>\n",
              "      <th>5999</th>\n",
              "      <td>-0.252441</td>\n",
              "      <td>-0.145508</td>\n",
              "      <td>-0.340302</td>\n",
              "      <td>0.069644</td>\n",
              "      <td>-0.905923</td>\n",
              "      <td>-0.669110</td>\n",
              "      <td>-1.139234</td>\n",
              "      <td>0.387711</td>\n",
              "      <td>0.200103</td>\n",
              "      <td>0.437550</td>\n",
              "      <td>-0.448127</td>\n",
              "      <td>-0.449988</td>\n",
              "      <td>-0.298422</td>\n",
              "      <td>-0.814293</td>\n",
              "      <td>-0.463239</td>\n",
              "      <td>0.131988</td>\n",
              "      <td>-0.365325</td>\n",
              "      <td>-0.135966</td>\n",
              "      <td>-0.615314</td>\n",
              "      <td>0.088564</td>\n",
              "      <td>-0.331187</td>\n",
              "      <td>-1.591632</td>\n",
              "      <td>1.0</td>\n",
              "      <td>0.0</td>\n",
              "      <td>0.0</td>\n",
              "      <td>1.0</td>\n",
              "      <td>0.0</td>\n",
              "      <td>0.0</td>\n",
              "      <td>1.0</td>\n",
              "    </tr>\n",
              "  </tbody>\n",
              "</table>\n",
              "<p>6000 rows × 29 columns</p>\n",
              "</div>"
            ],
            "text/plain": [
              "      job_level  job_duration_in_current_job_level  ...  married  notMarried\n",
              "0      3.617336                          -0.497847  ...      0.0         1.0\n",
              "1     -0.252441                          -0.400650  ...      1.0         0.0\n",
              "2     -0.252441                          -0.248780  ...      0.0         1.0\n",
              "3      3.617336                           3.499378  ...      0.0         1.0\n",
              "4     -0.252441                          -0.194106  ...      0.0         1.0\n",
              "...         ...                                ...  ...      ...         ...\n",
              "5995  -4.122219                           0.310103  ...      1.0         0.0\n",
              "5996  -0.252441                          -0.649717  ...      0.0         1.0\n",
              "5997  -0.252441                          -0.248780  ...      0.0         1.0\n",
              "5998  -0.252441                          -0.194106  ...      0.0         1.0\n",
              "5999  -0.252441                          -0.145508  ...      0.0         1.0\n",
              "\n",
              "[6000 rows x 29 columns]"
            ]
          },
          "metadata": {
            "tags": []
          },
          "execution_count": 288
        }
      ]
    },
    {
      "cell_type": "code",
      "metadata": {
        "colab": {
          "base_uri": "https://localhost:8080/",
          "height": 456
        },
        "id": "9ZFoPAKTYy6Z",
        "outputId": "2491e0e2-0b46-4be4-f5be-b234b9258029"
      },
      "source": [
        "X_train"
      ],
      "execution_count": null,
      "outputs": [
        {
          "output_type": "execute_result",
          "data": {
            "text/html": [
              "<div>\n",
              "<style scoped>\n",
              "    .dataframe tbody tr th:only-of-type {\n",
              "        vertical-align: middle;\n",
              "    }\n",
              "\n",
              "    .dataframe tbody tr th {\n",
              "        vertical-align: top;\n",
              "    }\n",
              "\n",
              "    .dataframe thead th {\n",
              "        text-align: right;\n",
              "    }\n",
              "</style>\n",
              "<table border=\"1\" class=\"dataframe\">\n",
              "  <thead>\n",
              "    <tr style=\"text-align: right;\">\n",
              "      <th></th>\n",
              "      <th>job_level</th>\n",
              "      <th>job_duration_in_current_job_level</th>\n",
              "      <th>person_level</th>\n",
              "      <th>job_duration_in_current_person_level</th>\n",
              "      <th>job_duration_in_current_branch</th>\n",
              "      <th>age</th>\n",
              "      <th>number_of_dependences</th>\n",
              "      <th>Education_level</th>\n",
              "      <th>GPA</th>\n",
              "      <th>year_graduated</th>\n",
              "      <th>job_duration_as_permanent_worker</th>\n",
              "      <th>job_duration_from_training</th>\n",
              "      <th>branch_rotation</th>\n",
              "      <th>job_rotation</th>\n",
              "      <th>assign_of_otherposition</th>\n",
              "      <th>annual leave</th>\n",
              "      <th>sick_leaves</th>\n",
              "      <th>Avg_achievement_%</th>\n",
              "      <th>Achievement_above_100%_during3quartal</th>\n",
              "      <th>achievement_target_1</th>\n",
              "      <th>achievement_target_2</th>\n",
              "      <th>achievement_target_3</th>\n",
              "      <th>RM_type_A</th>\n",
              "      <th>RM_type_B</th>\n",
              "      <th>RM_type_C</th>\n",
              "      <th>Male</th>\n",
              "      <th>Female</th>\n",
              "      <th>married</th>\n",
              "      <th>notMarried</th>\n",
              "    </tr>\n",
              "  </thead>\n",
              "  <tbody>\n",
              "    <tr>\n",
              "      <th>0</th>\n",
              "      <td>3.617336</td>\n",
              "      <td>3.499378</td>\n",
              "      <td>3.921772</td>\n",
              "      <td>6.039125</td>\n",
              "      <td>-0.817011</td>\n",
              "      <td>4.641726</td>\n",
              "      <td>2.283721</td>\n",
              "      <td>0.387711</td>\n",
              "      <td>-0.126941</td>\n",
              "      <td>-5.633323</td>\n",
              "      <td>4.704213</td>\n",
              "      <td>4.584405</td>\n",
              "      <td>2.141173</td>\n",
              "      <td>1.877294</td>\n",
              "      <td>-0.463239</td>\n",
              "      <td>1.639485</td>\n",
              "      <td>-0.365325</td>\n",
              "      <td>0.092241</td>\n",
              "      <td>-0.615314</td>\n",
              "      <td>0.088564</td>\n",
              "      <td>-0.331187</td>\n",
              "      <td>0.628286</td>\n",
              "      <td>1.0</td>\n",
              "      <td>0.0</td>\n",
              "      <td>0.0</td>\n",
              "      <td>1.0</td>\n",
              "      <td>0.0</td>\n",
              "      <td>0.0</td>\n",
              "      <td>1.0</td>\n",
              "    </tr>\n",
              "    <tr>\n",
              "      <th>1</th>\n",
              "      <td>-0.252441</td>\n",
              "      <td>1.780207</td>\n",
              "      <td>1.080389</td>\n",
              "      <td>0.069644</td>\n",
              "      <td>0.016534</td>\n",
              "      <td>1.455224</td>\n",
              "      <td>2.283721</td>\n",
              "      <td>0.387711</td>\n",
              "      <td>0.580386</td>\n",
              "      <td>-2.091980</td>\n",
              "      <td>1.731709</td>\n",
              "      <td>1.873578</td>\n",
              "      <td>1.327974</td>\n",
              "      <td>1.877294</td>\n",
              "      <td>3.036771</td>\n",
              "      <td>-0.244886</td>\n",
              "      <td>-0.365325</td>\n",
              "      <td>1.244069</td>\n",
              "      <td>2.090946</td>\n",
              "      <td>0.088564</td>\n",
              "      <td>1.067384</td>\n",
              "      <td>0.628286</td>\n",
              "      <td>1.0</td>\n",
              "      <td>0.0</td>\n",
              "      <td>0.0</td>\n",
              "      <td>0.0</td>\n",
              "      <td>1.0</td>\n",
              "      <td>0.0</td>\n",
              "      <td>1.0</td>\n",
              "    </tr>\n",
              "    <tr>\n",
              "      <th>2</th>\n",
              "      <td>-0.252441</td>\n",
              "      <td>-0.248780</td>\n",
              "      <td>-0.340302</td>\n",
              "      <td>-0.099491</td>\n",
              "      <td>0.294382</td>\n",
              "      <td>1.242791</td>\n",
              "      <td>0.001751</td>\n",
              "      <td>2.300497</td>\n",
              "      <td>0.565175</td>\n",
              "      <td>-0.574262</td>\n",
              "      <td>1.731709</td>\n",
              "      <td>1.679947</td>\n",
              "      <td>2.141173</td>\n",
              "      <td>2.953928</td>\n",
              "      <td>-0.463239</td>\n",
              "      <td>0.885736</td>\n",
              "      <td>-0.365325</td>\n",
              "      <td>0.268387</td>\n",
              "      <td>-0.615314</td>\n",
              "      <td>1.377143</td>\n",
              "      <td>-0.331187</td>\n",
              "      <td>-1.591632</td>\n",
              "      <td>1.0</td>\n",
              "      <td>0.0</td>\n",
              "      <td>0.0</td>\n",
              "      <td>0.0</td>\n",
              "      <td>1.0</td>\n",
              "      <td>0.0</td>\n",
              "      <td>1.0</td>\n",
              "    </tr>\n",
              "    <tr>\n",
              "      <th>3</th>\n",
              "      <td>-0.252441</td>\n",
              "      <td>3.450780</td>\n",
              "      <td>1.080389</td>\n",
              "      <td>2.059471</td>\n",
              "      <td>-1.183771</td>\n",
              "      <td>0.393057</td>\n",
              "      <td>-1.139234</td>\n",
              "      <td>-1.525074</td>\n",
              "      <td>-1.891455</td>\n",
              "      <td>-0.827215</td>\n",
              "      <td>0.344540</td>\n",
              "      <td>0.324534</td>\n",
              "      <td>0.514776</td>\n",
              "      <td>0.800659</td>\n",
              "      <td>-0.463239</td>\n",
              "      <td>-0.244886</td>\n",
              "      <td>-0.365325</td>\n",
              "      <td>0.892664</td>\n",
              "      <td>1.188859</td>\n",
              "      <td>0.088564</td>\n",
              "      <td>1.067384</td>\n",
              "      <td>-1.591632</td>\n",
              "      <td>1.0</td>\n",
              "      <td>0.0</td>\n",
              "      <td>0.0</td>\n",
              "      <td>0.0</td>\n",
              "      <td>1.0</td>\n",
              "      <td>0.0</td>\n",
              "      <td>1.0</td>\n",
              "    </tr>\n",
              "    <tr>\n",
              "      <th>6</th>\n",
              "      <td>-0.252441</td>\n",
              "      <td>-0.297378</td>\n",
              "      <td>-0.340302</td>\n",
              "      <td>-0.179084</td>\n",
              "      <td>0.105445</td>\n",
              "      <td>-0.031810</td>\n",
              "      <td>-1.139234</td>\n",
              "      <td>0.387711</td>\n",
              "      <td>0.884613</td>\n",
              "      <td>-0.321309</td>\n",
              "      <td>-0.051793</td>\n",
              "      <td>-0.062727</td>\n",
              "      <td>1.327974</td>\n",
              "      <td>0.800659</td>\n",
              "      <td>-0.463239</td>\n",
              "      <td>-1.375509</td>\n",
              "      <td>0.275106</td>\n",
              "      <td>0.002023</td>\n",
              "      <td>-0.615314</td>\n",
              "      <td>0.088564</td>\n",
              "      <td>-0.331187</td>\n",
              "      <td>0.628286</td>\n",
              "      <td>0.0</td>\n",
              "      <td>1.0</td>\n",
              "      <td>0.0</td>\n",
              "      <td>1.0</td>\n",
              "      <td>0.0</td>\n",
              "      <td>1.0</td>\n",
              "      <td>0.0</td>\n",
              "    </tr>\n",
              "    <tr>\n",
              "      <th>...</th>\n",
              "      <td>...</td>\n",
              "      <td>...</td>\n",
              "      <td>...</td>\n",
              "      <td>...</td>\n",
              "      <td>...</td>\n",
              "      <td>...</td>\n",
              "      <td>...</td>\n",
              "      <td>...</td>\n",
              "      <td>...</td>\n",
              "      <td>...</td>\n",
              "      <td>...</td>\n",
              "      <td>...</td>\n",
              "      <td>...</td>\n",
              "      <td>...</td>\n",
              "      <td>...</td>\n",
              "      <td>...</td>\n",
              "      <td>...</td>\n",
              "      <td>...</td>\n",
              "      <td>...</td>\n",
              "      <td>...</td>\n",
              "      <td>...</td>\n",
              "      <td>...</td>\n",
              "      <td>...</td>\n",
              "      <td>...</td>\n",
              "      <td>...</td>\n",
              "      <td>...</td>\n",
              "      <td>...</td>\n",
              "      <td>...</td>\n",
              "      <td>...</td>\n",
              "    </tr>\n",
              "    <tr>\n",
              "      <th>21998</th>\n",
              "      <td>3.617336</td>\n",
              "      <td>0.261504</td>\n",
              "      <td>3.921772</td>\n",
              "      <td>-1.422726</td>\n",
              "      <td>0.294382</td>\n",
              "      <td>4.429292</td>\n",
              "      <td>1.142736</td>\n",
              "      <td>0.387711</td>\n",
              "      <td>-1.891455</td>\n",
              "      <td>-4.621511</td>\n",
              "      <td>3.911545</td>\n",
              "      <td>3.809883</td>\n",
              "      <td>2.954371</td>\n",
              "      <td>4.030563</td>\n",
              "      <td>-0.074349</td>\n",
              "      <td>-1.375509</td>\n",
              "      <td>-0.365325</td>\n",
              "      <td>0.834984</td>\n",
              "      <td>0.286772</td>\n",
              "      <td>0.088564</td>\n",
              "      <td>-0.331187</td>\n",
              "      <td>0.628286</td>\n",
              "      <td>1.0</td>\n",
              "      <td>0.0</td>\n",
              "      <td>0.0</td>\n",
              "      <td>1.0</td>\n",
              "      <td>0.0</td>\n",
              "      <td>0.0</td>\n",
              "      <td>1.0</td>\n",
              "    </tr>\n",
              "    <tr>\n",
              "      <th>21999</th>\n",
              "      <td>-0.252441</td>\n",
              "      <td>-0.194106</td>\n",
              "      <td>-0.340302</td>\n",
              "      <td>-0.009949</td>\n",
              "      <td>1.039016</td>\n",
              "      <td>-0.244243</td>\n",
              "      <td>-1.139234</td>\n",
              "      <td>0.387711</td>\n",
              "      <td>0.481513</td>\n",
              "      <td>-0.068356</td>\n",
              "      <td>-0.249960</td>\n",
              "      <td>-0.256358</td>\n",
              "      <td>-0.705022</td>\n",
              "      <td>-0.814293</td>\n",
              "      <td>-0.463239</td>\n",
              "      <td>2.016359</td>\n",
              "      <td>0.275106</td>\n",
              "      <td>0.064732</td>\n",
              "      <td>-0.615314</td>\n",
              "      <td>0.088564</td>\n",
              "      <td>-0.331187</td>\n",
              "      <td>0.628286</td>\n",
              "      <td>1.0</td>\n",
              "      <td>0.0</td>\n",
              "      <td>0.0</td>\n",
              "      <td>0.0</td>\n",
              "      <td>1.0</td>\n",
              "      <td>0.0</td>\n",
              "      <td>1.0</td>\n",
              "    </tr>\n",
              "    <tr>\n",
              "      <th>22000</th>\n",
              "      <td>-0.252441</td>\n",
              "      <td>-0.449248</td>\n",
              "      <td>-0.340302</td>\n",
              "      <td>-0.427813</td>\n",
              "      <td>2.428258</td>\n",
              "      <td>-0.031810</td>\n",
              "      <td>0.001751</td>\n",
              "      <td>0.387711</td>\n",
              "      <td>0.268554</td>\n",
              "      <td>-0.068356</td>\n",
              "      <td>-0.249960</td>\n",
              "      <td>-0.256358</td>\n",
              "      <td>-0.705022</td>\n",
              "      <td>-0.814293</td>\n",
              "      <td>-0.463239</td>\n",
              "      <td>-0.621760</td>\n",
              "      <td>-0.365325</td>\n",
              "      <td>0.222095</td>\n",
              "      <td>-0.615314</td>\n",
              "      <td>0.088564</td>\n",
              "      <td>1.067384</td>\n",
              "      <td>0.628286</td>\n",
              "      <td>0.0</td>\n",
              "      <td>1.0</td>\n",
              "      <td>0.0</td>\n",
              "      <td>0.0</td>\n",
              "      <td>1.0</td>\n",
              "      <td>0.0</td>\n",
              "      <td>1.0</td>\n",
              "    </tr>\n",
              "    <tr>\n",
              "      <th>22002</th>\n",
              "      <td>-0.252441</td>\n",
              "      <td>-0.449248</td>\n",
              "      <td>-0.340302</td>\n",
              "      <td>-0.427813</td>\n",
              "      <td>-1.372708</td>\n",
              "      <td>0.605491</td>\n",
              "      <td>1.142736</td>\n",
              "      <td>0.387711</td>\n",
              "      <td>0.466301</td>\n",
              "      <td>-0.827215</td>\n",
              "      <td>0.146373</td>\n",
              "      <td>0.130903</td>\n",
              "      <td>0.514776</td>\n",
              "      <td>0.262342</td>\n",
              "      <td>-0.463239</td>\n",
              "      <td>-0.244886</td>\n",
              "      <td>0.275106</td>\n",
              "      <td>1.867311</td>\n",
              "      <td>2.090946</td>\n",
              "      <td>0.088564</td>\n",
              "      <td>1.067384</td>\n",
              "      <td>0.628286</td>\n",
              "      <td>1.0</td>\n",
              "      <td>0.0</td>\n",
              "      <td>0.0</td>\n",
              "      <td>0.0</td>\n",
              "      <td>1.0</td>\n",
              "      <td>0.0</td>\n",
              "      <td>1.0</td>\n",
              "    </tr>\n",
              "    <tr>\n",
              "      <th>22003</th>\n",
              "      <td>-0.252441</td>\n",
              "      <td>-0.449248</td>\n",
              "      <td>-0.340302</td>\n",
              "      <td>-0.427813</td>\n",
              "      <td>-1.372708</td>\n",
              "      <td>-0.456677</td>\n",
              "      <td>0.001751</td>\n",
              "      <td>0.387711</td>\n",
              "      <td>0.915036</td>\n",
              "      <td>0.184597</td>\n",
              "      <td>-0.051793</td>\n",
              "      <td>-0.062727</td>\n",
              "      <td>0.514776</td>\n",
              "      <td>0.262342</td>\n",
              "      <td>-0.463239</td>\n",
              "      <td>3.523855</td>\n",
              "      <td>-0.365325</td>\n",
              "      <td>0.425750</td>\n",
              "      <td>-0.615314</td>\n",
              "      <td>1.377143</td>\n",
              "      <td>1.067384</td>\n",
              "      <td>-1.591632</td>\n",
              "      <td>1.0</td>\n",
              "      <td>0.0</td>\n",
              "      <td>0.0</td>\n",
              "      <td>0.0</td>\n",
              "      <td>1.0</td>\n",
              "      <td>0.0</td>\n",
              "      <td>1.0</td>\n",
              "    </tr>\n",
              "  </tbody>\n",
              "</table>\n",
              "<p>11727 rows × 29 columns</p>\n",
              "</div>"
            ],
            "text/plain": [
              "       job_level  job_duration_in_current_job_level  ...  married  notMarried\n",
              "0       3.617336                           3.499378  ...      0.0         1.0\n",
              "1      -0.252441                           1.780207  ...      0.0         1.0\n",
              "2      -0.252441                          -0.248780  ...      0.0         1.0\n",
              "3      -0.252441                           3.450780  ...      0.0         1.0\n",
              "6      -0.252441                          -0.297378  ...      1.0         0.0\n",
              "...          ...                                ...  ...      ...         ...\n",
              "21998   3.617336                           0.261504  ...      0.0         1.0\n",
              "21999  -0.252441                          -0.194106  ...      0.0         1.0\n",
              "22000  -0.252441                          -0.449248  ...      0.0         1.0\n",
              "22002  -0.252441                          -0.449248  ...      0.0         1.0\n",
              "22003  -0.252441                          -0.449248  ...      0.0         1.0\n",
              "\n",
              "[11727 rows x 29 columns]"
            ]
          },
          "metadata": {
            "tags": []
          },
          "execution_count": 289
        }
      ]
    }
  ]
}